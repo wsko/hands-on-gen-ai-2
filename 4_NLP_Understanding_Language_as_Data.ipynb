{
 "cells": [
  {
   "cell_type": "markdown",
   "metadata": {
    "id": "V2S7V0TPD9bo"
   },
   "source": [
    "# Understanding Language as Data\n",
    "\n",
    "## **Outline**\n",
    "\n",
    "\n",
    "- Introduction to NLP techniques and applications.\n",
    "- Limitations of simple vectorization techniques like Bag-of-Words.\n",
    "- Embeddings: mathematical text representation in a continuous vector space.\n",
    "- **Hands-on Lab:** Find similar documents.\n"
   ]
  },
  {
   "cell_type": "markdown",
   "metadata": {
    "id": "yGMnMAi4D9br"
   },
   "source": [
    "## **Natural Language Processing (NLP)**\n",
    "\n",
    "- Natural Language Processing (NLP) is a branch of artificial intelligence (AI).\n",
    "- It focuses on the interaction between computers and human language.\n",
    "- NLP enables computers to understand, process, and generate human language as data.\n",
    "\n",
    "\n",
    "\n"
   ]
  },
  {
   "cell_type": "markdown",
   "metadata": {
    "id": "pfwMpGcWD9bs"
   },
   "source": [
    "## **Why NLP Matters**\n",
    "\n",
    "- NLP has practical applications in various domains:\n",
    "  - Customer service chatbots\n",
    "  - Sentiment analysis of social media data\n",
    "  - Language translation\n",
    "  - Content generation\n",
    "- It bridges the gap between human communication and AI systems.\n",
    "\n",
    "\n"
   ]
  },
  {
   "cell_type": "markdown",
   "metadata": {
    "id": "KK6wVAqiD9bs"
   },
   "source": [
    "## **NLP Tasks**\n",
    "\n",
    "- NLP involves a range of tasks, including:\n",
    "  - Understanding language structure\n",
    "  - Text completion\n",
    "  - Text generation\n",
    "  - Dialogue systems (chatbots)\n",
    "  - Story generation\n",
    "- These tasks have real-world applications and are continuously evolving.\n"
   ]
  },
  {
   "cell_type": "markdown",
   "metadata": {
    "id": "dMrQ_7MZD9bs"
   },
   "source": [
    "## **Understanding Language as Data**\n",
    "\n",
    "**Tokenization Example**\n",
    "\n",
    "- Tokenization is the process of splitting text into words or phrases.\n",
    "- It's a fundamental step in NLP.\n",
    "\n",
    "**Named Entity Recognition (NER) Demo**\n",
    "\n",
    "- Visit the [spaCy NER Demo](https://explosion.ai/demos/displacy-ent).\n",
    "- Input a sentence with named entities, e.g., \"Apple Inc. is headquartered in Cupertino, California.\"\n",
    "- Click \"Visualize\" to see entity recognition.\n"
   ]
  },
  {
   "cell_type": "markdown",
   "metadata": {
    "id": "IpQWr9q1D9bt"
   },
   "source": [
    "## **Language Generation Tasks**\n",
    "\n",
    "**Text Completion**\n",
    "\n",
    "- Demonstrated by Google Search's auto-suggestion feature.\n",
    "- It suggests the next word or phrase as you type your search query.\n",
    "\n",
    "**Text Generation**\n",
    "\n",
    "- Try the \"GPT-3 Playground\" by OpenAI.\n",
    "- Enter prompts like \"Once upon a time, in a land far, far away...\"\n",
    "- Click \"Create\" to generate creative text.\n"
   ]
  },
  {
   "cell_type": "markdown",
   "metadata": {
    "id": "A9tpZdKXD9bu"
   },
   "source": [
    "## **Text Classification**\n",
    "\n",
    "* Text classification is a common task where text sequences are categorized.\n",
    "    * **Examples**:\n",
    "        * Classifying e-mails into **spam** or **no-spam**.\n",
    "        * Categorizing news articles into **sport**, **business**, **politics**, etc.\n",
    "\n",
    "* In chatbot development, it's crucial to comprehend user intent. This is termed as **intent classification**.\n",
    "    * **Example**:\n",
    "        * User says: \"How's the weather tomorrow?\"\n",
    "        * Bot understands the intent as: **Check Weather**\n",
    "\n",
    "Note: With intent classification, there can often be a multitude of categories.\n",
    "\n"
   ]
  },
  {
   "cell_type": "markdown",
   "metadata": {
    "id": "-Nf4Mbk6D9bu"
   },
   "source": [
    "## **Sentiment Analysis**\n",
    "\n",
    "* **Sentiment analysis** is typically a regression problem. The aim is to assign a numerical value representing the sentiment (how positive or negative) of a sentence.\n",
    "    * **Example**:\n",
    "        * Sentence: \"I love this product!\"\n",
    "        * Sentiment Score: +0.9 (where +1 is very positive and -1 is very negative)\n",
    "\n",
    "* An advanced form is **aspect-based sentiment analysis** (ABSA). Here, sentiment scores are given to different parts of the sentence.\n",
    "    * **Example**:\n",
    "        * Sentence: \"In this restaurant, I liked the cuisine, but the atmosphere was awful.\"\n",
    "        * Sentiments:\n",
    "            * Cuisine: +0.8\n",
    "            * Atmosphere: -0.9\n",
    "\n",
    "\n",
    "\n"
   ]
  },
  {
   "cell_type": "markdown",
   "metadata": {
    "id": "OgtqcgJgD9bu"
   },
   "source": [
    "\n",
    "## **Keyword Extraction**\n",
    "\n",
    "* **Keyword extraction** is akin to NER. However, it focuses on automatically extracting words vital to a sentence's meaning, without any prior training on specific entity types.\n",
    "    * **Example**:\n",
    "        * Sentence: \"The Great Barrier Reef is a natural wonder located off the coast of Australia.\"\n",
    "        * Extracted Keywords: **Great Barrier Reef**, **natural wonder**, **coast**, **Australia**\n",
    "\n"
   ]
  },
  {
   "cell_type": "markdown",
   "metadata": {
    "id": "wpiCddQ2D9bu"
   },
   "source": [
    "\n",
    "## **Text Clustering**\n",
    "\n",
    "* **Text clustering** involves grouping similar text sequences or sentences. It can be particularly helpful in contexts like grouping related inquiries in technical support interactions.\n",
    "    * **Example**:\n",
    "        * Tech Support Messages:\n",
    "            * \"My device won't turn on.\"\n",
    "            * \"I can't get my gadget to power up.\"\n",
    "            * \"How do I update my software?\"\n",
    "        * Clustered Results:\n",
    "            * Cluster 1: **Power issues** - \"My device won't turn on.\", \"I can't get my gadget to power up.\"\n",
    "            * Cluster 2: **Software updates** - \"How do I update my software?\"\n",
    "\n"
   ]
  },
  {
   "cell_type": "markdown",
   "metadata": {
    "id": "koh4cuxaD9bv"
   },
   "source": [
    "\n",
    "\n",
    "## **Question Answering**\n",
    "\n",
    "* **Question answering** is about a model's capability to respond to a specific query. Given a text passage and a question, the model identifies the segment of the text containing the answer or, in some cases, generates the answer text.\n",
    "    * **Example**:\n",
    "        * Passage: \"The Eiffel Tower is located in Paris and was completed in 1889.\"\n",
    "        * Question: \"When was the Eiffel Tower completed?\"\n",
    "        * Answer: \"The Eiffel Tower was completed in **1889**.\"\n",
    "\n"
   ]
  },
  {
   "cell_type": "markdown",
   "metadata": {
    "id": "Nx2XZiMbD9bv"
   },
   "source": [
    "\n",
    "## **Text Generation**\n",
    "\n",
    "* **Text Generation** pertains to a model's ability to produce novel text. It's like a classification task predicting the next character or word based on a given *text prompt*.\n",
    "    * **Example**:\n",
    "        * Prompt: \"Once upon a time,\"\n",
    "        * Generated continuation: \"in a land far away, there lived a wise old dragon.\"\n",
    "\n",
    "* Advanced models, like GPT-3, can tackle other NLP tasks such as classification via techniques like [prompt programming](https://towardsdatascience.com/software-3-0-how-prompting-will-change-the-rules-of-the-game-a982fbfe1e0) or [prompt engineering](https://medium.com/swlh/openai-gpt-3-and-prompt-engineering-dcdc2c5fcd29). See also: https://platform.openai.com/docs/guides/prompt-engineering\n",
    "\n"
   ]
  },
  {
   "cell_type": "markdown",
   "metadata": {
    "id": "TElDSyJJD9bv"
   },
   "source": [
    "\n",
    "## **Text Summarization**\n",
    "\n",
    "* **Text summarization** is about enabling a computer to \"read\" lengthy text and condense it into a short, coherent summary.\n",
    "    * **Example**:\n",
    "        * Original Text: \"The solar system consists of the Sun and the objects that orbit it. These objects include planets, dwarf planets, moons, and asteroids. The largest planet in the solar system is Jupiter, while Mercury is the smallest.\"\n",
    "        * Summarized Text: \"The solar system includes the Sun, planets, and other celestial objects. Jupiter is the largest planet, and Mercury is the smallest.\"\n",
    "\n"
   ]
  },
  {
   "cell_type": "markdown",
   "metadata": {
    "id": "ftvXOQoGD9bw"
   },
   "source": [
    "## **Machine Translation and NLP**\n",
    "\n",
    "* **Machine translation** is a blend of understanding text in one language and generating text in another.\n",
    "    * **Traditional Approach**:\n",
    "        1. Use parsers to convert a sentence into a syntax tree.\n",
    "        2. Extract higher-level semantic structures for the sentence's meaning.\n",
    "        3. Generate the translated output based on this meaning and the target language's grammar.\n",
    "    * **Modern Approach**: Use neural networks for more effective results in many NLP tasks.\n",
    "\n",
    "> Traditionally, many NLP tasks were tackled using methods like grammars. However, the paradigm has shifted towards neural network-based solutions in recent years.\n",
    "\n",
    "* **Resources**:\n",
    "    - Classical methods can be found in the [Natural Language Processing Toolkit (NLTK)](https://www.nltk.org).\n",
    "    - The [NLTK Book](https://www.nltk.org/book/) provides an online guide on solving NLP tasks using NLTK.\n",
    "\n",
    "* **Course Approach**:\n",
    "    * We will predominantly focus on Neural Networks for NLP and incorporate NLTK as required.\n",
    "\n",
    "\n"
   ]
  },
  {
   "cell_type": "markdown",
   "metadata": {
    "id": "XUoJzxWsD9bw"
   },
   "source": [
    "\n",
    "## **Neural Networks: From Images to Text**\n",
    "\n",
    "* **Tabular Data & Images**:\n",
    "    - We've explored using neural networks for fixed-size inputs like tabular data and images.\n",
    "    - Images have a predetermined input size.\n",
    "\n",
    "* **Text**:\n",
    "    - Text is a variable-length sequence, making it distinct.\n",
    "    - Textual patterns can be intricate. For instance, the distance between a subject and its negation can vary but should be recognized as a singular pattern.\n",
    "        * **Examples**:\n",
    "            - \"I do not like oranges.\"\n",
    "            - \"I do not like those big colorful tasty oranges.\"\n",
    "\n",
    "* **Solution for Text**:\n",
    "    - Traditional convolutional networks might not capture such complex patterns in text.\n",
    "    - To process language effectively, we introduce new neural architectures:\n",
    "        1. **Recurrent Networks**\n",
    "        2. **Transformers**"
   ]
  },
  {
   "cell_type": "markdown",
   "metadata": {
    "id": "xFGlo1XoD9bw"
   },
   "source": [
    "## **Representing Text**\n",
    "\n",
    "<img src=\"./images/ascii-character-map.png\" width=\"500\" align=\"center\"/>\n",
    "\n",
    "\n",
    "- To solve NLP tasks with neural networks, we need text representation as tensors.\n",
    "- Computers use encodings like ASCII or UTF-8 to map text characters to numbers.\n",
    "- Computers lack inherent understanding, and neural networks must learn meaning during training.\n",
    "- Two common approaches for text representation:\n",
    "  - character-level and word-level.\n",
    "- Regardless of approach, text is tokenized, converted to numbers, and fed into the network using one-hot encoding.\n",
    "\n",
    "\n",
    "## **N-Grams**\n",
    "\n",
    "- Precise word meanings depend on context (e.g., \"neural network\" vs. \"fishing network\").\n",
    "- Address context by considering pairs of words or even tri-grams.\n",
    "- This approach, called n-grams, increases dictionary size.\n",
    "- N-grams can also be used with character-level representation.\n",
    "\n",
    "<img src=\"./images/border.jpg\" height=\"10\" width=\"1500\" align=\"center\"/>\n",
    "\n",
    "## **Bag-of-Words and TF/IDF**\n",
    "\n",
    "\n",
    "<img src=\"./images/bow.png\" width=\"90%\"/>\n",
    "\n",
    "\n",
    "- Text classification requires fixed-size vector representation.\n",
    "- Bag of Words (BoW) combines word representations, often using word frequencies.\n",
    "- BoW can indicate text content based on word frequencies.\n",
    "- TF/IDF (Term Frequency-Inverse Document Frequency) reduces the importance of common words.\n",
    "- TF/IDF considers word frequency across the document collection.\n",
    "\n",
    "<img src=\"./images/border.jpg\" height=\"10\" width=\"1500\" align=\"center\"/>\n",
    "\n",
    "## **Semantics of Text**\n",
    "\n",
    "- Existing approaches cannot fully capture text semantics.\n",
    "- More powerful neural network models are required.\n",
    "- Explore further in attached notebooks."
   ]
  },
  {
   "cell_type": "code",
   "execution_count": null,
   "metadata": {
    "id": "3zo583uEFFlR"
   },
   "outputs": [],
   "source": [
    "!pip install datasets"
   ]
  },
  {
   "cell_type": "code",
   "execution_count": null,
   "metadata": {
    "id": "RwZfL5aL8bpi"
   },
   "outputs": [],
   "source": [
    "!pip install torchtext==0.6.0"
   ]
  },
  {
   "cell_type": "code",
   "execution_count": null,
   "metadata": {
    "id": "8A4xKnu5FIpc"
   },
   "outputs": [],
   "source": [
    "import torch\n",
    "import torchtext\n",
    "import os\n",
    "import collections\n",
    "os.makedirs('./data',exist_ok=True)"
   ]
  },
  {
   "cell_type": "code",
   "execution_count": null,
   "metadata": {
    "colab": {
     "base_uri": "https://localhost:8080/",
     "height": 301,
     "referenced_widgets": [
      "e3d445b060eb4f8891f7d695382ea648",
      "4a091a47c37247478845fe3667d03941",
      "4763dde753cb4264af603e878b2201d5",
      "17f54cb9e1594310ab6bfbcac886b5d8",
      "a40fdf8c3d4344d8ac27dc6887fa6f81",
      "cb75db9bf68d4ff4827eec45a3c59600",
      "2dc305645a84426ba5c57870eff26c35",
      "9f3296d758264a9fa3246b502efa0b45",
      "284e63d0cccd45b4b7e56fc128afd97a",
      "69fdd8b022564d829cf2fae7b51c4472",
      "83c63eeca8404503938df90020bf1530",
      "5dbb634d0ab0416b9a2f88b9c9e630fc",
      "20a2070a0df54c9b9265d222c8780496",
      "3399122cae9b4244aae488f0f6c398b7",
      "6c828ef63b0e4c08973c7c00c7f002fc",
      "3b6c36ef4b944e82b9c0e6ba236e3304",
      "51014ee7665f473e92b8b1cd4a7df19c",
      "ddb29bfa2050463aab3f8381140d4789",
      "c66f26b9dee64e8f930563efe460db39",
      "8f8e21519727497a91de4294d2da9f51",
      "768dff1786b4492cb16a8374c6692631",
      "1752cd7ce772408fb4ea3b40b4180253",
      "4624cde37b6c4b6b9ac917d1c5464b71",
      "0775b4fe5c1a4219a0d2c9706a966cf5",
      "36be319ca6ec4f0f85e56156828a5435",
      "9e0ca6fe610d46fca436e86586592598",
      "144f276e3d5a422caf962df3cb778aa8",
      "827f139b9fbb4dc1bd16aacd088b03f7",
      "c9d55118eea84523b0ff3c9b50a239ee",
      "66a89485e10745f194138ca9cb64a0aa",
      "56a0dbe8600a4cbbb36b63d76df1242b",
      "0bf75a2a26ba413bb7a3ede38f2923ce",
      "21af3b6b32694a3496ca2cb2c75cb2bb",
      "e445cbd208c3460396b00a0e77c8637a",
      "ba74230812cd4a788a101ab84bae6ecf",
      "66badf00ef964ca4a11a4dccd1ee23e5",
      "df718b4426dd4687b6f0a17a4e425f6a",
      "03b0ac596a884e75b11d857d319fcde9",
      "56f163f036284ac0bef03e114c8ebcf2",
      "a177f565e8c24fdf8e560a2a3a8bef79",
      "28818abcc1354ed98f1609edb398d28d",
      "dca38a8bdb844677bf80f43c694b0dc2",
      "29435b2495824acab3b22d332802906a",
      "d23c2f8789ba42108d1415259e907679",
      "1b3030b93ac84476ba6e13d656d027d8",
      "08eba2f5d26c4566bde71760c79290d8",
      "b3cddb092fb841839c1389ae6c4ecda9",
      "04a89d7c3db14b0f9bad8b4d0b80adc4",
      "0b5a24bd4bd446adac5399bc16b50ce8",
      "492065d00a39493fb0924951cd7a0de8",
      "eafc0700a096441fa43bdfa5c466bd9e",
      "6e386f4001774ed7bdac7aa5d23a59f8",
      "ead0a69321274d8990239530bce6d46d",
      "9dfab5a44e944742a2ce2ca02c1f25df",
      "aeb50624a0424eb6962faf350aee7c68"
     ]
    },
    "id": "lYBmIRtiFERD",
    "outputId": "208424cd-0805-489f-d2d0-50a34f1d2f33"
   },
   "outputs": [],
   "source": [
    "from datasets import load_dataset\n",
    "\n",
    "ag_news_dataset = load_dataset('ag_news')\n",
    "\n",
    "# Access training and test splits\n",
    "train_dataset = ag_news_dataset['train']\n",
    "test_dataset = ag_news_dataset['test']"
   ]
  },
  {
   "cell_type": "code",
   "execution_count": null,
   "metadata": {
    "id": "PmW3tisAFPOF"
   },
   "outputs": [],
   "source": [
    "classes = ['World', 'Sports', 'Business', 'Sci/Tech']"
   ]
  },
  {
   "cell_type": "code",
   "execution_count": null,
   "metadata": {
    "colab": {
     "base_uri": "https://localhost:8080/"
    },
    "id": "pvpPvYfBD9bz",
    "outputId": "4061d93b-592f-4001-df4f-056d4ab171d5"
   },
   "outputs": [],
   "source": [
    "list(train_dataset)[0]"
   ]
  },
  {
   "cell_type": "markdown",
   "metadata": {
    "id": "VkyVdL_WD9b0"
   },
   "source": [
    "Because datasets are iterators, if we want to use the data multiple times we need to convert it to list:"
   ]
  },
  {
   "cell_type": "code",
   "execution_count": null,
   "metadata": {
    "id": "g4s87GIQD9b0"
   },
   "outputs": [],
   "source": [
    "train_dataset = list(train_dataset)\n",
    "test_dataset = list(test_dataset)"
   ]
  },
  {
   "cell_type": "code",
   "execution_count": null,
   "metadata": {
    "colab": {
     "base_uri": "https://localhost:8080/"
    },
    "id": "kWeaPtJeD9b0",
    "outputId": "7a9b4d38-2790-4455-9c7c-9b23ab3fc986"
   },
   "outputs": [],
   "source": [
    "tokenizer = torchtext.data.utils.get_tokenizer('basic_english')\n",
    "tokenizer('Magnetic resonance imaging, or MRI, is a noninvasive medical imaging test that produces detailed images of almost every internal structure in the human body, including the organs, bones, muscles and blood vessels.')\n"
   ]
  },
  {
   "cell_type": "code",
   "execution_count": null,
   "metadata": {
    "colab": {
     "base_uri": "https://localhost:8080/"
    },
    "id": "1iDWQEtQsYbi",
    "outputId": "65954682-0237-42c7-bc7b-fd9f1aff7b73"
   },
   "outputs": [],
   "source": [
    "test_phrase = \"The seeds of the Coffea plant's fruits are separated to produce unroasted green coffee beans. The beans are roasted and then ground into fine particles typically steeped in hot water before being filtered out, producing a cup of coffee. \"\n",
    "print(test_phrase)"
   ]
  },
  {
   "cell_type": "code",
   "execution_count": null,
   "metadata": {
    "colab": {
     "base_uri": "https://localhost:8080/"
    },
    "id": "feV_zyG4D9b1",
    "outputId": "11b4fa8a-3579-4a81-f46a-fcfc3031c46f"
   },
   "outputs": [],
   "source": [
    "tokenizer(test_phrase)\n"
   ]
  },
  {
   "cell_type": "markdown",
   "metadata": {
    "id": "cDfSFNoNsorB"
   },
   "source": [
    "- Tokenize using NLTK"
   ]
  },
  {
   "cell_type": "code",
   "execution_count": null,
   "metadata": {
    "colab": {
     "base_uri": "https://localhost:8080/"
    },
    "id": "7_rwMkepsn0y",
    "outputId": "fb4816ca-d8a2-4b55-994a-9afb7d9cd86a"
   },
   "outputs": [],
   "source": [
    "import nltk\n",
    "nltk.download('punkt')\n",
    "from nltk.tokenize import word_tokenize\n",
    "\n",
    "tokens = word_tokenize(test_phrase)\n",
    "\n",
    "print(tokens)"
   ]
  },
  {
   "cell_type": "markdown",
   "metadata": {
    "id": "2PzDxItIsy5B"
   },
   "source": [
    "- tokenize using SpaCy"
   ]
  },
  {
   "cell_type": "code",
   "execution_count": null,
   "metadata": {
    "colab": {
     "base_uri": "https://localhost:8080/"
    },
    "id": "IoM16kNFsyMR",
    "outputId": "9b4198cb-10cc-4577-8a8f-d8edeb451ae3"
   },
   "outputs": [],
   "source": [
    "import spacy\n",
    "\n",
    "nlp = spacy.load(\"en_core_web_sm\")\n",
    "doc = nlp(\"test_phrase\")\n",
    "\n",
    "tokens = [token.text for token in doc]\n",
    "\n",
    "print(tokens)"
   ]
  },
  {
   "cell_type": "markdown",
   "metadata": {
    "id": "uvqCLQvGuCzR"
   },
   "source": [
    "- Compute TFIDF"
   ]
  },
  {
   "cell_type": "code",
   "execution_count": null,
   "metadata": {
    "colab": {
     "base_uri": "https://localhost:8080/",
     "height": 1000
    },
    "id": "PSHUlt1Jt-kz",
    "outputId": "5b677006-dca5-4810-96a9-b3657039c80a"
   },
   "outputs": [],
   "source": [
    "from sklearn.feature_extraction.text import TfidfVectorizer\n",
    "\n",
    "# The given phrase\n",
    "text = [\"The seeds of the Coffea plant's fruits are separated to produce unroasted green coffee beans. The beans are roasted and then ground into fine particles typically steeped in hot water before being filtered out, producing a cup of coffee.\"]\n",
    "\n",
    "# Initialize the TF-IDF Vectorizer\n",
    "vectorizer = TfidfVectorizer()\n",
    "\n",
    "# Fit and transform the text data\n",
    "tfidf_matrix = vectorizer.fit_transform(text)\n",
    "\n",
    "# Get the feature names (words)\n",
    "feature_names = vectorizer.get_feature_names_out()\n",
    "\n",
    "# Convert the TF-IDF matrix to a pandas DataFrame for better readability\n",
    "import pandas as pd\n",
    "df_tfidf = pd.DataFrame(tfidf_matrix.T.toarray(), index=feature_names, columns=[\"TF-IDF\"])\n",
    "\n",
    "# Display the TF-IDF scores\n",
    "df_tfidf.sort_values(by=[\"TF-IDF\"], ascending=False)\n"
   ]
  },
  {
   "cell_type": "code",
   "execution_count": null,
   "metadata": {
    "colab": {
     "base_uri": "https://localhost:8080/"
    },
    "id": "pSpBiJUYD9b1",
    "outputId": "06158720-124e-45cd-c1ae-954dad2bdc3f"
   },
   "outputs": [],
   "source": [
    "counter = collections.Counter()\n",
    "for c in train_dataset:\n",
    "    counter.update(tokenizer(c['text']))\n",
    "vocab = torchtext.vocab.Vocab(counter, min_freq=1)\n",
    "len(vocab)"
   ]
  },
  {
   "cell_type": "code",
   "execution_count": null,
   "metadata": {
    "id": "6e_jQz_jqJx7"
   },
   "outputs": [],
   "source": [
    "## vocab.freqs"
   ]
  },
  {
   "cell_type": "code",
   "execution_count": null,
   "metadata": {
    "colab": {
     "base_uri": "https://localhost:8080/"
    },
    "id": "s0XQxliI9BTL",
    "outputId": "1d70018a-c3bb-42be-c80d-41e3dc3937ca"
   },
   "outputs": [],
   "source": [
    "train_dataset[:10]"
   ]
  },
  {
   "cell_type": "markdown",
   "metadata": {
    "id": "zGPVyPABD9b1"
   },
   "source": [
    "Using vocabulary, we can easily encode out tokenized string into a set of numbers:"
   ]
  },
  {
   "cell_type": "code",
   "execution_count": null,
   "metadata": {
    "colab": {
     "base_uri": "https://localhost:8080/"
    },
    "id": "TOzYhbUqD9b1",
    "outputId": "c6edf475-f8e5-4493-b023-9f4e699be92c"
   },
   "outputs": [],
   "source": [
    "vocab_size = len(vocab)\n",
    "print(f\"Vocab size {vocab_size}\")\n",
    "\n",
    "stoi = vocab.stoi # convert tokens to indices\n",
    "\n",
    "def encode(x):\n",
    "    return [stoi[s] for s in tokenizer(x)]\n",
    "\n",
    "encode('I love to play with my words')"
   ]
  },
  {
   "cell_type": "code",
   "execution_count": null,
   "metadata": {
    "id": "RGfCMFEPJ6jC"
   },
   "outputs": [],
   "source": [
    "from collections import Counter\n",
    "\n",
    "# Assuming you have your text data pre-processed (tokenized)\n",
    "all_tokens = []  # List to store all tokens\n",
    "for sample in train_dataset:  # Iterate through training data (adjust for test if needed)\n",
    "    text = sample['text']  # Access the text field (might differ based on dataset format)\n",
    "    tokens = text.split()  # Tokenize the text\n",
    "    all_tokens.extend(tokens)\n",
    "\n",
    "# Create a counter to track word frequencies\n",
    "counter = Counter(all_tokens)\n",
    "\n",
    "# Define a minimum frequency threshold (optional)\n",
    "min_freq = 5  # Words appearing less than 5 times can be excluded\n",
    "\n",
    "# Filter words based on frequency (optional)\n",
    "filtered_words = [word for word, count in counter.items() if count >= min_freq]\n",
    "\n",
    "# Create a dictionary mapping words to unique integer IDs (vocabulary)\n",
    "word2idx = {word: i for i, word in enumerate(filtered_words)}"
   ]
  },
  {
   "cell_type": "code",
   "execution_count": null,
   "metadata": {
    "colab": {
     "base_uri": "https://localhost:8080/",
     "height": 206
    },
    "id": "IkEzpS-6ABcv",
    "outputId": "ee746ca6-bc36-467a-ed9b-a70fdb85595a"
   },
   "outputs": [],
   "source": [
    "import pandas as pd\n",
    "pd.DataFrame({\"key\":word2idx.keys(), \"index\":word2idx.values()}).head()"
   ]
  },
  {
   "cell_type": "code",
   "execution_count": null,
   "metadata": {
    "colab": {
     "base_uri": "https://localhost:8080/"
    },
    "id": "sM-iqOynBc7R",
    "outputId": "b771fb1f-1012-4271-b87c-389540856fc0"
   },
   "outputs": [],
   "source": [
    "vocab"
   ]
  },
  {
   "cell_type": "markdown",
   "metadata": {
    "id": "hnK7ZtvvD9b2"
   },
   "source": [
    "<img src=\"https://github.com/wsko/Generative_AI/blob/main/Day-3/images/border.jpg?raw=1\" height=\"10\" width=\"1500\" align=\"center\"/>"
   ]
  },
  {
   "cell_type": "markdown",
   "metadata": {
    "id": "zw1mYijBD9b2"
   },
   "source": [
    "- BoW is a widely used traditional vector representation in text analysis.\n",
    "- Each word is associated with a vector index.\n",
    "- Vector elements store the count of word occurrences in a given document.\n",
    "![Image showing how a bag of words vector representation is represented in memory.](./images/bag-of-words-example.png)"
   ]
  },
  {
   "cell_type": "code",
   "execution_count": null,
   "metadata": {
    "colab": {
     "base_uri": "https://localhost:8080/"
    },
    "id": "KdBcauO6D9b2",
    "outputId": "37f8959f-83e4-48f2-c54c-4c111aa69082"
   },
   "outputs": [],
   "source": [
    "from sklearn.feature_extraction.text import CountVectorizer\n",
    "vectorizer = CountVectorizer()\n",
    "corpus = [\n",
    "        'I like hot dogs.',\n",
    "        'The dog ran fast.',\n",
    "        'Its hot outside.',\n",
    "    ]\n",
    "vectorizer.fit_transform(corpus)\n",
    "vectorizer.transform(['My dog likes hot dogs on a hot day.']).toarray()"
   ]
  },
  {
   "cell_type": "code",
   "execution_count": null,
   "metadata": {
    "id": "epbO7KXGCtuM"
   },
   "outputs": [],
   "source": [
    "train_corpus = [item['text'] for item in train_dataset]"
   ]
  },
  {
   "cell_type": "code",
   "execution_count": null,
   "metadata": {
    "colab": {
     "background_save": true
    },
    "id": "zjPniw7JDNr2",
    "outputId": "45b19597-593f-44a8-a7b9-dcb5c0688f23"
   },
   "outputs": [],
   "source": [
    "vectorizer = CountVectorizer()\n",
    "vectorizer.fit_transform(train_corpus)\n",
    "vectorizer.transform(['My dog likes hot dogs on a hot day.']).toarray()"
   ]
  },
  {
   "cell_type": "code",
   "execution_count": null,
   "metadata": {
    "colab": {
     "background_save": true
    },
    "id": "D4GfX0u3D1K-",
    "outputId": "a325dbd3-14ea-479c-96db-315d496c2ca3"
   },
   "outputs": [],
   "source": [
    "X_counts = vectorizer.fit_transform(train_corpus[:1000])\n",
    "#TfidfTransformer: Transform the document-term matrix to a TF-IDF matrix:\n",
    "\n",
    "from sklearn.feature_extraction.text import TfidfTransformer\n",
    "tfidf_transformer = TfidfTransformer()\n",
    "X_tfidf = tfidf_transformer.fit_transform(X_counts)\n",
    "#Convert to Array (Optional): Convert the sparse matrix to a dense array for easier inspection (optional):\n",
    "\n",
    "tfidf_matrix = X_tfidf.toarray()\n",
    "tfidf_matrix.shape"
   ]
  },
  {
   "cell_type": "markdown",
   "metadata": {
    "id": "WDL65in8D9b2"
   },
   "source": [
    "<img src=\"./images/border.jpg\" height=\"10\" width=\"1500\" align=\"center\"/>"
   ]
  },
  {
   "cell_type": "markdown",
   "metadata": {
    "id": "6UFzmoN9D9b3"
   },
   "source": [
    "## **Word Embeddings**\n",
    "\n",
    "- When training classifiers based on BoW or TF/IDF, we work with high-dimensional one-hot encoded vectors of length `vocab_size`.\n",
    "- One-hot encoding is memory-inefficient and treats words independently, lacking semantic similarity.\n",
    "\n",
    "\n",
    "![Embedding and Semantic Similarity](./images/NLP1.webp)\n",
    "\n",
    "- **Embedding** is the idea of representing words as lower-dimensional dense vectors that capture semantic meaning.\n",
    "- It reduces the dimensionality of word vectors.\n",
    "\n",
    "- The embedding layer takes a word as input and produces an output vector of specified `embedding_size`.\n",
    "- Unlike one-hot encoding, it takes a word number as input, avoiding large one-hot-encoded vectors.\n",
    "\n",
    "- Using an embedding layer as the first layer in a classifier network transforms it from a bag-of-words model to an **embedding bag** model.\n",
    "- In this model, words are converted into embeddings, and an aggregate function (e.g., `sum`, `average`, `max`) is applied to these embeddings.\n",
    "\n",
    "![Embedding Classifier Example](./images/embedding-classifier-example.png)\n"
   ]
  },
  {
   "cell_type": "markdown",
   "metadata": {
    "id": "f96qoWShD9b3"
   },
   "source": [
    "## **Word Embeddings**\n",
    "\n",
    "- Early NLP models used word embeddings.\n",
    "- Each word mapped to a fixed-size vector.\n",
    "- Word2Vec, GloVe, and FastText were popular methods.\n",
    "\n",
    "\n",
    "- Word2Vec\n",
    "  - Word2Vec is a popular word embedding technique in natural language processing (NLP).\n",
    "  - It transforms words into dense vectors in a continuous vector space.\n",
    "  - Two main approaches: Skip-gram and Continuous Bag of Words (CBOW).\n",
    "  - Word2Vec captures semantic relationships and context between words.\n",
    "  - Used for various NLP tasks, including text classification, sentiment analysis, and recommendation systems."
   ]
  },
  {
   "cell_type": "code",
   "execution_count": null,
   "metadata": {
    "colab": {
     "base_uri": "https://localhost:8080/"
    },
    "id": "tI5XiA9sD9b3",
    "outputId": "dfcc6088-2ca2-4d8c-94b1-267a2f63c987"
   },
   "outputs": [],
   "source": [
    "%pip install gensim"
   ]
  },
  {
   "cell_type": "code",
   "execution_count": null,
   "metadata": {
    "colab": {
     "base_uri": "https://localhost:8080/"
    },
    "id": "Pk_Udt-9D9b3",
    "outputId": "25eb79ef-4f77-41c6-a9cd-19226ce73c18"
   },
   "outputs": [],
   "source": [
    "# Import necessary libraries\n",
    "from gensim.models import Word2Vec\n",
    "\n",
    "# Sample sentences for training the Word2Vec model\n",
    "sentences = [\n",
    "    [\"machine\", \"learning\", \"is\", \"awesome\"],\n",
    "    [\"word\", \"embeddings\", \"capture\", \"context\"],\n",
    "    [\"natural\", \"language\", \"processing\", \"rocks\"]\n",
    "]\n",
    "\n",
    "# Train a Word2Vec model\n",
    "model = Word2Vec(sentences, vector_size=10, window=5, min_count=1, sg=0)\n",
    "\n",
    "# Get the word vector for a specific word\n",
    "word_vector = model.wv['learning']\n",
    "print(\"Vector for 'learning':\\n\", word_vector)\n",
    "\n",
    "# Find similar words to a given word\n",
    "similar_words = model.wv.most_similar('awesome', topn=2)\n",
    "print(\"Words similar to 'processing':\\n\", similar_words)\n"
   ]
  },
  {
   "cell_type": "markdown",
   "metadata": {
    "id": "qFN1kVsv_Fi7"
   },
   "source": [
    "## Example: Quantify Word Similarity Using Word2Vec Embeddings"
   ]
  },
  {
   "cell_type": "code",
   "execution_count": null,
   "metadata": {
    "id": "C098LA3u-vPr"
   },
   "outputs": [],
   "source": [
    "import pandas as pd\n",
    "import numpy as np\n",
    "import string\n",
    "import re\n",
    "from sklearn.feature_extraction.text import CountVectorizer, TfidfTransformer, TfidfVectorizer\n",
    "from sklearn.metrics.pairwise import cosine_similarity\n",
    "\n",
    "\n",
    "import gensim\n",
    "from gensim.models import Word2Vec\n",
    "from sklearn.manifold import TSNE\n",
    "import matplotlib.pyplot as plt\n",
    "\n",
    "\n",
    "import nltk\n",
    "from nltk.corpus import stopwords\n",
    "from nltk.stem.porter import PorterStemmer\n"
   ]
  },
  {
   "cell_type": "code",
   "execution_count": null,
   "metadata": {
    "colab": {
     "base_uri": "https://localhost:8080/",
     "height": 363
    },
    "id": "3U9edJyM-en9",
    "outputId": "b7d476e5-42f2-4c1f-d6de-e6e2caf5fb95"
   },
   "outputs": [],
   "source": [
    "data = pd.read_csv('https://raw.githubusercontent.com/wsko/Statistics/main/complaints02.csv')\n",
    "data.head(10)"
   ]
  },
  {
   "cell_type": "code",
   "execution_count": null,
   "metadata": {
    "colab": {
     "base_uri": "https://localhost:8080/"
    },
    "id": "TmIYDuQH_Aqc",
    "outputId": "2d7a8029-6b2b-49e8-b67c-f4015006279d"
   },
   "outputs": [],
   "source": [
    "# Cleaning the raw text\n",
    "documents = data.iloc[:, 0].tolist()\n",
    "\n",
    "nltk.download('stopwords')\n",
    "nltk.download('punkt')\n",
    "\n",
    "\n",
    "# Initialize stop words and stemmer\n",
    "stop_words = set(stopwords.words('english')).union({\"xxxx\", \"xxxxxxxx\"})## additional/special stop words\n",
    "stemmer = PorterStemmer()\n",
    "\n",
    "# Function to clean text\n",
    "def clean_text(doc):\n",
    "    # Convert to lower case\n",
    "    doc = doc.lower()\n",
    "    # Remove punctuation\n",
    "    doc = doc.translate(str.maketrans('', '', string.punctuation))\n",
    "    # Remove stop words and perform stemming\n",
    "    doc = ' '.join([stemmer.stem(word) for word in nltk.word_tokenize(doc) if word not in stop_words])\n",
    "    return doc\n",
    "\n",
    "# Clean the documents\n",
    "cleaned_documents = [clean_text(doc) for doc in documents]\n",
    "\n",
    "data['clean'] = [clean_text(doc) for doc in documents]\n",
    "print(data.loc[1]['Consumer_complaint'])\n",
    "print('__________')\n",
    "print(data.loc[1]['clean'])"
   ]
  },
  {
   "cell_type": "code",
   "execution_count": null,
   "metadata": {
    "id": "UP-93Kf5_Bw0"
   },
   "outputs": [],
   "source": [
    "# Train Word2Vec model\n",
    "word2vec_model = Word2Vec(sentences=[doc.split() for doc in cleaned_documents],\n",
    "                          vector_size=100, window=5, min_count=5)"
   ]
  },
  {
   "cell_type": "code",
   "execution_count": null,
   "metadata": {
    "colab": {
     "base_uri": "https://localhost:8080/"
    },
    "id": "e8MGyXdP_IqE",
    "outputId": "320995b5-f20f-4fd8-cbeb-292707df9b87"
   },
   "outputs": [],
   "source": [
    "words = list(word2vec_model.wv.index_to_key)[:100]\n",
    "list(word2vec_model.wv.index_to_key)[:10]"
   ]
  },
  {
   "cell_type": "code",
   "execution_count": null,
   "metadata": {
    "id": "P_cNflTT_JcM"
   },
   "outputs": [],
   "source": [
    "## visualize word similarity for the top 100 tokens (by the frequency)\n",
    "word_embeddings = word2vec_model.wv[words]\n",
    "#word_embeddings"
   ]
  },
  {
   "cell_type": "code",
   "execution_count": null,
   "metadata": {
    "colab": {
     "base_uri": "https://localhost:8080/",
     "height": 872
    },
    "id": "SpCUqSE1_Rfk",
    "outputId": "3c2c8f59-be33-4867-98b2-1ecc6d7e45ad"
   },
   "outputs": [],
   "source": [
    "# Reduce dimensions using t-SNE\n",
    "tsne = TSNE(n_components=2, random_state=42)\n",
    "word_embeddings_2d = tsne.fit_transform(word_embeddings)[:100,:]\n",
    "\n",
    "# Plot the embeddings\n",
    "plt.figure(figsize=(14, 10))\n",
    "plt.scatter(word_embeddings_2d[:, 0], word_embeddings_2d[:, 1], edgecolors='k', c='r')\n",
    "\n",
    "for i, word in enumerate(words):\n",
    "    plt.annotate(word, xy=(word_embeddings_2d[i, 0], word_embeddings_2d[i, 1]))\n",
    "\n",
    "plt.title('2D Word Embeddings Visualization')\n",
    "plt.xlabel('Dimension 1')\n",
    "plt.ylabel('Dimension 2')\n",
    "plt.show()"
   ]
  },
  {
   "cell_type": "markdown",
   "metadata": {
    "id": "5SIWNM63D9b4"
   },
   "source": [
    "\n",
    "## **Limitations of Word Embeddings**\n",
    "  - Fixed-length vectors don't capture context well.\n",
    "  - Struggle with polysemy (multiple meanings).\n",
    "  - Limited understanding of word relationships.\n",
    "\n",
    "## **Transformers**\n",
    "\n",
    "  - The Transformer architecture revolutionized NLP.\n",
    "  - Introduced self-attention mechanisms.\n",
    "  - Captures context and dependencies effectively.\n",
    "\n",
    "\n"
   ]
  },
  {
   "cell_type": "markdown",
   "metadata": {
    "id": "sA2QGBYImL-C"
   },
   "source": [
    "# **Lab:** Find similar documents\n",
    "\n",
    "\n",
    "- In the Complaints dataset, find the most similar and most dissimiar customer complaints using word2Vec embedding"
   ]
  },
  {
   "cell_type": "code",
   "execution_count": null,
   "metadata": {
    "id": "eBlTBq8TBSEh"
   },
   "outputs": [],
   "source": []
  },
  {
   "cell_type": "code",
   "execution_count": null,
   "metadata": {
    "id": "DrAZAKcxBSHz"
   },
   "outputs": [],
   "source": []
  },
  {
   "cell_type": "code",
   "execution_count": null,
   "metadata": {
    "id": "Evx9enUkBSKz"
   },
   "outputs": [],
   "source": []
  },
  {
   "cell_type": "code",
   "execution_count": null,
   "metadata": {
    "id": "cDzt_lj_BSOz"
   },
   "outputs": [],
   "source": []
  },
  {
   "cell_type": "code",
   "execution_count": null,
   "metadata": {
    "id": "hKHIKsPrBSRh"
   },
   "outputs": [],
   "source": []
  },
  {
   "cell_type": "code",
   "execution_count": null,
   "metadata": {
    "id": "iUZbO_36BSUu"
   },
   "outputs": [],
   "source": []
  },
  {
   "cell_type": "code",
   "execution_count": null,
   "metadata": {
    "colab": {
     "base_uri": "https://localhost:8080/"
    },
    "id": "n_-tkMasm_E_",
    "outputId": "d354ee7c-4601-4184-8608-3665f8a7f491"
   },
   "outputs": [],
   "source": [
    "def document_vector(doc):\n",
    "    # Remove out-of-vocabulary words\n",
    "    ##(keep in mind that if you train w2v on a training set, your test set may contain new words)\n",
    "    doc = [word for word in doc if word in word2vec_model.wv.key_to_index]\n",
    "    # Calculate the mean of word vectors\n",
    "    ## to represent a document as a single vector (a row in a table)\n",
    "    return np.mean(word2vec_model.wv[doc], axis=0)\n",
    "\n",
    "# Create feature vectors for each document\n",
    "X_embed = np.array([document_vector(doc) for doc in cleaned_documents])\n",
    "X_embed.shape"
   ]
  },
  {
   "cell_type": "markdown",
   "metadata": {
    "id": "b3b06cce"
   },
   "source": [
    "### Find similar and different documents"
   ]
  },
  {
   "cell_type": "code",
   "execution_count": null,
   "metadata": {
    "colab": {
     "base_uri": "https://localhost:8080/",
     "height": 35
    },
    "id": "06a42d50",
    "outputId": "1b603b42-8dca-4a15-aa91-35dc65dfbfa2"
   },
   "outputs": [],
   "source": [
    "data['Consumer_complaint'][0]"
   ]
  },
  {
   "cell_type": "code",
   "execution_count": null,
   "metadata": {
    "colab": {
     "base_uri": "https://localhost:8080/",
     "height": 87
    },
    "id": "2e439efa",
    "outputId": "f86bb551-babb-4b2f-bceb-e9a7a7e5f17f"
   },
   "outputs": [],
   "source": [
    "data['Consumer_complaint'][1]"
   ]
  },
  {
   "cell_type": "code",
   "execution_count": null,
   "metadata": {
    "colab": {
     "base_uri": "https://localhost:8080/"
    },
    "id": "edf2d76c",
    "outputId": "6e8f79c3-edfa-48d8-fb95-cf249784cf14"
   },
   "outputs": [],
   "source": [
    "cosine_similarity(X_embed[[0,1],:])[1,0]"
   ]
  },
  {
   "cell_type": "code",
   "execution_count": null,
   "metadata": {
    "id": "88fbfe5c"
   },
   "outputs": [],
   "source": [
    "#compute the similarities between complaint [0] and other complaints:\n",
    "similarity = []\n",
    "for i in range(1,X_embed.shape[0]):\n",
    "    similarity.append(cosine_similarity(X_embed[[0,i],:])[1,0])"
   ]
  },
  {
   "cell_type": "code",
   "execution_count": null,
   "metadata": {
    "id": "2231cc35",
    "outputId": "8469a535-978f-475d-9bdf-41dfe9ce0154"
   },
   "outputs": [],
   "source": [
    "## find the most dissimilar complaint to complaint [0]\n",
    "(np.array(similarity).argmin(), similarity[np.array(similarity).argmin()])"
   ]
  },
  {
   "cell_type": "code",
   "execution_count": null,
   "metadata": {
    "id": "3cf711dd",
    "outputId": "7374dbad-e665-4918-c440-3f5bcf7f1444"
   },
   "outputs": [],
   "source": [
    "data['Consumer_complaint'][np.array(similarity).argmin()]"
   ]
  },
  {
   "cell_type": "code",
   "execution_count": null,
   "metadata": {
    "id": "6b6147ad",
    "outputId": "820ea0fb-c844-4f78-dce0-1184c1196b2c"
   },
   "outputs": [],
   "source": [
    "## find the most similar complaints\n",
    "(np.array(similarity[1:]).argmax(), similarity[np.array(similarity[1:]).argmax()])"
   ]
  },
  {
   "cell_type": "code",
   "execution_count": null,
   "metadata": {
    "id": "737e9821",
    "outputId": "f59f633a-d676-4782-f6d5-0d124b02c366",
    "scrolled": false
   },
   "outputs": [],
   "source": [
    "data['Consumer_complaint'][np.array(similarity[1:]).argmax()]"
   ]
  },
  {
   "cell_type": "code",
   "execution_count": null,
   "metadata": {
    "id": "Fypyd2PEmQYZ"
   },
   "outputs": [],
   "source": []
  }
 ],
 "metadata": {
  "colab": {
   "provenance": []
  },
  "kernelspec": {
   "display_name": "Python 3 (ipykernel)",
   "language": "python",
   "name": "python3"
  },
  "language_info": {
   "codemirror_mode": {
    "name": "ipython",
    "version": 3
   },
   "file_extension": ".py",
   "mimetype": "text/x-python",
   "name": "python",
   "nbconvert_exporter": "python",
   "pygments_lexer": "ipython3",
   "version": "3.7.9"
  },
  "widgets": {
   "application/vnd.jupyter.widget-state+json": {
    "03b0ac596a884e75b11d857d319fcde9": {
     "model_module": "@jupyter-widgets/base",
     "model_module_version": "1.2.0",
     "model_name": "LayoutModel",
     "state": {
      "_model_module": "@jupyter-widgets/base",
      "_model_module_version": "1.2.0",
      "_model_name": "LayoutModel",
      "_view_count": null,
      "_view_module": "@jupyter-widgets/base",
      "_view_module_version": "1.2.0",
      "_view_name": "LayoutView",
      "align_content": null,
      "align_items": null,
      "align_self": null,
      "border": null,
      "bottom": null,
      "display": null,
      "flex": null,
      "flex_flow": null,
      "grid_area": null,
      "grid_auto_columns": null,
      "grid_auto_flow": null,
      "grid_auto_rows": null,
      "grid_column": null,
      "grid_gap": null,
      "grid_row": null,
      "grid_template_areas": null,
      "grid_template_columns": null,
      "grid_template_rows": null,
      "height": null,
      "justify_content": null,
      "justify_items": null,
      "left": null,
      "margin": null,
      "max_height": null,
      "max_width": null,
      "min_height": null,
      "min_width": null,
      "object_fit": null,
      "object_position": null,
      "order": null,
      "overflow": null,
      "overflow_x": null,
      "overflow_y": null,
      "padding": null,
      "right": null,
      "top": null,
      "visibility": null,
      "width": null
     }
    },
    "04a89d7c3db14b0f9bad8b4d0b80adc4": {
     "model_module": "@jupyter-widgets/controls",
     "model_module_version": "1.5.0",
     "model_name": "HTMLModel",
     "state": {
      "_dom_classes": [],
      "_model_module": "@jupyter-widgets/controls",
      "_model_module_version": "1.5.0",
      "_model_name": "HTMLModel",
      "_view_count": null,
      "_view_module": "@jupyter-widgets/controls",
      "_view_module_version": "1.5.0",
      "_view_name": "HTMLView",
      "description": "",
      "description_tooltip": null,
      "layout": "IPY_MODEL_9dfab5a44e944742a2ce2ca02c1f25df",
      "placeholder": "​",
      "style": "IPY_MODEL_aeb50624a0424eb6962faf350aee7c68",
      "value": " 7600/7600 [00:00&lt;00:00, 102382.57 examples/s]"
     }
    },
    "0775b4fe5c1a4219a0d2c9706a966cf5": {
     "model_module": "@jupyter-widgets/controls",
     "model_module_version": "1.5.0",
     "model_name": "HTMLModel",
     "state": {
      "_dom_classes": [],
      "_model_module": "@jupyter-widgets/controls",
      "_model_module_version": "1.5.0",
      "_model_name": "HTMLModel",
      "_view_count": null,
      "_view_module": "@jupyter-widgets/controls",
      "_view_module_version": "1.5.0",
      "_view_name": "HTMLView",
      "description": "",
      "description_tooltip": null,
      "layout": "IPY_MODEL_827f139b9fbb4dc1bd16aacd088b03f7",
      "placeholder": "​",
      "style": "IPY_MODEL_c9d55118eea84523b0ff3c9b50a239ee",
      "value": "Downloading data: 100%"
     }
    },
    "08eba2f5d26c4566bde71760c79290d8": {
     "model_module": "@jupyter-widgets/controls",
     "model_module_version": "1.5.0",
     "model_name": "HTMLModel",
     "state": {
      "_dom_classes": [],
      "_model_module": "@jupyter-widgets/controls",
      "_model_module_version": "1.5.0",
      "_model_name": "HTMLModel",
      "_view_count": null,
      "_view_module": "@jupyter-widgets/controls",
      "_view_module_version": "1.5.0",
      "_view_name": "HTMLView",
      "description": "",
      "description_tooltip": null,
      "layout": "IPY_MODEL_492065d00a39493fb0924951cd7a0de8",
      "placeholder": "​",
      "style": "IPY_MODEL_eafc0700a096441fa43bdfa5c466bd9e",
      "value": "Generating test split: 100%"
     }
    },
    "0b5a24bd4bd446adac5399bc16b50ce8": {
     "model_module": "@jupyter-widgets/base",
     "model_module_version": "1.2.0",
     "model_name": "LayoutModel",
     "state": {
      "_model_module": "@jupyter-widgets/base",
      "_model_module_version": "1.2.0",
      "_model_name": "LayoutModel",
      "_view_count": null,
      "_view_module": "@jupyter-widgets/base",
      "_view_module_version": "1.2.0",
      "_view_name": "LayoutView",
      "align_content": null,
      "align_items": null,
      "align_self": null,
      "border": null,
      "bottom": null,
      "display": null,
      "flex": null,
      "flex_flow": null,
      "grid_area": null,
      "grid_auto_columns": null,
      "grid_auto_flow": null,
      "grid_auto_rows": null,
      "grid_column": null,
      "grid_gap": null,
      "grid_row": null,
      "grid_template_areas": null,
      "grid_template_columns": null,
      "grid_template_rows": null,
      "height": null,
      "justify_content": null,
      "justify_items": null,
      "left": null,
      "margin": null,
      "max_height": null,
      "max_width": null,
      "min_height": null,
      "min_width": null,
      "object_fit": null,
      "object_position": null,
      "order": null,
      "overflow": null,
      "overflow_x": null,
      "overflow_y": null,
      "padding": null,
      "right": null,
      "top": null,
      "visibility": null,
      "width": null
     }
    },
    "0bf75a2a26ba413bb7a3ede38f2923ce": {
     "model_module": "@jupyter-widgets/base",
     "model_module_version": "1.2.0",
     "model_name": "LayoutModel",
     "state": {
      "_model_module": "@jupyter-widgets/base",
      "_model_module_version": "1.2.0",
      "_model_name": "LayoutModel",
      "_view_count": null,
      "_view_module": "@jupyter-widgets/base",
      "_view_module_version": "1.2.0",
      "_view_name": "LayoutView",
      "align_content": null,
      "align_items": null,
      "align_self": null,
      "border": null,
      "bottom": null,
      "display": null,
      "flex": null,
      "flex_flow": null,
      "grid_area": null,
      "grid_auto_columns": null,
      "grid_auto_flow": null,
      "grid_auto_rows": null,
      "grid_column": null,
      "grid_gap": null,
      "grid_row": null,
      "grid_template_areas": null,
      "grid_template_columns": null,
      "grid_template_rows": null,
      "height": null,
      "justify_content": null,
      "justify_items": null,
      "left": null,
      "margin": null,
      "max_height": null,
      "max_width": null,
      "min_height": null,
      "min_width": null,
      "object_fit": null,
      "object_position": null,
      "order": null,
      "overflow": null,
      "overflow_x": null,
      "overflow_y": null,
      "padding": null,
      "right": null,
      "top": null,
      "visibility": null,
      "width": null
     }
    },
    "144f276e3d5a422caf962df3cb778aa8": {
     "model_module": "@jupyter-widgets/base",
     "model_module_version": "1.2.0",
     "model_name": "LayoutModel",
     "state": {
      "_model_module": "@jupyter-widgets/base",
      "_model_module_version": "1.2.0",
      "_model_name": "LayoutModel",
      "_view_count": null,
      "_view_module": "@jupyter-widgets/base",
      "_view_module_version": "1.2.0",
      "_view_name": "LayoutView",
      "align_content": null,
      "align_items": null,
      "align_self": null,
      "border": null,
      "bottom": null,
      "display": null,
      "flex": null,
      "flex_flow": null,
      "grid_area": null,
      "grid_auto_columns": null,
      "grid_auto_flow": null,
      "grid_auto_rows": null,
      "grid_column": null,
      "grid_gap": null,
      "grid_row": null,
      "grid_template_areas": null,
      "grid_template_columns": null,
      "grid_template_rows": null,
      "height": null,
      "justify_content": null,
      "justify_items": null,
      "left": null,
      "margin": null,
      "max_height": null,
      "max_width": null,
      "min_height": null,
      "min_width": null,
      "object_fit": null,
      "object_position": null,
      "order": null,
      "overflow": null,
      "overflow_x": null,
      "overflow_y": null,
      "padding": null,
      "right": null,
      "top": null,
      "visibility": null,
      "width": null
     }
    },
    "1752cd7ce772408fb4ea3b40b4180253": {
     "model_module": "@jupyter-widgets/controls",
     "model_module_version": "1.5.0",
     "model_name": "DescriptionStyleModel",
     "state": {
      "_model_module": "@jupyter-widgets/controls",
      "_model_module_version": "1.5.0",
      "_model_name": "DescriptionStyleModel",
      "_view_count": null,
      "_view_module": "@jupyter-widgets/base",
      "_view_module_version": "1.2.0",
      "_view_name": "StyleView",
      "description_width": ""
     }
    },
    "17f54cb9e1594310ab6bfbcac886b5d8": {
     "model_module": "@jupyter-widgets/controls",
     "model_module_version": "1.5.0",
     "model_name": "HTMLModel",
     "state": {
      "_dom_classes": [],
      "_model_module": "@jupyter-widgets/controls",
      "_model_module_version": "1.5.0",
      "_model_name": "HTMLModel",
      "_view_count": null,
      "_view_module": "@jupyter-widgets/controls",
      "_view_module_version": "1.5.0",
      "_view_name": "HTMLView",
      "description": "",
      "description_tooltip": null,
      "layout": "IPY_MODEL_69fdd8b022564d829cf2fae7b51c4472",
      "placeholder": "​",
      "style": "IPY_MODEL_83c63eeca8404503938df90020bf1530",
      "value": " 8.07k/8.07k [00:00&lt;00:00, 112kB/s]"
     }
    },
    "1b3030b93ac84476ba6e13d656d027d8": {
     "model_module": "@jupyter-widgets/controls",
     "model_module_version": "1.5.0",
     "model_name": "HBoxModel",
     "state": {
      "_dom_classes": [],
      "_model_module": "@jupyter-widgets/controls",
      "_model_module_version": "1.5.0",
      "_model_name": "HBoxModel",
      "_view_count": null,
      "_view_module": "@jupyter-widgets/controls",
      "_view_module_version": "1.5.0",
      "_view_name": "HBoxView",
      "box_style": "",
      "children": [
       "IPY_MODEL_08eba2f5d26c4566bde71760c79290d8",
       "IPY_MODEL_b3cddb092fb841839c1389ae6c4ecda9",
       "IPY_MODEL_04a89d7c3db14b0f9bad8b4d0b80adc4"
      ],
      "layout": "IPY_MODEL_0b5a24bd4bd446adac5399bc16b50ce8"
     }
    },
    "20a2070a0df54c9b9265d222c8780496": {
     "model_module": "@jupyter-widgets/controls",
     "model_module_version": "1.5.0",
     "model_name": "HTMLModel",
     "state": {
      "_dom_classes": [],
      "_model_module": "@jupyter-widgets/controls",
      "_model_module_version": "1.5.0",
      "_model_name": "HTMLModel",
      "_view_count": null,
      "_view_module": "@jupyter-widgets/controls",
      "_view_module_version": "1.5.0",
      "_view_name": "HTMLView",
      "description": "",
      "description_tooltip": null,
      "layout": "IPY_MODEL_51014ee7665f473e92b8b1cd4a7df19c",
      "placeholder": "​",
      "style": "IPY_MODEL_ddb29bfa2050463aab3f8381140d4789",
      "value": "Downloading data: 100%"
     }
    },
    "21af3b6b32694a3496ca2cb2c75cb2bb": {
     "model_module": "@jupyter-widgets/controls",
     "model_module_version": "1.5.0",
     "model_name": "DescriptionStyleModel",
     "state": {
      "_model_module": "@jupyter-widgets/controls",
      "_model_module_version": "1.5.0",
      "_model_name": "DescriptionStyleModel",
      "_view_count": null,
      "_view_module": "@jupyter-widgets/base",
      "_view_module_version": "1.2.0",
      "_view_name": "StyleView",
      "description_width": ""
     }
    },
    "284e63d0cccd45b4b7e56fc128afd97a": {
     "model_module": "@jupyter-widgets/controls",
     "model_module_version": "1.5.0",
     "model_name": "ProgressStyleModel",
     "state": {
      "_model_module": "@jupyter-widgets/controls",
      "_model_module_version": "1.5.0",
      "_model_name": "ProgressStyleModel",
      "_view_count": null,
      "_view_module": "@jupyter-widgets/base",
      "_view_module_version": "1.2.0",
      "_view_name": "StyleView",
      "bar_color": null,
      "description_width": ""
     }
    },
    "28818abcc1354ed98f1609edb398d28d": {
     "model_module": "@jupyter-widgets/base",
     "model_module_version": "1.2.0",
     "model_name": "LayoutModel",
     "state": {
      "_model_module": "@jupyter-widgets/base",
      "_model_module_version": "1.2.0",
      "_model_name": "LayoutModel",
      "_view_count": null,
      "_view_module": "@jupyter-widgets/base",
      "_view_module_version": "1.2.0",
      "_view_name": "LayoutView",
      "align_content": null,
      "align_items": null,
      "align_self": null,
      "border": null,
      "bottom": null,
      "display": null,
      "flex": null,
      "flex_flow": null,
      "grid_area": null,
      "grid_auto_columns": null,
      "grid_auto_flow": null,
      "grid_auto_rows": null,
      "grid_column": null,
      "grid_gap": null,
      "grid_row": null,
      "grid_template_areas": null,
      "grid_template_columns": null,
      "grid_template_rows": null,
      "height": null,
      "justify_content": null,
      "justify_items": null,
      "left": null,
      "margin": null,
      "max_height": null,
      "max_width": null,
      "min_height": null,
      "min_width": null,
      "object_fit": null,
      "object_position": null,
      "order": null,
      "overflow": null,
      "overflow_x": null,
      "overflow_y": null,
      "padding": null,
      "right": null,
      "top": null,
      "visibility": null,
      "width": null
     }
    },
    "29435b2495824acab3b22d332802906a": {
     "model_module": "@jupyter-widgets/base",
     "model_module_version": "1.2.0",
     "model_name": "LayoutModel",
     "state": {
      "_model_module": "@jupyter-widgets/base",
      "_model_module_version": "1.2.0",
      "_model_name": "LayoutModel",
      "_view_count": null,
      "_view_module": "@jupyter-widgets/base",
      "_view_module_version": "1.2.0",
      "_view_name": "LayoutView",
      "align_content": null,
      "align_items": null,
      "align_self": null,
      "border": null,
      "bottom": null,
      "display": null,
      "flex": null,
      "flex_flow": null,
      "grid_area": null,
      "grid_auto_columns": null,
      "grid_auto_flow": null,
      "grid_auto_rows": null,
      "grid_column": null,
      "grid_gap": null,
      "grid_row": null,
      "grid_template_areas": null,
      "grid_template_columns": null,
      "grid_template_rows": null,
      "height": null,
      "justify_content": null,
      "justify_items": null,
      "left": null,
      "margin": null,
      "max_height": null,
      "max_width": null,
      "min_height": null,
      "min_width": null,
      "object_fit": null,
      "object_position": null,
      "order": null,
      "overflow": null,
      "overflow_x": null,
      "overflow_y": null,
      "padding": null,
      "right": null,
      "top": null,
      "visibility": null,
      "width": null
     }
    },
    "2dc305645a84426ba5c57870eff26c35": {
     "model_module": "@jupyter-widgets/controls",
     "model_module_version": "1.5.0",
     "model_name": "DescriptionStyleModel",
     "state": {
      "_model_module": "@jupyter-widgets/controls",
      "_model_module_version": "1.5.0",
      "_model_name": "DescriptionStyleModel",
      "_view_count": null,
      "_view_module": "@jupyter-widgets/base",
      "_view_module_version": "1.2.0",
      "_view_name": "StyleView",
      "description_width": ""
     }
    },
    "3399122cae9b4244aae488f0f6c398b7": {
     "model_module": "@jupyter-widgets/controls",
     "model_module_version": "1.5.0",
     "model_name": "FloatProgressModel",
     "state": {
      "_dom_classes": [],
      "_model_module": "@jupyter-widgets/controls",
      "_model_module_version": "1.5.0",
      "_model_name": "FloatProgressModel",
      "_view_count": null,
      "_view_module": "@jupyter-widgets/controls",
      "_view_module_version": "1.5.0",
      "_view_name": "ProgressView",
      "bar_style": "success",
      "description": "",
      "description_tooltip": null,
      "layout": "IPY_MODEL_c66f26b9dee64e8f930563efe460db39",
      "max": 18585438,
      "min": 0,
      "orientation": "horizontal",
      "style": "IPY_MODEL_8f8e21519727497a91de4294d2da9f51",
      "value": 18585438
     }
    },
    "36be319ca6ec4f0f85e56156828a5435": {
     "model_module": "@jupyter-widgets/controls",
     "model_module_version": "1.5.0",
     "model_name": "FloatProgressModel",
     "state": {
      "_dom_classes": [],
      "_model_module": "@jupyter-widgets/controls",
      "_model_module_version": "1.5.0",
      "_model_name": "FloatProgressModel",
      "_view_count": null,
      "_view_module": "@jupyter-widgets/controls",
      "_view_module_version": "1.5.0",
      "_view_name": "ProgressView",
      "bar_style": "success",
      "description": "",
      "description_tooltip": null,
      "layout": "IPY_MODEL_66a89485e10745f194138ca9cb64a0aa",
      "max": 1234829,
      "min": 0,
      "orientation": "horizontal",
      "style": "IPY_MODEL_56a0dbe8600a4cbbb36b63d76df1242b",
      "value": 1234829
     }
    },
    "3b6c36ef4b944e82b9c0e6ba236e3304": {
     "model_module": "@jupyter-widgets/base",
     "model_module_version": "1.2.0",
     "model_name": "LayoutModel",
     "state": {
      "_model_module": "@jupyter-widgets/base",
      "_model_module_version": "1.2.0",
      "_model_name": "LayoutModel",
      "_view_count": null,
      "_view_module": "@jupyter-widgets/base",
      "_view_module_version": "1.2.0",
      "_view_name": "LayoutView",
      "align_content": null,
      "align_items": null,
      "align_self": null,
      "border": null,
      "bottom": null,
      "display": null,
      "flex": null,
      "flex_flow": null,
      "grid_area": null,
      "grid_auto_columns": null,
      "grid_auto_flow": null,
      "grid_auto_rows": null,
      "grid_column": null,
      "grid_gap": null,
      "grid_row": null,
      "grid_template_areas": null,
      "grid_template_columns": null,
      "grid_template_rows": null,
      "height": null,
      "justify_content": null,
      "justify_items": null,
      "left": null,
      "margin": null,
      "max_height": null,
      "max_width": null,
      "min_height": null,
      "min_width": null,
      "object_fit": null,
      "object_position": null,
      "order": null,
      "overflow": null,
      "overflow_x": null,
      "overflow_y": null,
      "padding": null,
      "right": null,
      "top": null,
      "visibility": null,
      "width": null
     }
    },
    "4624cde37b6c4b6b9ac917d1c5464b71": {
     "model_module": "@jupyter-widgets/controls",
     "model_module_version": "1.5.0",
     "model_name": "HBoxModel",
     "state": {
      "_dom_classes": [],
      "_model_module": "@jupyter-widgets/controls",
      "_model_module_version": "1.5.0",
      "_model_name": "HBoxModel",
      "_view_count": null,
      "_view_module": "@jupyter-widgets/controls",
      "_view_module_version": "1.5.0",
      "_view_name": "HBoxView",
      "box_style": "",
      "children": [
       "IPY_MODEL_0775b4fe5c1a4219a0d2c9706a966cf5",
       "IPY_MODEL_36be319ca6ec4f0f85e56156828a5435",
       "IPY_MODEL_9e0ca6fe610d46fca436e86586592598"
      ],
      "layout": "IPY_MODEL_144f276e3d5a422caf962df3cb778aa8"
     }
    },
    "4763dde753cb4264af603e878b2201d5": {
     "model_module": "@jupyter-widgets/controls",
     "model_module_version": "1.5.0",
     "model_name": "FloatProgressModel",
     "state": {
      "_dom_classes": [],
      "_model_module": "@jupyter-widgets/controls",
      "_model_module_version": "1.5.0",
      "_model_name": "FloatProgressModel",
      "_view_count": null,
      "_view_module": "@jupyter-widgets/controls",
      "_view_module_version": "1.5.0",
      "_view_name": "ProgressView",
      "bar_style": "success",
      "description": "",
      "description_tooltip": null,
      "layout": "IPY_MODEL_9f3296d758264a9fa3246b502efa0b45",
      "max": 8070,
      "min": 0,
      "orientation": "horizontal",
      "style": "IPY_MODEL_284e63d0cccd45b4b7e56fc128afd97a",
      "value": 8070
     }
    },
    "492065d00a39493fb0924951cd7a0de8": {
     "model_module": "@jupyter-widgets/base",
     "model_module_version": "1.2.0",
     "model_name": "LayoutModel",
     "state": {
      "_model_module": "@jupyter-widgets/base",
      "_model_module_version": "1.2.0",
      "_model_name": "LayoutModel",
      "_view_count": null,
      "_view_module": "@jupyter-widgets/base",
      "_view_module_version": "1.2.0",
      "_view_name": "LayoutView",
      "align_content": null,
      "align_items": null,
      "align_self": null,
      "border": null,
      "bottom": null,
      "display": null,
      "flex": null,
      "flex_flow": null,
      "grid_area": null,
      "grid_auto_columns": null,
      "grid_auto_flow": null,
      "grid_auto_rows": null,
      "grid_column": null,
      "grid_gap": null,
      "grid_row": null,
      "grid_template_areas": null,
      "grid_template_columns": null,
      "grid_template_rows": null,
      "height": null,
      "justify_content": null,
      "justify_items": null,
      "left": null,
      "margin": null,
      "max_height": null,
      "max_width": null,
      "min_height": null,
      "min_width": null,
      "object_fit": null,
      "object_position": null,
      "order": null,
      "overflow": null,
      "overflow_x": null,
      "overflow_y": null,
      "padding": null,
      "right": null,
      "top": null,
      "visibility": null,
      "width": null
     }
    },
    "4a091a47c37247478845fe3667d03941": {
     "model_module": "@jupyter-widgets/controls",
     "model_module_version": "1.5.0",
     "model_name": "HTMLModel",
     "state": {
      "_dom_classes": [],
      "_model_module": "@jupyter-widgets/controls",
      "_model_module_version": "1.5.0",
      "_model_name": "HTMLModel",
      "_view_count": null,
      "_view_module": "@jupyter-widgets/controls",
      "_view_module_version": "1.5.0",
      "_view_name": "HTMLView",
      "description": "",
      "description_tooltip": null,
      "layout": "IPY_MODEL_cb75db9bf68d4ff4827eec45a3c59600",
      "placeholder": "​",
      "style": "IPY_MODEL_2dc305645a84426ba5c57870eff26c35",
      "value": "Downloading readme: 100%"
     }
    },
    "51014ee7665f473e92b8b1cd4a7df19c": {
     "model_module": "@jupyter-widgets/base",
     "model_module_version": "1.2.0",
     "model_name": "LayoutModel",
     "state": {
      "_model_module": "@jupyter-widgets/base",
      "_model_module_version": "1.2.0",
      "_model_name": "LayoutModel",
      "_view_count": null,
      "_view_module": "@jupyter-widgets/base",
      "_view_module_version": "1.2.0",
      "_view_name": "LayoutView",
      "align_content": null,
      "align_items": null,
      "align_self": null,
      "border": null,
      "bottom": null,
      "display": null,
      "flex": null,
      "flex_flow": null,
      "grid_area": null,
      "grid_auto_columns": null,
      "grid_auto_flow": null,
      "grid_auto_rows": null,
      "grid_column": null,
      "grid_gap": null,
      "grid_row": null,
      "grid_template_areas": null,
      "grid_template_columns": null,
      "grid_template_rows": null,
      "height": null,
      "justify_content": null,
      "justify_items": null,
      "left": null,
      "margin": null,
      "max_height": null,
      "max_width": null,
      "min_height": null,
      "min_width": null,
      "object_fit": null,
      "object_position": null,
      "order": null,
      "overflow": null,
      "overflow_x": null,
      "overflow_y": null,
      "padding": null,
      "right": null,
      "top": null,
      "visibility": null,
      "width": null
     }
    },
    "56a0dbe8600a4cbbb36b63d76df1242b": {
     "model_module": "@jupyter-widgets/controls",
     "model_module_version": "1.5.0",
     "model_name": "ProgressStyleModel",
     "state": {
      "_model_module": "@jupyter-widgets/controls",
      "_model_module_version": "1.5.0",
      "_model_name": "ProgressStyleModel",
      "_view_count": null,
      "_view_module": "@jupyter-widgets/base",
      "_view_module_version": "1.2.0",
      "_view_name": "StyleView",
      "bar_color": null,
      "description_width": ""
     }
    },
    "56f163f036284ac0bef03e114c8ebcf2": {
     "model_module": "@jupyter-widgets/base",
     "model_module_version": "1.2.0",
     "model_name": "LayoutModel",
     "state": {
      "_model_module": "@jupyter-widgets/base",
      "_model_module_version": "1.2.0",
      "_model_name": "LayoutModel",
      "_view_count": null,
      "_view_module": "@jupyter-widgets/base",
      "_view_module_version": "1.2.0",
      "_view_name": "LayoutView",
      "align_content": null,
      "align_items": null,
      "align_self": null,
      "border": null,
      "bottom": null,
      "display": null,
      "flex": null,
      "flex_flow": null,
      "grid_area": null,
      "grid_auto_columns": null,
      "grid_auto_flow": null,
      "grid_auto_rows": null,
      "grid_column": null,
      "grid_gap": null,
      "grid_row": null,
      "grid_template_areas": null,
      "grid_template_columns": null,
      "grid_template_rows": null,
      "height": null,
      "justify_content": null,
      "justify_items": null,
      "left": null,
      "margin": null,
      "max_height": null,
      "max_width": null,
      "min_height": null,
      "min_width": null,
      "object_fit": null,
      "object_position": null,
      "order": null,
      "overflow": null,
      "overflow_x": null,
      "overflow_y": null,
      "padding": null,
      "right": null,
      "top": null,
      "visibility": null,
      "width": null
     }
    },
    "5dbb634d0ab0416b9a2f88b9c9e630fc": {
     "model_module": "@jupyter-widgets/controls",
     "model_module_version": "1.5.0",
     "model_name": "HBoxModel",
     "state": {
      "_dom_classes": [],
      "_model_module": "@jupyter-widgets/controls",
      "_model_module_version": "1.5.0",
      "_model_name": "HBoxModel",
      "_view_count": null,
      "_view_module": "@jupyter-widgets/controls",
      "_view_module_version": "1.5.0",
      "_view_name": "HBoxView",
      "box_style": "",
      "children": [
       "IPY_MODEL_20a2070a0df54c9b9265d222c8780496",
       "IPY_MODEL_3399122cae9b4244aae488f0f6c398b7",
       "IPY_MODEL_6c828ef63b0e4c08973c7c00c7f002fc"
      ],
      "layout": "IPY_MODEL_3b6c36ef4b944e82b9c0e6ba236e3304"
     }
    },
    "66a89485e10745f194138ca9cb64a0aa": {
     "model_module": "@jupyter-widgets/base",
     "model_module_version": "1.2.0",
     "model_name": "LayoutModel",
     "state": {
      "_model_module": "@jupyter-widgets/base",
      "_model_module_version": "1.2.0",
      "_model_name": "LayoutModel",
      "_view_count": null,
      "_view_module": "@jupyter-widgets/base",
      "_view_module_version": "1.2.0",
      "_view_name": "LayoutView",
      "align_content": null,
      "align_items": null,
      "align_self": null,
      "border": null,
      "bottom": null,
      "display": null,
      "flex": null,
      "flex_flow": null,
      "grid_area": null,
      "grid_auto_columns": null,
      "grid_auto_flow": null,
      "grid_auto_rows": null,
      "grid_column": null,
      "grid_gap": null,
      "grid_row": null,
      "grid_template_areas": null,
      "grid_template_columns": null,
      "grid_template_rows": null,
      "height": null,
      "justify_content": null,
      "justify_items": null,
      "left": null,
      "margin": null,
      "max_height": null,
      "max_width": null,
      "min_height": null,
      "min_width": null,
      "object_fit": null,
      "object_position": null,
      "order": null,
      "overflow": null,
      "overflow_x": null,
      "overflow_y": null,
      "padding": null,
      "right": null,
      "top": null,
      "visibility": null,
      "width": null
     }
    },
    "66badf00ef964ca4a11a4dccd1ee23e5": {
     "model_module": "@jupyter-widgets/controls",
     "model_module_version": "1.5.0",
     "model_name": "FloatProgressModel",
     "state": {
      "_dom_classes": [],
      "_model_module": "@jupyter-widgets/controls",
      "_model_module_version": "1.5.0",
      "_model_name": "FloatProgressModel",
      "_view_count": null,
      "_view_module": "@jupyter-widgets/controls",
      "_view_module_version": "1.5.0",
      "_view_name": "ProgressView",
      "bar_style": "success",
      "description": "",
      "description_tooltip": null,
      "layout": "IPY_MODEL_28818abcc1354ed98f1609edb398d28d",
      "max": 120000,
      "min": 0,
      "orientation": "horizontal",
      "style": "IPY_MODEL_dca38a8bdb844677bf80f43c694b0dc2",
      "value": 120000
     }
    },
    "69fdd8b022564d829cf2fae7b51c4472": {
     "model_module": "@jupyter-widgets/base",
     "model_module_version": "1.2.0",
     "model_name": "LayoutModel",
     "state": {
      "_model_module": "@jupyter-widgets/base",
      "_model_module_version": "1.2.0",
      "_model_name": "LayoutModel",
      "_view_count": null,
      "_view_module": "@jupyter-widgets/base",
      "_view_module_version": "1.2.0",
      "_view_name": "LayoutView",
      "align_content": null,
      "align_items": null,
      "align_self": null,
      "border": null,
      "bottom": null,
      "display": null,
      "flex": null,
      "flex_flow": null,
      "grid_area": null,
      "grid_auto_columns": null,
      "grid_auto_flow": null,
      "grid_auto_rows": null,
      "grid_column": null,
      "grid_gap": null,
      "grid_row": null,
      "grid_template_areas": null,
      "grid_template_columns": null,
      "grid_template_rows": null,
      "height": null,
      "justify_content": null,
      "justify_items": null,
      "left": null,
      "margin": null,
      "max_height": null,
      "max_width": null,
      "min_height": null,
      "min_width": null,
      "object_fit": null,
      "object_position": null,
      "order": null,
      "overflow": null,
      "overflow_x": null,
      "overflow_y": null,
      "padding": null,
      "right": null,
      "top": null,
      "visibility": null,
      "width": null
     }
    },
    "6c828ef63b0e4c08973c7c00c7f002fc": {
     "model_module": "@jupyter-widgets/controls",
     "model_module_version": "1.5.0",
     "model_name": "HTMLModel",
     "state": {
      "_dom_classes": [],
      "_model_module": "@jupyter-widgets/controls",
      "_model_module_version": "1.5.0",
      "_model_name": "HTMLModel",
      "_view_count": null,
      "_view_module": "@jupyter-widgets/controls",
      "_view_module_version": "1.5.0",
      "_view_name": "HTMLView",
      "description": "",
      "description_tooltip": null,
      "layout": "IPY_MODEL_768dff1786b4492cb16a8374c6692631",
      "placeholder": "​",
      "style": "IPY_MODEL_1752cd7ce772408fb4ea3b40b4180253",
      "value": " 18.6M/18.6M [00:00&lt;00:00, 43.9MB/s]"
     }
    },
    "6e386f4001774ed7bdac7aa5d23a59f8": {
     "model_module": "@jupyter-widgets/base",
     "model_module_version": "1.2.0",
     "model_name": "LayoutModel",
     "state": {
      "_model_module": "@jupyter-widgets/base",
      "_model_module_version": "1.2.0",
      "_model_name": "LayoutModel",
      "_view_count": null,
      "_view_module": "@jupyter-widgets/base",
      "_view_module_version": "1.2.0",
      "_view_name": "LayoutView",
      "align_content": null,
      "align_items": null,
      "align_self": null,
      "border": null,
      "bottom": null,
      "display": null,
      "flex": null,
      "flex_flow": null,
      "grid_area": null,
      "grid_auto_columns": null,
      "grid_auto_flow": null,
      "grid_auto_rows": null,
      "grid_column": null,
      "grid_gap": null,
      "grid_row": null,
      "grid_template_areas": null,
      "grid_template_columns": null,
      "grid_template_rows": null,
      "height": null,
      "justify_content": null,
      "justify_items": null,
      "left": null,
      "margin": null,
      "max_height": null,
      "max_width": null,
      "min_height": null,
      "min_width": null,
      "object_fit": null,
      "object_position": null,
      "order": null,
      "overflow": null,
      "overflow_x": null,
      "overflow_y": null,
      "padding": null,
      "right": null,
      "top": null,
      "visibility": null,
      "width": null
     }
    },
    "768dff1786b4492cb16a8374c6692631": {
     "model_module": "@jupyter-widgets/base",
     "model_module_version": "1.2.0",
     "model_name": "LayoutModel",
     "state": {
      "_model_module": "@jupyter-widgets/base",
      "_model_module_version": "1.2.0",
      "_model_name": "LayoutModel",
      "_view_count": null,
      "_view_module": "@jupyter-widgets/base",
      "_view_module_version": "1.2.0",
      "_view_name": "LayoutView",
      "align_content": null,
      "align_items": null,
      "align_self": null,
      "border": null,
      "bottom": null,
      "display": null,
      "flex": null,
      "flex_flow": null,
      "grid_area": null,
      "grid_auto_columns": null,
      "grid_auto_flow": null,
      "grid_auto_rows": null,
      "grid_column": null,
      "grid_gap": null,
      "grid_row": null,
      "grid_template_areas": null,
      "grid_template_columns": null,
      "grid_template_rows": null,
      "height": null,
      "justify_content": null,
      "justify_items": null,
      "left": null,
      "margin": null,
      "max_height": null,
      "max_width": null,
      "min_height": null,
      "min_width": null,
      "object_fit": null,
      "object_position": null,
      "order": null,
      "overflow": null,
      "overflow_x": null,
      "overflow_y": null,
      "padding": null,
      "right": null,
      "top": null,
      "visibility": null,
      "width": null
     }
    },
    "827f139b9fbb4dc1bd16aacd088b03f7": {
     "model_module": "@jupyter-widgets/base",
     "model_module_version": "1.2.0",
     "model_name": "LayoutModel",
     "state": {
      "_model_module": "@jupyter-widgets/base",
      "_model_module_version": "1.2.0",
      "_model_name": "LayoutModel",
      "_view_count": null,
      "_view_module": "@jupyter-widgets/base",
      "_view_module_version": "1.2.0",
      "_view_name": "LayoutView",
      "align_content": null,
      "align_items": null,
      "align_self": null,
      "border": null,
      "bottom": null,
      "display": null,
      "flex": null,
      "flex_flow": null,
      "grid_area": null,
      "grid_auto_columns": null,
      "grid_auto_flow": null,
      "grid_auto_rows": null,
      "grid_column": null,
      "grid_gap": null,
      "grid_row": null,
      "grid_template_areas": null,
      "grid_template_columns": null,
      "grid_template_rows": null,
      "height": null,
      "justify_content": null,
      "justify_items": null,
      "left": null,
      "margin": null,
      "max_height": null,
      "max_width": null,
      "min_height": null,
      "min_width": null,
      "object_fit": null,
      "object_position": null,
      "order": null,
      "overflow": null,
      "overflow_x": null,
      "overflow_y": null,
      "padding": null,
      "right": null,
      "top": null,
      "visibility": null,
      "width": null
     }
    },
    "83c63eeca8404503938df90020bf1530": {
     "model_module": "@jupyter-widgets/controls",
     "model_module_version": "1.5.0",
     "model_name": "DescriptionStyleModel",
     "state": {
      "_model_module": "@jupyter-widgets/controls",
      "_model_module_version": "1.5.0",
      "_model_name": "DescriptionStyleModel",
      "_view_count": null,
      "_view_module": "@jupyter-widgets/base",
      "_view_module_version": "1.2.0",
      "_view_name": "StyleView",
      "description_width": ""
     }
    },
    "8f8e21519727497a91de4294d2da9f51": {
     "model_module": "@jupyter-widgets/controls",
     "model_module_version": "1.5.0",
     "model_name": "ProgressStyleModel",
     "state": {
      "_model_module": "@jupyter-widgets/controls",
      "_model_module_version": "1.5.0",
      "_model_name": "ProgressStyleModel",
      "_view_count": null,
      "_view_module": "@jupyter-widgets/base",
      "_view_module_version": "1.2.0",
      "_view_name": "StyleView",
      "bar_color": null,
      "description_width": ""
     }
    },
    "9dfab5a44e944742a2ce2ca02c1f25df": {
     "model_module": "@jupyter-widgets/base",
     "model_module_version": "1.2.0",
     "model_name": "LayoutModel",
     "state": {
      "_model_module": "@jupyter-widgets/base",
      "_model_module_version": "1.2.0",
      "_model_name": "LayoutModel",
      "_view_count": null,
      "_view_module": "@jupyter-widgets/base",
      "_view_module_version": "1.2.0",
      "_view_name": "LayoutView",
      "align_content": null,
      "align_items": null,
      "align_self": null,
      "border": null,
      "bottom": null,
      "display": null,
      "flex": null,
      "flex_flow": null,
      "grid_area": null,
      "grid_auto_columns": null,
      "grid_auto_flow": null,
      "grid_auto_rows": null,
      "grid_column": null,
      "grid_gap": null,
      "grid_row": null,
      "grid_template_areas": null,
      "grid_template_columns": null,
      "grid_template_rows": null,
      "height": null,
      "justify_content": null,
      "justify_items": null,
      "left": null,
      "margin": null,
      "max_height": null,
      "max_width": null,
      "min_height": null,
      "min_width": null,
      "object_fit": null,
      "object_position": null,
      "order": null,
      "overflow": null,
      "overflow_x": null,
      "overflow_y": null,
      "padding": null,
      "right": null,
      "top": null,
      "visibility": null,
      "width": null
     }
    },
    "9e0ca6fe610d46fca436e86586592598": {
     "model_module": "@jupyter-widgets/controls",
     "model_module_version": "1.5.0",
     "model_name": "HTMLModel",
     "state": {
      "_dom_classes": [],
      "_model_module": "@jupyter-widgets/controls",
      "_model_module_version": "1.5.0",
      "_model_name": "HTMLModel",
      "_view_count": null,
      "_view_module": "@jupyter-widgets/controls",
      "_view_module_version": "1.5.0",
      "_view_name": "HTMLView",
      "description": "",
      "description_tooltip": null,
      "layout": "IPY_MODEL_0bf75a2a26ba413bb7a3ede38f2923ce",
      "placeholder": "​",
      "style": "IPY_MODEL_21af3b6b32694a3496ca2cb2c75cb2bb",
      "value": " 1.23M/1.23M [00:00&lt;00:00, 9.28MB/s]"
     }
    },
    "9f3296d758264a9fa3246b502efa0b45": {
     "model_module": "@jupyter-widgets/base",
     "model_module_version": "1.2.0",
     "model_name": "LayoutModel",
     "state": {
      "_model_module": "@jupyter-widgets/base",
      "_model_module_version": "1.2.0",
      "_model_name": "LayoutModel",
      "_view_count": null,
      "_view_module": "@jupyter-widgets/base",
      "_view_module_version": "1.2.0",
      "_view_name": "LayoutView",
      "align_content": null,
      "align_items": null,
      "align_self": null,
      "border": null,
      "bottom": null,
      "display": null,
      "flex": null,
      "flex_flow": null,
      "grid_area": null,
      "grid_auto_columns": null,
      "grid_auto_flow": null,
      "grid_auto_rows": null,
      "grid_column": null,
      "grid_gap": null,
      "grid_row": null,
      "grid_template_areas": null,
      "grid_template_columns": null,
      "grid_template_rows": null,
      "height": null,
      "justify_content": null,
      "justify_items": null,
      "left": null,
      "margin": null,
      "max_height": null,
      "max_width": null,
      "min_height": null,
      "min_width": null,
      "object_fit": null,
      "object_position": null,
      "order": null,
      "overflow": null,
      "overflow_x": null,
      "overflow_y": null,
      "padding": null,
      "right": null,
      "top": null,
      "visibility": null,
      "width": null
     }
    },
    "a177f565e8c24fdf8e560a2a3a8bef79": {
     "model_module": "@jupyter-widgets/controls",
     "model_module_version": "1.5.0",
     "model_name": "DescriptionStyleModel",
     "state": {
      "_model_module": "@jupyter-widgets/controls",
      "_model_module_version": "1.5.0",
      "_model_name": "DescriptionStyleModel",
      "_view_count": null,
      "_view_module": "@jupyter-widgets/base",
      "_view_module_version": "1.2.0",
      "_view_name": "StyleView",
      "description_width": ""
     }
    },
    "a40fdf8c3d4344d8ac27dc6887fa6f81": {
     "model_module": "@jupyter-widgets/base",
     "model_module_version": "1.2.0",
     "model_name": "LayoutModel",
     "state": {
      "_model_module": "@jupyter-widgets/base",
      "_model_module_version": "1.2.0",
      "_model_name": "LayoutModel",
      "_view_count": null,
      "_view_module": "@jupyter-widgets/base",
      "_view_module_version": "1.2.0",
      "_view_name": "LayoutView",
      "align_content": null,
      "align_items": null,
      "align_self": null,
      "border": null,
      "bottom": null,
      "display": null,
      "flex": null,
      "flex_flow": null,
      "grid_area": null,
      "grid_auto_columns": null,
      "grid_auto_flow": null,
      "grid_auto_rows": null,
      "grid_column": null,
      "grid_gap": null,
      "grid_row": null,
      "grid_template_areas": null,
      "grid_template_columns": null,
      "grid_template_rows": null,
      "height": null,
      "justify_content": null,
      "justify_items": null,
      "left": null,
      "margin": null,
      "max_height": null,
      "max_width": null,
      "min_height": null,
      "min_width": null,
      "object_fit": null,
      "object_position": null,
      "order": null,
      "overflow": null,
      "overflow_x": null,
      "overflow_y": null,
      "padding": null,
      "right": null,
      "top": null,
      "visibility": null,
      "width": null
     }
    },
    "aeb50624a0424eb6962faf350aee7c68": {
     "model_module": "@jupyter-widgets/controls",
     "model_module_version": "1.5.0",
     "model_name": "DescriptionStyleModel",
     "state": {
      "_model_module": "@jupyter-widgets/controls",
      "_model_module_version": "1.5.0",
      "_model_name": "DescriptionStyleModel",
      "_view_count": null,
      "_view_module": "@jupyter-widgets/base",
      "_view_module_version": "1.2.0",
      "_view_name": "StyleView",
      "description_width": ""
     }
    },
    "b3cddb092fb841839c1389ae6c4ecda9": {
     "model_module": "@jupyter-widgets/controls",
     "model_module_version": "1.5.0",
     "model_name": "FloatProgressModel",
     "state": {
      "_dom_classes": [],
      "_model_module": "@jupyter-widgets/controls",
      "_model_module_version": "1.5.0",
      "_model_name": "FloatProgressModel",
      "_view_count": null,
      "_view_module": "@jupyter-widgets/controls",
      "_view_module_version": "1.5.0",
      "_view_name": "ProgressView",
      "bar_style": "success",
      "description": "",
      "description_tooltip": null,
      "layout": "IPY_MODEL_6e386f4001774ed7bdac7aa5d23a59f8",
      "max": 7600,
      "min": 0,
      "orientation": "horizontal",
      "style": "IPY_MODEL_ead0a69321274d8990239530bce6d46d",
      "value": 7600
     }
    },
    "ba74230812cd4a788a101ab84bae6ecf": {
     "model_module": "@jupyter-widgets/controls",
     "model_module_version": "1.5.0",
     "model_name": "HTMLModel",
     "state": {
      "_dom_classes": [],
      "_model_module": "@jupyter-widgets/controls",
      "_model_module_version": "1.5.0",
      "_model_name": "HTMLModel",
      "_view_count": null,
      "_view_module": "@jupyter-widgets/controls",
      "_view_module_version": "1.5.0",
      "_view_name": "HTMLView",
      "description": "",
      "description_tooltip": null,
      "layout": "IPY_MODEL_56f163f036284ac0bef03e114c8ebcf2",
      "placeholder": "​",
      "style": "IPY_MODEL_a177f565e8c24fdf8e560a2a3a8bef79",
      "value": "Generating train split: 100%"
     }
    },
    "c66f26b9dee64e8f930563efe460db39": {
     "model_module": "@jupyter-widgets/base",
     "model_module_version": "1.2.0",
     "model_name": "LayoutModel",
     "state": {
      "_model_module": "@jupyter-widgets/base",
      "_model_module_version": "1.2.0",
      "_model_name": "LayoutModel",
      "_view_count": null,
      "_view_module": "@jupyter-widgets/base",
      "_view_module_version": "1.2.0",
      "_view_name": "LayoutView",
      "align_content": null,
      "align_items": null,
      "align_self": null,
      "border": null,
      "bottom": null,
      "display": null,
      "flex": null,
      "flex_flow": null,
      "grid_area": null,
      "grid_auto_columns": null,
      "grid_auto_flow": null,
      "grid_auto_rows": null,
      "grid_column": null,
      "grid_gap": null,
      "grid_row": null,
      "grid_template_areas": null,
      "grid_template_columns": null,
      "grid_template_rows": null,
      "height": null,
      "justify_content": null,
      "justify_items": null,
      "left": null,
      "margin": null,
      "max_height": null,
      "max_width": null,
      "min_height": null,
      "min_width": null,
      "object_fit": null,
      "object_position": null,
      "order": null,
      "overflow": null,
      "overflow_x": null,
      "overflow_y": null,
      "padding": null,
      "right": null,
      "top": null,
      "visibility": null,
      "width": null
     }
    },
    "c9d55118eea84523b0ff3c9b50a239ee": {
     "model_module": "@jupyter-widgets/controls",
     "model_module_version": "1.5.0",
     "model_name": "DescriptionStyleModel",
     "state": {
      "_model_module": "@jupyter-widgets/controls",
      "_model_module_version": "1.5.0",
      "_model_name": "DescriptionStyleModel",
      "_view_count": null,
      "_view_module": "@jupyter-widgets/base",
      "_view_module_version": "1.2.0",
      "_view_name": "StyleView",
      "description_width": ""
     }
    },
    "cb75db9bf68d4ff4827eec45a3c59600": {
     "model_module": "@jupyter-widgets/base",
     "model_module_version": "1.2.0",
     "model_name": "LayoutModel",
     "state": {
      "_model_module": "@jupyter-widgets/base",
      "_model_module_version": "1.2.0",
      "_model_name": "LayoutModel",
      "_view_count": null,
      "_view_module": "@jupyter-widgets/base",
      "_view_module_version": "1.2.0",
      "_view_name": "LayoutView",
      "align_content": null,
      "align_items": null,
      "align_self": null,
      "border": null,
      "bottom": null,
      "display": null,
      "flex": null,
      "flex_flow": null,
      "grid_area": null,
      "grid_auto_columns": null,
      "grid_auto_flow": null,
      "grid_auto_rows": null,
      "grid_column": null,
      "grid_gap": null,
      "grid_row": null,
      "grid_template_areas": null,
      "grid_template_columns": null,
      "grid_template_rows": null,
      "height": null,
      "justify_content": null,
      "justify_items": null,
      "left": null,
      "margin": null,
      "max_height": null,
      "max_width": null,
      "min_height": null,
      "min_width": null,
      "object_fit": null,
      "object_position": null,
      "order": null,
      "overflow": null,
      "overflow_x": null,
      "overflow_y": null,
      "padding": null,
      "right": null,
      "top": null,
      "visibility": null,
      "width": null
     }
    },
    "d23c2f8789ba42108d1415259e907679": {
     "model_module": "@jupyter-widgets/controls",
     "model_module_version": "1.5.0",
     "model_name": "DescriptionStyleModel",
     "state": {
      "_model_module": "@jupyter-widgets/controls",
      "_model_module_version": "1.5.0",
      "_model_name": "DescriptionStyleModel",
      "_view_count": null,
      "_view_module": "@jupyter-widgets/base",
      "_view_module_version": "1.2.0",
      "_view_name": "StyleView",
      "description_width": ""
     }
    },
    "dca38a8bdb844677bf80f43c694b0dc2": {
     "model_module": "@jupyter-widgets/controls",
     "model_module_version": "1.5.0",
     "model_name": "ProgressStyleModel",
     "state": {
      "_model_module": "@jupyter-widgets/controls",
      "_model_module_version": "1.5.0",
      "_model_name": "ProgressStyleModel",
      "_view_count": null,
      "_view_module": "@jupyter-widgets/base",
      "_view_module_version": "1.2.0",
      "_view_name": "StyleView",
      "bar_color": null,
      "description_width": ""
     }
    },
    "ddb29bfa2050463aab3f8381140d4789": {
     "model_module": "@jupyter-widgets/controls",
     "model_module_version": "1.5.0",
     "model_name": "DescriptionStyleModel",
     "state": {
      "_model_module": "@jupyter-widgets/controls",
      "_model_module_version": "1.5.0",
      "_model_name": "DescriptionStyleModel",
      "_view_count": null,
      "_view_module": "@jupyter-widgets/base",
      "_view_module_version": "1.2.0",
      "_view_name": "StyleView",
      "description_width": ""
     }
    },
    "df718b4426dd4687b6f0a17a4e425f6a": {
     "model_module": "@jupyter-widgets/controls",
     "model_module_version": "1.5.0",
     "model_name": "HTMLModel",
     "state": {
      "_dom_classes": [],
      "_model_module": "@jupyter-widgets/controls",
      "_model_module_version": "1.5.0",
      "_model_name": "HTMLModel",
      "_view_count": null,
      "_view_module": "@jupyter-widgets/controls",
      "_view_module_version": "1.5.0",
      "_view_name": "HTMLView",
      "description": "",
      "description_tooltip": null,
      "layout": "IPY_MODEL_29435b2495824acab3b22d332802906a",
      "placeholder": "​",
      "style": "IPY_MODEL_d23c2f8789ba42108d1415259e907679",
      "value": " 120000/120000 [00:01&lt;00:00, 105735.61 examples/s]"
     }
    },
    "e3d445b060eb4f8891f7d695382ea648": {
     "model_module": "@jupyter-widgets/controls",
     "model_module_version": "1.5.0",
     "model_name": "HBoxModel",
     "state": {
      "_dom_classes": [],
      "_model_module": "@jupyter-widgets/controls",
      "_model_module_version": "1.5.0",
      "_model_name": "HBoxModel",
      "_view_count": null,
      "_view_module": "@jupyter-widgets/controls",
      "_view_module_version": "1.5.0",
      "_view_name": "HBoxView",
      "box_style": "",
      "children": [
       "IPY_MODEL_4a091a47c37247478845fe3667d03941",
       "IPY_MODEL_4763dde753cb4264af603e878b2201d5",
       "IPY_MODEL_17f54cb9e1594310ab6bfbcac886b5d8"
      ],
      "layout": "IPY_MODEL_a40fdf8c3d4344d8ac27dc6887fa6f81"
     }
    },
    "e445cbd208c3460396b00a0e77c8637a": {
     "model_module": "@jupyter-widgets/controls",
     "model_module_version": "1.5.0",
     "model_name": "HBoxModel",
     "state": {
      "_dom_classes": [],
      "_model_module": "@jupyter-widgets/controls",
      "_model_module_version": "1.5.0",
      "_model_name": "HBoxModel",
      "_view_count": null,
      "_view_module": "@jupyter-widgets/controls",
      "_view_module_version": "1.5.0",
      "_view_name": "HBoxView",
      "box_style": "",
      "children": [
       "IPY_MODEL_ba74230812cd4a788a101ab84bae6ecf",
       "IPY_MODEL_66badf00ef964ca4a11a4dccd1ee23e5",
       "IPY_MODEL_df718b4426dd4687b6f0a17a4e425f6a"
      ],
      "layout": "IPY_MODEL_03b0ac596a884e75b11d857d319fcde9"
     }
    },
    "ead0a69321274d8990239530bce6d46d": {
     "model_module": "@jupyter-widgets/controls",
     "model_module_version": "1.5.0",
     "model_name": "ProgressStyleModel",
     "state": {
      "_model_module": "@jupyter-widgets/controls",
      "_model_module_version": "1.5.0",
      "_model_name": "ProgressStyleModel",
      "_view_count": null,
      "_view_module": "@jupyter-widgets/base",
      "_view_module_version": "1.2.0",
      "_view_name": "StyleView",
      "bar_color": null,
      "description_width": ""
     }
    },
    "eafc0700a096441fa43bdfa5c466bd9e": {
     "model_module": "@jupyter-widgets/controls",
     "model_module_version": "1.5.0",
     "model_name": "DescriptionStyleModel",
     "state": {
      "_model_module": "@jupyter-widgets/controls",
      "_model_module_version": "1.5.0",
      "_model_name": "DescriptionStyleModel",
      "_view_count": null,
      "_view_module": "@jupyter-widgets/base",
      "_view_module_version": "1.2.0",
      "_view_name": "StyleView",
      "description_width": ""
     }
    }
   }
  }
 },
 "nbformat": 4,
 "nbformat_minor": 1
}
