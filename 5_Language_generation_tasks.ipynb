{
  "nbformat": 4,
  "nbformat_minor": 0,
  "metadata": {
    "colab": {
      "provenance": []
    },
    "kernelspec": {
      "name": "python3",
      "display_name": "Python 3"
    },
    "language_info": {
      "name": "python"
    }
  },
  "cells": [
    {
      "cell_type": "markdown",
      "source": [
        "# Language Generation Tasks\n",
        "\n",
        "### Outline:\n",
        "\n",
        "- Text completion, dialogue systems and story generation.\n",
        "- What’s behind ChatGPT?\n",
        "- Understanding text generation as a probabilistic autoregressive process.\n",
        "- Prompt engineering.\n",
        "- **Hands-on Lab:** Develop prompts for summarisation, grammatical corrections and few-shot learning.\n"
      ],
      "metadata": {
        "id": "FZ73ulJAiG5h"
      }
    },
    {
      "cell_type": "markdown",
      "source": [
        "# Understanding text generation as a probabilistic autoregressive model\n",
        "- ### OpenAI playground demo"
      ],
      "metadata": {
        "id": "Aesj2Hh1T1pr"
      }
    },
    {
      "cell_type": "markdown",
      "source": [
        "# **OpenAI API**"
      ],
      "metadata": {
        "id": "CpJB2qS92WWB"
      }
    },
    {
      "cell_type": "code",
      "execution_count": null,
      "metadata": {
        "id": "2otlzJEcN7cA"
      },
      "outputs": [],
      "source": [
        "! pip install \"openai<1\" ## legacy version"
      ]
    },
    {
      "cell_type": "code",
      "source": [
        "import openai"
      ],
      "metadata": {
        "id": "I5biWlkegspb"
      },
      "execution_count": null,
      "outputs": []
    },
    {
      "cell_type": "code",
      "source": [
        "openai.api_key = \"insert API key\""
      ],
      "metadata": {
        "id": "TQA4UtJ1g2Lp"
      },
      "execution_count": null,
      "outputs": []
    },
    {
      "cell_type": "markdown",
      "source": [
        "## Completion model"
      ],
      "metadata": {
        "id": "_KlbjjPH2t0_"
      }
    },
    {
      "cell_type": "code",
      "source": [
        "openai.Completion.create(\n",
        "    model = \"gpt-3.5-turbo-instruct\",\n",
        "    prompt = \"Who invented television \",\n",
        "    temperature = 1,\n",
        "    max_tokens = 128,\n",
        "    n = 3\n",
        ")"
      ],
      "metadata": {
        "colab": {
          "base_uri": "https://localhost:8080/"
        },
        "id": "rHk6ILf6g_zA",
        "outputId": "5794e8ac-6c9f-41cc-bde9-f5d6a10909c8",
        "collapsed": true
      },
      "execution_count": null,
      "outputs": [
        {
          "output_type": "execute_result",
          "data": {
            "text/plain": [
              "<OpenAIObject text_completion id=cmpl-9eq2oLZu7yQDuaG9NB5u7m1KwOZ0s at 0x7cda23f67920> JSON: {\n",
              "  \"id\": \"cmpl-9eq2oLZu7yQDuaG9NB5u7m1KwOZ0s\",\n",
              "  \"object\": \"text_completion\",\n",
              "  \"created\": 1719520206,\n",
              "  \"model\": \"gpt-3.5-turbo-instruct\",\n",
              "  \"choices\": [\n",
              "    {\n",
              "      \"text\": \"\\nThe invention of television is credited to Philo Taylor Farnsworth, an American inventor and scientist. He first successfully demonstrated his electronic television system in 1927 at the age of 21. However, there were many other contributors and inventions that paved the way for the development of television, such as Nipkow's rotating disk, John Logie Baird's mechanical television, and Vladimir Zworykin's iconoscope.\",\n",
              "      \"index\": 0,\n",
              "      \"logprobs\": null,\n",
              "      \"finish_reason\": \"stop\"\n",
              "    },\n",
              "    {\n",
              "      \"text\": \"\\nThere is no one single inventor of television, as the technology and concept of television has gone through many stages and developments over time. However, some key figures in the history of television include Philo Farnsworth, John Logie Baird, and Vladimir Zworykin.\",\n",
              "      \"index\": 1,\n",
              "      \"logprobs\": null,\n",
              "      \"finish_reason\": \"stop\"\n",
              "    },\n",
              "    {\n",
              "      \"text\": \"\\n\\nThe invention of television can be attributed to several inventors, such as John Logie Baird, Philo Farnsworth, and Vladimir Zworykin, who all contributed to developing the technology and making it available to the public. However, the first practical and fully functional television system was created by Philo Farnsworth in 1927.\",\n",
              "      \"index\": 2,\n",
              "      \"logprobs\": null,\n",
              "      \"finish_reason\": \"stop\"\n",
              "    }\n",
              "  ],\n",
              "  \"usage\": {\n",
              "    \"prompt_tokens\": 4,\n",
              "    \"completion_tokens\": 214,\n",
              "    \"total_tokens\": 218\n",
              "  }\n",
              "}"
            ]
          },
          "metadata": {},
          "execution_count": 8
        }
      ]
    },
    {
      "cell_type": "code",
      "source": [
        "openai.Completion.create(\n",
        "    model = \"gpt-3.5-turbo-instruct\",\n",
        "    prompt = \"The top five scientific contributors to the theory of Nuclear magnetic resonance \"\n",
        ")"
      ],
      "metadata": {
        "id": "KurOJl1_hQM0",
        "colab": {
          "base_uri": "https://localhost:8080/"
        },
        "outputId": "7e4fabcf-709d-48ef-e192-934989736899"
      },
      "execution_count": null,
      "outputs": [
        {
          "output_type": "execute_result",
          "data": {
            "text/plain": [
              "<OpenAIObject text_completion id=cmpl-9ekLjkqxT3Xe1AFJrsdoSCDiE0hSV at 0x7e65d46211c0> JSON: {\n",
              "  \"id\": \"cmpl-9ekLjkqxT3Xe1AFJrsdoSCDiE0hSV\",\n",
              "  \"object\": \"text_completion\",\n",
              "  \"created\": 1719498315,\n",
              "  \"model\": \"gpt-3.5-turbo-instruct\",\n",
              "  \"choices\": [\n",
              "    {\n",
              "      \"text\": \"are:\\n\\n1. Edward Purcell\\n2. Felix Bloch\\n3.\",\n",
              "      \"index\": 0,\n",
              "      \"logprobs\": null,\n",
              "      \"finish_reason\": \"length\"\n",
              "    }\n",
              "  ],\n",
              "  \"usage\": {\n",
              "    \"prompt_tokens\": 13,\n",
              "    \"completion_tokens\": 16,\n",
              "    \"total_tokens\": 29\n",
              "  }\n",
              "}"
            ]
          },
          "metadata": {},
          "execution_count": 5
        }
      ]
    },
    {
      "cell_type": "code",
      "source": [
        "response = openai.Completion.create(\n",
        "    model = \"gpt-3.5-turbo-instruct\",\n",
        "    prompt = \"The top five scientific contributors to the theory of Nuclear magnetic resonance \",\n",
        "    max_tokens = 512,\n",
        "    n = 2\n",
        ")\n",
        "print(response['choices'][0]['text'])"
      ],
      "metadata": {
        "colab": {
          "base_uri": "https://localhost:8080/"
        },
        "id": "7NROqYlwH4G8",
        "outputId": "cc3dd8f2-ecfe-41ac-f0ab-98f7acd2ef2a"
      },
      "execution_count": null,
      "outputs": [
        {
          "output_type": "stream",
          "name": "stdout",
          "text": [
            "(NMR) are:\n",
            "\n",
            "1. Isidor Isaac Rabi\n",
            "Isidor Isaac Rabi was a Nobel Prize-winning physicist who made significant contributions to the understanding of magnetic resonance. In 1938, he discovered that atomic nuclei have a tiny magnetic moment, which can be manipulated by an external magnetic field. This discovery laid the groundwork for the development of NMR techniques.\n",
            "\n",
            "2. Felix Bloch\n",
            "Felix Bloch was a Swiss-born physicist who, along with Edward Purcell, first demonstrated the phenomena of NMR in solids. In 1952, they showed that solid crystals could retain magnetic properties even after being removed from a magnetic field, leading to the development of NMR spectroscopy.\n",
            "\n",
            "3. Edward Mills Purcell\n",
            "Edward Mills Purcell was an American physicist who, along with Felix Bloch, demonstrated the principles of NMR in solids. He also made numerous other contributions to the field of nuclear physics, including the development of the nuclear magnetic moment and the refinement of NMR techniques.\n",
            "\n",
            "4. Richard R. Ernst\n",
            "Richard R. Ernst was a Swiss chemist who made significant advances in NMR spectroscopy. In 1991, he was awarded the Nobel Prize in Chemistry for his development of multidimensional NMR techniques, which greatly improved the resolution and sensitivity of NMR spectroscopy.\n",
            "\n",
            "5. Kurt Wüthrich\n",
            "Kurt Wüthrich is a Swiss chemist who won the Nobel Prize in Chemistry in 2002 for his work on protein structure determination using NMR spectroscopy. His developments in NMR techniques allowed for the determination of the three-dimensional structures of large biomolecules, revolutionizing the field of structural biology.\n"
          ]
        }
      ]
    },
    {
      "cell_type": "code",
      "source": [
        "print(response['choices'][1]['text'])"
      ],
      "metadata": {
        "id": "km6Z0QAmFRkB",
        "outputId": "3607f443-6369-40d7-9a63-e23c51d10deb",
        "colab": {
          "base_uri": "https://localhost:8080/"
        }
      },
      "execution_count": null,
      "outputs": [
        {
          "output_type": "stream",
          "name": "stdout",
          "text": [
            "(NMR) are:\n",
            "\n",
            "1. Henri Becquerel\n",
            "Henri Becquerel, a French physicist, first discovered the phenomenon of radioactivity in 1896 while studying uranium salts. This discovery paved the way for the later development of NMR technology.\n",
            "\n",
            "2. Otto Stern\n",
            "Otto Stern, an American physicist, made significant contributions to NMR theory during the 1920s and 1930s. He conducted experiments that demonstrated how atomic nuclei could absorb and emit electromagnetic radiation.\n",
            "\n",
            "3. Felix Bloch\n",
            "Felix Bloch, an American physicist, is often credited as the father of NMR. In 1946, Bloch published a paper that outlined the mathematical and analytical principles behind NMR, laying the groundwork for its practical application.\n",
            "\n",
            "4. Edward Mills Purcell\n",
            "Edward Mills Purcell, an American physicist, independently discovered the phenomenon of NMR in 1945, shortly after Bloch's paper was published. He also made significant contributions to the understanding of NMR and its applications.\n",
            "\n",
            "5. Richard Ernst\n",
            "Richard Ernst, a Swiss chemist, made pioneering contributions to the development of modern NMR techniques in the 1970s and 1980s. He is credited with the invention of Fourier transform NMR and other important innovations that have revolutionized the technology.\n"
          ]
        }
      ]
    },
    {
      "cell_type": "code",
      "source": [
        "openai.Completion.create(\n",
        "    model = \"gpt-3.5-turbo-instruct\",\n",
        "    prompt = \"Generate a list of the most visited cities in Denmark \"\n",
        ")"
      ],
      "metadata": {
        "colab": {
          "base_uri": "https://localhost:8080/"
        },
        "id": "6bvEG-5gJix3",
        "outputId": "01e64426-5c6f-4f81-a885-539dbb695789"
      },
      "execution_count": null,
      "outputs": [
        {
          "output_type": "execute_result",
          "data": {
            "text/plain": [
              "<OpenAIObject text_completion id=cmpl-9N9XStDZuycx26g4ME4d2vCrI8yfa at 0x7bd4380d36a0> JSON: {\n",
              "  \"id\": \"cmpl-9N9XStDZuycx26g4ME4d2vCrI8yfa\",\n",
              "  \"object\": \"text_completion\",\n",
              "  \"created\": 1715305238,\n",
              "  \"model\": \"gpt-3.5-turbo-instruct\",\n",
              "  \"choices\": [\n",
              "    {\n",
              "      \"text\": \"\\n\\n1. Copenhagen\\n2. Aarhus\\n3. Aalborg\\n4\",\n",
              "      \"index\": 0,\n",
              "      \"logprobs\": null,\n",
              "      \"finish_reason\": \"length\"\n",
              "    }\n",
              "  ],\n",
              "  \"usage\": {\n",
              "    \"prompt_tokens\": 11,\n",
              "    \"completion_tokens\": 16,\n",
              "    \"total_tokens\": 27\n",
              "  }\n",
              "}"
            ]
          },
          "metadata": {},
          "execution_count": 13
        }
      ]
    },
    {
      "cell_type": "code",
      "source": [
        "gpt_says = openai.Completion.create(\n",
        "    model = \"gpt-3.5-turbo-instruct\",\n",
        "    prompt = \"Generate a list of most read books by Stephen King \",\n",
        "    max_tokens = 64,\n",
        "    temperature = 1.5\n",
        ")"
      ],
      "metadata": {
        "id": "1TFIUDv-KNNJ"
      },
      "execution_count": null,
      "outputs": []
    },
    {
      "cell_type": "code",
      "source": [
        "print(gpt_says['choices'][0]['text'])"
      ],
      "metadata": {
        "colab": {
          "base_uri": "https://localhost:8080/"
        },
        "id": "wWRfJJkWK27E",
        "outputId": "eb019d21-176f-4384-9c39-82b0b1a5f748"
      },
      "execution_count": null,
      "outputs": [
        {
          "output_type": "stream",
          "name": "stdout",
          "text": [
            "\n",
            "\n",
            "1. \"It\" \n",
            "2. \"The Shining\" \n",
            "3. \"Misery\" \n",
            "4. \"The Stand\" \n",
            "5. \"The Green Mile\" \n",
            "6. \"Carrie\" \n",
            "7. \"Pet Sematary\" \n",
            "8. \"11/22/63\" \n",
            "9\n"
          ]
        }
      ]
    },
    {
      "cell_type": "code",
      "source": [
        "gpt_says = openai.Completion.create(\n",
        "    model = \"gpt-3.5-turbo-instruct\",\n",
        "    prompt = \"Generate a list of most read books by Stephen King \",\n",
        "    max_tokens = 64,\n",
        "    stop = '5'\n",
        ")"
      ],
      "metadata": {
        "id": "YT7pGa7OK-gc"
      },
      "execution_count": null,
      "outputs": []
    },
    {
      "cell_type": "code",
      "source": [
        "print(gpt_says['choices'][0]['text'])"
      ],
      "metadata": {
        "colab": {
          "base_uri": "https://localhost:8080/"
        },
        "id": "8KrlBh8sLpRN",
        "outputId": "96321301-7231-4a01-b077-658b5bd68a71"
      },
      "execution_count": null,
      "outputs": [
        {
          "output_type": "stream",
          "name": "stdout",
          "text": [
            "\n",
            "\n",
            "1. \"The Shining\"\n",
            "2. \"Pet Sematary\"\n",
            "3. \"Carrie\"\n",
            "4. \"It\"\n",
            "\n"
          ]
        }
      ]
    },
    {
      "cell_type": "code",
      "source": [
        "prompt = \"Example 1: What is 10 + 5?\\nAnswer: 15\\n\\nExample 2: What is 20 - 10?\\nAnswer: 10\\n\\nExample 3: What is 5 * 7?\\nAnswer: 35\\n\\nQuestion: What is 50 / 10?\"\n",
        "\n",
        "response = openai.Completion.create(\n",
        "    model=\"gpt-3.5-turbo-instruct\",\n",
        "    prompt = prompt,\n",
        "    max_tokens=300\n",
        ")\n",
        "print(response.choices[0]['text'])"
      ],
      "metadata": {
        "colab": {
          "base_uri": "https://localhost:8080/"
        },
        "id": "PM4_v_HYgQZj",
        "outputId": "11de0587-b648-44bd-f9ec-d1f6ac829db3"
      },
      "execution_count": null,
      "outputs": [
        {
          "output_type": "stream",
          "name": "stdout",
          "text": [
            "\n",
            "Answer: 5\n"
          ]
        }
      ]
    },
    {
      "cell_type": "code",
      "source": [
        "print(prompt)"
      ],
      "metadata": {
        "colab": {
          "base_uri": "https://localhost:8080/"
        },
        "id": "LzfdnnPvgyJz",
        "outputId": "e041ab06-b4ed-4c31-cabb-004a240fcccd"
      },
      "execution_count": null,
      "outputs": [
        {
          "output_type": "stream",
          "name": "stdout",
          "text": [
            "Example 1: What is 10 + 5?\n",
            "Answer: 15\n",
            "\n",
            "Example 2: What is 20 - 10?\n",
            "Answer: 10\n",
            "\n",
            "Example 3: What is 5 * 7?\n",
            "Answer: 35\n",
            "\n",
            "Question: What is 50 / 10?\n"
          ]
        }
      ]
    },
    {
      "cell_type": "markdown",
      "source": [
        "## Chat Model"
      ],
      "metadata": {
        "id": "AT-pyDtD262_"
      }
    },
    {
      "cell_type": "markdown",
      "source": [
        "## Example 1. Translation"
      ],
      "metadata": {
        "id": "k1650ARIxKSF"
      }
    },
    {
      "cell_type": "code",
      "source": [
        "openai.ChatCompletion.create(\n",
        "  model=\"gpt-4\",\n",
        "  messages=[\n",
        "    {\n",
        "      \"role\": \"system\",\n",
        "      \"content\": \"You will be provided with a sentence in English, and your task is to translate it into French.\"\n",
        "    },\n",
        "    {\n",
        "      \"role\": \"user\",\n",
        "      \"content\": \"My name is Jane. What is yours?\"\n",
        "    }\n",
        "  ],\n",
        "  temperature=0,\n",
        "  max_tokens=64,\n",
        "  top_p=1\n",
        ")"
      ],
      "metadata": {
        "colab": {
          "base_uri": "https://localhost:8080/"
        },
        "id": "a2rtSNGHD1zS",
        "outputId": "647a9ab1-5c8c-45dd-e09a-df8b55ca9384"
      },
      "execution_count": null,
      "outputs": [
        {
          "output_type": "execute_result",
          "data": {
            "text/plain": [
              "<OpenAIObject chat.completion id=chatcmpl-9VjcuN4sFMbrwzVAxaGi4IrrP4an4 at 0x7954e679efc0> JSON: {\n",
              "  \"id\": \"chatcmpl-9VjcuN4sFMbrwzVAxaGi4IrrP4an4\",\n",
              "  \"object\": \"chat.completion\",\n",
              "  \"created\": 1717350584,\n",
              "  \"model\": \"gpt-4-0613\",\n",
              "  \"choices\": [\n",
              "    {\n",
              "      \"index\": 0,\n",
              "      \"message\": {\n",
              "        \"role\": \"assistant\",\n",
              "        \"content\": \"Mon nom est Jane. Quel est le tien?\"\n",
              "      },\n",
              "      \"logprobs\": null,\n",
              "      \"finish_reason\": \"stop\"\n",
              "    }\n",
              "  ],\n",
              "  \"usage\": {\n",
              "    \"prompt_tokens\": 40,\n",
              "    \"completion_tokens\": 12,\n",
              "    \"total_tokens\": 52\n",
              "  },\n",
              "  \"system_fingerprint\": null\n",
              "}"
            ]
          },
          "metadata": {},
          "execution_count": 4
        }
      ]
    },
    {
      "cell_type": "markdown",
      "source": [
        "## Example 2: Deployment Recipe for a Flask Application"
      ],
      "metadata": {
        "id": "lhdB5WekxNqF"
      }
    },
    {
      "cell_type": "code",
      "source": [
        "prompt = \"Create a detailed guide on how to deploy a Flask application on an Ubuntu server with Nginx and Gunicorn.\"\n",
        "response = openai.ChatCompletion.create(\n",
        "    model=\"gpt-3.5-turbo\",\n",
        "    messages=[\n",
        "        {\"role\": \"system\", \"content\": \"Provide a detailed deployment guide for a Flask application.\"},\n",
        "        {\"role\": \"user\", \"content\": prompt}\n",
        "    ],\n",
        "    max_tokens=300,\n",
        "    top_p=0\n",
        ")\n",
        "\n",
        "print(response.choices[0].message.content)\n"
      ],
      "metadata": {
        "colab": {
          "base_uri": "https://localhost:8080/"
        },
        "outputId": "261ad407-a65b-4817-c6e1-ae25b08cbc31",
        "id": "nBEgCWGo3GTC"
      },
      "execution_count": null,
      "outputs": [
        {
          "output_type": "stream",
          "name": "stdout",
          "text": [
            "Deploying a Flask application on an Ubuntu server with Nginx and Gunicorn involves several steps. Below is a detailed guide to help you through the process:\n",
            "\n",
            "### Step 1: Set up the Ubuntu Server\n",
            "1. Launch a new Ubuntu server instance on your preferred cloud provider or set up a local Ubuntu server.\n",
            "2. SSH into the server using your terminal or an SSH client.\n",
            "\n",
            "### Step 2: Install Required Packages\n",
            "1. Update the package list and install necessary packages:\n",
            "   ```\n",
            "   sudo apt update\n",
            "   sudo apt install python3-pip python3-venv nginx\n",
            "   ```\n",
            "\n",
            "### Step 3: Set up a Virtual Environment\n",
            "1. Create a directory for your Flask application and navigate to it:\n",
            "   ```\n",
            "   mkdir my_flask_app\n",
            "   cd my_flask_app\n",
            "   ```\n",
            "2. Create a virtual environment and activate it:\n",
            "   ```\n",
            "   python3 -m venv venv\n",
            "   source venv/bin/activate\n",
            "   ```\n",
            "\n",
            "### Step 4: Install Flask and Gunicorn\n",
            "1. Install Flask and Gunicorn using pip:\n",
            "   ```\n",
            "   pip install flask gunicorn\n",
            "   ```\n",
            "\n",
            "### Step 5: Configure Gunicorn\n",
            "1. Create a WSGI entry point for Gunicorn. For example, create a file named `wsgi.py` with the following content:\n",
            "   ```python\n",
            "   from my_flask_app import app\n",
            "\n",
            "   if __name__ == \"__main__\":\n",
            "       app.run()\n",
            "   ```\n",
            "2\n"
          ]
        }
      ]
    },
    {
      "cell_type": "markdown",
      "source": [
        "## Example 3: Few-Shot Learning Pattern"
      ],
      "metadata": {
        "id": "MtdsW4z5xWB9"
      }
    },
    {
      "cell_type": "code",
      "source": [
        "prompt = \"Example 1: What is 10 + 5?\\nAnswer: 15\\n\\nExample 2: What is 20 - 10?\\nAnswer: 10\\n\\nExample 3: What is 5 * 7?\\nAnswer: 35\\n\\nQuestion: What is 50 / 10?\"\n",
        "response = openai.ChatCompletion.create(\n",
        "    model=\"gpt-3.5-turbo\",\n",
        "    messages=[\n",
        "        {\"role\": \"system\", \"content\": \"Solve the math problem given the pattern.\"},\n",
        "        {\"role\": \"user\", \"content\": prompt}\n",
        "    ],\n",
        "    max_tokens=50\n",
        ")\n",
        "\n",
        "print(prompt)\n",
        "print(response.choices[0].message.content)"
      ],
      "metadata": {
        "colab": {
          "base_uri": "https://localhost:8080/"
        },
        "id": "HwqDPJmKw4Ue",
        "outputId": "a4cf924c-9460-4d57-d0bc-4a37c1c5eb17"
      },
      "execution_count": null,
      "outputs": [
        {
          "output_type": "stream",
          "name": "stdout",
          "text": [
            "Example 1: What is 10 + 5?\n",
            "Answer: 15\n",
            "\n",
            "Example 2: What is 20 - 10?\n",
            "Answer: 10\n",
            "\n",
            "Example 3: What is 5 * 7?\n",
            "Answer: 35\n",
            "\n",
            "Question: What is 50 / 10?\n",
            "The answer is 5.\n"
          ]
        }
      ]
    },
    {
      "cell_type": "code",
      "source": [],
      "metadata": {
        "id": "4zGVjbxdxs9t"
      },
      "execution_count": null,
      "outputs": []
    },
    {
      "cell_type": "code",
      "source": [],
      "metadata": {
        "id": "ZH1Y5wOZkqcj"
      },
      "execution_count": null,
      "outputs": []
    },
    {
      "cell_type": "markdown",
      "source": [
        "# Prompts\n",
        "\n",
        "https://platform.openai.com/docs/examples\n",
        "\n",
        "<img src=\"https://raw.githubusercontent.com/wsko/hands-on-gen-ai-2/main/images/prompt_examples.png\"  height=\"600\" align=\"center\"/>\n"
      ],
      "metadata": {
        "id": "FkDD1pKDjjKx"
      }
    },
    {
      "cell_type": "markdown",
      "source": [
        "# Interaction Patterns\n",
        "\n",
        "\n",
        "### 1. Question and Answer\n",
        "Users ask specific questions and receive direct answers from the GPT. Highly useful for getting quick information, clarifications, or solving simple problems.\n",
        "\n",
        "**Example:** A student asks, \"What is the capital of France?\" GPT answers, \"Paris.\"\n",
        "\n",
        "**Best Practices for Prompt Design:**\n",
        "- Be specific and clear in your question.\n",
        "- Provide context if necessary to avoid ambiguity.\n",
        "- Example prompt: \"What is the chemical formula for water?\"\n",
        "\n",
        "### 2. Conversational Dialog\n",
        "GPT engages in an ongoing conversation with the user. Useful for tutoring, practicing languages, or exploring topics in depth.\n",
        "\n",
        "**Example:** A student has a conversation with GPT about the causes of World War II.\n",
        "\n",
        "**Best Practices for Prompt Design:**\n",
        "- Start with an open-ended question to initiate the conversation.\n",
        "- Follow up with related questions to keep the dialogue flowing.\n",
        "- Example prompt: \"Can you tell me about the major events of World War II?\"\n",
        "\n",
        "### 3. Task Completion\n",
        "GPT assists in completing specific tasks or processes.\n",
        " Helpful for filling out forms, writing emails, or organizing information.\n",
        "\n",
        "**Example:** A student asks GPT to help draft a cover letter for a job application.\n",
        "\n",
        "**Best Practices for Prompt Design:**\n",
        "- Clearly define the task and provide necessary details.\n",
        "- Example prompt: \"Help me write a cover letter for a software engineering internship.\"\n",
        "\n",
        "### 4. Content Generation\n",
        "GPT creates content based on user input, such as essays, stories, or articles.\n",
        " Useful for brainstorming, writing assistance, and creative projects.\n",
        "\n",
        "**Example:** A student asks GPT to write a short story about a dragon.\n",
        "\n",
        "**Best Practices for Prompt Design:**\n",
        "- Provide a clear and detailed prompt with specific guidelines.\n",
        "- Example prompt: \"Write a short story about a dragon who learns to fly for the first time.\"\n",
        "\n",
        "### 5. Information Retrieval, Fact-Finding Queries\n",
        "GPT retrieves and provides factual information or data.\n",
        " Ideal for research, studying, and quick access to information.\n",
        "\n",
        "**Example:** A student asks GPT, \"What are the main functions of the respiratory system?\"\n",
        "\n",
        "**Best Practices for Prompt Design:**\n",
        "- Be specific and clear about the information needed.\n",
        "- Example prompt: \"List the primary functions of the respiratory system.\"\n",
        "\n",
        "### 6. Advice and Guidance\n",
        "GPT offers advice or guidance on various topics.\n",
        " Useful for personal development, career advice, and educational guidance.\n",
        "\n",
        "**Example:** A student asks GPT for study tips for an upcoming exam.\n",
        "\n",
        "**Best Practices for Prompt Design:**\n",
        "- Clearly state the area where advice is needed.\n",
        "- Example prompt: \"Can you give me some tips on how to study effectively for a math test?\"\n",
        "\n",
        "### 7. Simulation and Role Play\n",
        "GPT simulates scenarios or role-plays interactions.\n",
        " Useful for practicing interviews, conversations, or learning through scenarios.\n",
        "\n",
        "**Example:** A student practices a job interview with GPT acting as the interviewer.\n",
        "\n",
        "**Best Practices for Prompt Design:**\n",
        "- Define the roles and the scenario clearly.\n",
        "- Example prompt: \"Pretend you are an interviewer for a software developer position. Ask me some questions.\"\n",
        "\n",
        "### 8. Code Assistance\n",
        "GPT helps with writing, debugging, or explaining code.\n",
        " Ideal for programming students and developers seeking help with code.\n",
        "\n",
        "**Example:** A student asks GPT to help debug a Python script.\n",
        "\n",
        "**Best Practices for Prompt Design:**\n",
        "- Provide the code and describe the issue clearly.\n",
        "- Example prompt: \"Here is my Python code for a sorting algorithm. Can you help me find the bug?\"\n",
        "\n",
        "### 9. Language Translation\n",
        "GPT translates text from one language to another.\n",
        " Useful for language learning, communication, and understanding foreign texts.\n",
        "\n",
        "**Example:** A student asks GPT to translate a paragraph from English to Spanish.\n",
        "\n",
        "**Best Practices for Prompt Design:**\n",
        "- Specify the source and target languages clearly.\n",
        "- Example prompt: \"Translate this English paragraph to Spanish: 'The quick brown fox jumps over the lazy dog.'\"\n",
        "\n",
        "### 10. Summarization\n",
        "GPT condenses text into a shorter summary.\n",
        " Useful for quickly understanding long articles, reports, or books.\n",
        "\n",
        "**Example:** A student asks GPT to summarize a research article.\n",
        "\n",
        "**Best Practices for Prompt Design:**\n",
        "- Provide the text to be summarized and specify the length of the summary.\n",
        "- Example prompt: \"Summarize this 500-word article into 100 words.\"\n",
        "\n",
        "### 11. Persona Pattern\n",
        "GPT adopts a specific persona or character when interacting.\n",
        " Useful for creative writing, simulations, and entertainment.\n",
        "\n",
        "**Example:** A student interacts with GPT as if it were a famous historical figure.\n",
        "\n",
        "**Best Practices for Prompt Design:**\n",
        "- Clearly define the persona and its characteristics.\n",
        "- Example prompt: \"Respond to me as if you were Albert Einstein.\"\n",
        "\n",
        "### 12. Reversed Persona Pattern\n",
        "The user takes on a persona and interacts with GPT, which remains itself.\n",
        " Useful for role-playing and creative projects.\n",
        "\n",
        "**Example:** A student pretends to be a scientist and asks GPT technical questions.\n",
        "\n",
        "**Best Practices for Prompt Design:**\n",
        "- Clearly state the persona the user will adopt.\n",
        "- Example prompt: \"I will pretend to be a doctor, and you answer my medical questions.\"\n",
        "\n",
        "### 13. Cutoff Date Pattern\n",
        "GPT answers based on a specific cutoff date, ignoring information after that date.\n",
        " Useful for historical analysis and understanding past perspectives.\n",
        "\n",
        "**Example:** A student asks about the state of technology as of 1990.\n",
        "\n",
        "**Best Practices for Prompt Design:**\n",
        "- Clearly specify the cutoff date.\n",
        "- Example prompt: \"Tell me about the state of the internet as of 1995.\"\n",
        "\n",
        "### 14. Predictive Response / Modeling\n",
        "GPT predicts outcomes or models scenarios based on given data.\n",
        " Useful for forecasting, planning, and scenario analysis.\n",
        "\n",
        "**Example:** A student asks GPT to predict the impact of climate change on sea levels.\n",
        "\n",
        "**Best Practices for Prompt Design:**\n",
        "- Provide relevant data and context for accurate predictions.\n",
        "- Example prompt: \"Predict the sea level rise over the next 50 years based on current climate data.\"\n",
        "\n",
        "### 15. ChatGPT helps improve your prompts\n",
        "GPT assists users in refining their prompts for better results.\n",
        " Useful for learning how to interact effectively with AI.\n",
        "\n",
        "**Example:** A student asks GPT to improve their prompt for a research question.\n",
        "\n",
        "**Best Practices for Prompt Design:**\n",
        "- Provide the initial prompt and request improvements.\n",
        "- Example prompt: \"How can I improve this prompt: 'Tell me about the history of the Roman Empire.'\"\n",
        "\n",
        "### 16. Question Refinement Pattern\n",
        "GPT helps refine vague or broad questions into more specific ones.\n",
        " Useful for honing research questions and clarifying inquiries.\n",
        "\n",
        "**Example:** A student starts with a broad question, and GPT helps narrow it down.\n",
        "\n",
        "**Best Practices for Prompt Design:**\n",
        "- Start with a broad question and ask for refinement.\n",
        "- Example prompt: \"How can I make this question more specific: 'What are the impacts of climate change?'\"\n",
        "\n",
        "### 17. Cognitive Verifier Pattern\n",
        "GPT verifies and validates information or logic presented by the user.\n",
        " Useful for fact-checking, validating arguments, and critical thinking.\n",
        "\n",
        "**Example:** A student presents an argument, and GPT checks its validity.\n",
        "\n",
        "**Best Practices for Prompt Design:**\n",
        "- Clearly present the information or argument for verification.\n",
        "- Example prompt: \"Check the validity of this statement: 'All birds can fly.'\"\n",
        "\n",
        "### 18. Compliance\n",
        "GPT ensures responses comply with specific guidelines or rules.\n",
        " Useful for regulated environments, policy adherence, and standardized responses.\n",
        "\n",
        "**Example:** A student asks GPT to generate a GDPR-compliant data request email.\n",
        "\n",
        "**Best Practices for Prompt Design:**\n",
        "- Specify the guidelines or rules to follow.\n",
        "- Example prompt: \"Write a GDPR-compliant email requesting data deletion.\"\n",
        "\n",
        "### 19. Illegal Activity Mitigation\n",
        "GPT avoids engaging in or promoting illegal activities.\n",
        " Ensures ethical use of AI and prevents misuse.\n",
        "\n",
        "**Example:** A teacher discusses with students how GPT avoids inappropriate content.\n",
        "\n",
        "**Best Practices for Prompt Design:**\n",
        "- Avoid prompts that could lead to illegal or unethical responses.\n",
        "- Example prompt: \"Explain how GPT handles requests for illegal activities.\"\n",
        "\n",
        "### 20. Flipped Interaction\n",
        "The user provides information, and GPT asks questions or seeks clarifications.\n",
        " Useful for teaching, testing knowledge, and promoting critical thinking.\n",
        "\n",
        "**Example:** A student explains a concept, and GPT asks follow-up questions.\n",
        "\n",
        "**Best Practices for Prompt Design:**\n",
        "- Clearly state the information and ask GPT to follow up.\n",
        "- Example prompt: \"I will explain photosynthesis, and you ask me questions to test my understanding.\"\n",
        "\n",
        "### 21. Few Shot Prompting\n",
        "GPT is given a few examples to generate similar responses or complete tasks.\n",
        " Useful for learning patterns and generating consistent results.\n",
        "\n",
        "**Example:** A student provides a few examples of haikus, and GPT generates more.\n",
        "\n",
        "**Best Practices for Prompt Design:**\n",
        "- Provide\n",
        "\n",
        " clear and relevant examples.\n",
        "- Example prompt: \"Here are two haikus. Create a new one: [Example haikus].\"\n",
        "\n",
        "### 22. Game Play\n",
        "GPT participates in or facilitates games with the user.\n",
        " Useful for entertainment, learning through play, and creative engagement.\n",
        "\n",
        "**Example:** A student plays a word association game with GPT.\n",
        "\n",
        "**Best Practices for Prompt Design:**\n",
        "- Clearly define the rules and objectives of the game.\n",
        "- Example prompt: \"Let's play a word association game. I will say a word, and you respond with the first word that comes to mind.\"\n",
        "\n",
        "### 23. Recipe\n",
        "GPT provides or helps create recipes.\n",
        " Useful for cooking, meal planning, and exploring new cuisines.\n",
        "\n",
        "**Example:** A student asks GPT for a recipe for a chocolate cake.\n",
        "\n",
        "**Best Practices for Prompt Design:**\n",
        "- Specify ingredients, dietary restrictions, or cuisine preferences if necessary.\n",
        "- Example prompt: \"Give me a recipe for a chocolate cake that is gluten-free.\"\n",
        "\n",
        "Sure! Here is the addition of the \"Grammatical Corrections\" interaction pattern:\n",
        "\n",
        "### 24. Grammatical Corrections\n",
        "GPT corrects grammatical errors in the provided text.\n",
        " Highly useful for improving writing quality, learning grammar, and proofreading.\n",
        "\n",
        "**Example:** A student submits an essay and asks GPT to correct grammatical errors.\n",
        "\n",
        "**Best Practices for Prompt Design:**\n",
        "- Provide the text clearly and request specific types of corrections if needed.\n",
        "- Example prompt: \"Correct the grammatical errors in this paragraph: 'Their is many reasons why climate change is important. One of the biggest reason is its affect on sea levels.'\"\n"
      ],
      "metadata": {
        "id": "PNHvVzvQiYeB"
      }
    },
    {
      "cell_type": "markdown",
      "source": [
        "# **Lab:** Develop prompts\n",
        "\n",
        "#### Develop and verify prompts for:\n",
        "- summarization\n",
        "- grammatical corrections\n",
        "- few-shot learning\n",
        "- implement your lab in one of the following modes:\n",
        "  - UI Mode (ChatGPT)\n",
        "  - Programmatic mode (OpenAI API)"
      ],
      "metadata": {
        "id": "AtLJRtAWK9W4"
      }
    }
  ]
}