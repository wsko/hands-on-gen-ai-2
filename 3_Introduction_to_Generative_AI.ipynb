{
 "cells": [
  {
   "cell_type": "markdown",
   "metadata": {
    "id": "MSOMtxjvE5gA"
   },
   "source": [
    "# Introduction to Generative AI\n",
    "\n",
    "## **Outline**\n",
    "\n",
    "- Introduction to Generative AI and its applications.\n",
    "- Basic principles of generative models and their architectural components.\n",
    "- Autoencoders: latent space, and representation learning.\n",
    "- Variational Autoencoders (VAEs) and probabilistic sampling techniques.\n",
    "- Generative Adversarial Networks (GANs).\n",
    "- **Hands-on Lab:** Training a VAE to generate fake images of handwritten digits.\n"
   ]
  },
  {
   "cell_type": "markdown",
   "metadata": {
    "id": "EdCscs8yE5gC"
   },
   "source": [
    "## **Generative AI: A Year of Transformation**\n",
    "\n",
    "<img src=\"https://github.com/wsko/Generative_AI/blob/main/Day-1/images/GAI1.png?raw=1\" width=\"800\" align=\"center\"/>\n",
    "\n",
    "- Generative AI has gained extensive attention and investment in the past year\n",
    "  - It can produce coherent text, images, code, and beyond-impressive outputs with just a simple textual prompt\n",
    "- Generative AI goes beyond typical natural language processing (NLP) tasks\n",
    "\n",
    "- Countless use cases:\n",
    "  - Explaining complex algorithms.\n",
    "  - Building bots.\n",
    "  - Assisting in app development.\n",
    "  - Explaining academic concepts.\n",
    "\n",
    "\n",
    "- Fields undergoing transformation:\n",
    "  - Animation.\n",
    "  - Gaming.\n",
    "  - Art.\n",
    "  - Movies.\n",
    "  - Architecture.\n",
    "\n",
    "#### The \"Aha!\" Moment in 2022\n",
    "\n",
    "- Important questions:\n",
    "  - Why now?\n",
    "  - What's next?\n",
    "\n",
    "<img src=\"./images/border.jpg\" height=\"10\" width=\"1500\" align=\"center\"/>\n",
    "\n"
   ]
  },
  {
   "cell_type": "markdown",
   "metadata": {
    "id": "ZTUF0ItQE5gD"
   },
   "source": [
    "## **What is Generative AI?**\n",
    "\n",
    "<img src=\"https://github.com/wsko/Generative_AI/blob/main/Day-1/images/GAI8.webp?raw=1\" width=\"800\" align=\"center\"/>\n",
    "\n",
    "\n",
    "- Generative AI is a subfield of **machine learning**.\n",
    "- It involves training AI models on **real-world data**.\n",
    "- These models **generate new content** like text, images, and code.\n",
    "- Comparable to **what humans would create**.\n",
    "\n",
    "\n",
    "#### How Generative AI Works\n",
    "\n",
    "- Training algorithms on large datasets.\n",
    "  - Identifying and learning patterns.\n",
    "    - **Neural networks** learn these patterns.\n",
    "      - **Generate new data** following the learned patterns.\n",
    "\n",
    "#### Generative AI in Natural Language Processing (NLP)\n",
    "\n",
    "- Generative AI in NLP processes a vast corpus.\n",
    "  - Responds to prompts based on learned probabilities.\n",
    "    - Examples: Autocomplete and advanced models like ChatGPT and DALL-E.\n",
    "  - Utilizes different model architectures.\n",
    "\n",
    "\n",
    "\n",
    "\n",
    "##  **General Components for Generative AI**\n",
    "\n",
    "1. **Input Data:**\n",
    "   - Generative AI models start with input data, which can be in various forms such as text, images, or structured data.\n",
    "\n",
    "2. **Encoder (Optional):**\n",
    "   - Some models use an encoder to transform input data into a suitable representation, especially in sequence-to-sequence models.\n",
    "\n",
    "3. **Generator (Decoder):**\n",
    "   - The core of the generative model is the generator or decoder, which generates new data based on learned patterns.\n",
    "   - This component typically consists of neural network layers.\n",
    "\n",
    "4. **Latent Space (Optional):**\n",
    "   - In certain models like VAEs and GANs, a latent space is used to represent data in a compressed form.\n",
    "   - The latent space is learned during training and can be sampled for generating new data.\n",
    "\n",
    "5. **Loss Function:**\n",
    "   - Generative models use a loss function to measure the difference between generated data and target data.\n",
    "   - The model aims to minimize this loss during training to improve its generative capabilities.\n",
    "\n",
    "6. **Training Data:**\n",
    "   - Generative models are trained on a dataset containing examples of the data they are supposed to generate.\n",
    "   - The model learns from this data to capture underlying patterns.\n",
    "\n",
    "7. **Optimizer:**\n",
    "   - Optimization algorithms like SGD or Adam are used to update the model's parameters during training to minimize the loss function.\n",
    "\n",
    "8. **Sampling:**\n",
    "   - Once trained, the model can generate new data by sampling from the learned distribution in the latent space or directly from the generator.\n",
    "\n",
    "9. **Output Data:**\n",
    "   - The generated data is the final output of the generative AI model, and it can be in the same or a different format as the input data, depending on the task.\n",
    "\n"
   ]
  },
  {
   "cell_type": "markdown",
   "metadata": {
    "id": "-FK5BvrdE5gE"
   },
   "source": [
    "<img src=\"./images/border.jpg\" height=\"10\" width=\"1500\" align=\"center\"/>"
   ]
  },
  {
   "cell_type": "markdown",
   "metadata": {
    "id": "0hZQwFcsE5gE"
   },
   "source": [
    "## **History of Generative AI**\n",
    "\n",
    "#### Early Generative AI - Eliza\n",
    "\n",
    "- Eliza chatbot developed in 1966 by Joseph Weizenbaum.\n",
    "- Early implementations used rules-based approaches.\n",
    "- Eliza had a limited vocabulary, lacked context, and overrelied on patterns.\n",
    "- These limitations led to frequent breakdowns.\n",
    "- **Challenges**\n",
    "  - Customization and expansion of early chatbots were challenging\n",
    "  - They struggled to adapt to different user inputs.\n",
    "  - Lack of context made meaningful conversations difficult.\n",
    "  - These limitations hindered their practical use.\n",
    "\n",
    "<img src=\"./images/ELIZA_conversation.png\" width=\"800\" align=\"center\"/>\n",
    "\n",
    "#### **Recent Progress in Generative AI**\n",
    "\n",
    "- Key Factors in Recent Success\n",
    "  - Deep learning's three critical components:\n",
    "    - **Scaling models**: Larger and more complex architectures.\n",
    "    - **Large datasets**: Abundant real-world data for training.\n",
    "    - Increased **compute power**: Faster training and more sophisticated models.\n",
    "- These factors work together to drive the generative AI revolution.\n",
    "\n",
    "<img src=\"./images/whynow.png\" width=\"800\" align=\"center\"/>\n",
    "\n"
   ]
  },
  {
   "cell_type": "markdown",
   "metadata": {
    "id": "IsSeeZMtE5gE"
   },
   "source": [
    "<img src=\"./images/border.jpg\" height=\"10\" width=\"1500\" align=\"center\"/>"
   ]
  },
  {
   "cell_type": "markdown",
   "metadata": {
    "id": "OYThBiJZE5gF"
   },
   "source": [
    "## **GPUs and their Application to Machine Learning**\n",
    "-  GPUs vs. CPUs\n",
    "   - GPUs designed for parallel processing.\n",
    "   - Ideal for computationally intensive tasks.\n",
    "   - Thousands of smaller cores for simultaneous processing.\n",
    "   - Contrasts with CPUs focused on sequential processing.\n",
    "\n",
    "- GPUs excel in training deep neural networks.\n",
    "- **Parallelism** speeds up training significantly.\n",
    "- Enables the handling of large, complex networks.\n",
    "\n",
    "#### Beyond Training\n",
    "\n",
    "- GPUs not limited to training.\n",
    "- Used for inference and real-time applications.\n",
    "- Widely adopted in industries like healthcare, finance, and gaming.\n",
    "\n",
    "<img src=\"./images/Nvidia_CUDA_Logo.jpg\" width=\"500\" align=\"center\"/>"
   ]
  },
  {
   "cell_type": "markdown",
   "metadata": {
    "id": "ixt-oC8SE5gF"
   },
   "source": [
    "<img src=\"https://github.com/wsko/Generative_AI/blob/main/Day-1/images/border.jpg?raw=1\" height=\"10\" width=\"1500\" align=\"center\"/>"
   ]
  },
  {
   "cell_type": "markdown",
   "metadata": {
    "id": "9hgOV4Q-E5gF"
   },
   "source": [
    "## **AlexNet — 2012 — The Deep Learning Revolution**\n",
    "- Deep learning and CNNs led the charge.\n",
    "- CNNs (Convolutional Neural Networks) existed since the 1990s.\n",
    "  - Layers in a CNN\n",
    "    - Convolutional layers\n",
    "      - filters to detect various features.\n",
    "    - Pooling layers\n",
    "      - Reduce the spatial dimensions to preserve important information.\n",
    "    - Fully connected layers\n",
    "      - Often used for classification\n",
    "\n",
    "<img src=\"./images/CNN.jpeg\" width=\"500\" align=\"center\"/>\n",
    "\n",
    "- Previously impractical due to intensive computing requirements.\n",
    "\n",
    "- https://poloclub.github.io/cnn-explainer/\n",
    "\n",
    "- In 2012, AlexNet emerged.\n",
    "  - A CNN model trained on GPUs and ImageNet data.\n",
    "    - An astonishing 11% performance gap with the runner-up!"
   ]
  },
  {
   "cell_type": "markdown",
   "metadata": {
    "id": "PLFAlRcnE5gG"
   },
   "source": [
    "<img src=\"./images/border.jpg\" height=\"10\" width=\"1500\" align=\"center\"/>"
   ]
  },
  {
   "cell_type": "markdown",
   "metadata": {
    "id": "hwK8P1-bE5gQ"
   },
   "source": [
    "<img src=\"./images/GAI6.png\"  align=\"center\"/>\n"
   ]
  },
  {
   "cell_type": "markdown",
   "metadata": {
    "id": "Rrpcp6rzE5gR"
   },
   "source": [
    "<img src=\"./images/border.jpg\" height=\"10\" width=\"1500\" align=\"center\"/>"
   ]
  },
  {
   "cell_type": "markdown",
   "metadata": {
    "id": "4DI8Y1z4E5gR"
   },
   "source": [
    "## **Image Generation: Dall-E | MidJourney | Stable Diffusion | DreamStudio**\n",
    "\n",
    "\n",
    "<img src=\"https://github.com/wsko/Generative_AI/blob/main/Day-1/images/GAI7.webp?raw=1\" width=\"800\" align=\"center\"/>\n",
    "\n",
    "# AI Innovations in Creativity\n",
    "\n",
    "\n",
    "#### DALL-E\n",
    "\n",
    "**DALL-E** - *By OpenAI*\n",
    "\n",
    "- Generates images from textual descriptions.\n",
    "- Combines \"Dali\" and \"Wall-E.\"\n",
    "- Example: \"a two-story pink house shaped like a shoe.\"\n",
    "- **Limitation:** Limited to predefined concepts, potential for misinterpretation.\n",
    "\n",
    "<img src=\"./images/dalle.webp\" width = \"700\" align=\"center\"/>\n",
    "\n",
    "\n",
    "\n",
    "#### Midjourney\n",
    "\n",
    "**Midjourney** - *Artificial Intelligence for Exploration*\n",
    "\n",
    "- Enhances exploration in robotics and space missions.\n",
    "- Facilitates autonomous decision-making.\n",
    "- A step towards AI-driven exploration.\n",
    "- **Limitation:** Dependency on data quality, computational resources.\n",
    "\n",
    "\n",
    "<img src=\"./images/midjourney.png\" width = \"700\" align=\"center\"/>\n",
    "\n",
    "#### Stable Diffusion\n",
    "\n",
    "**Stable Diffusion** - *Generative Model Training*\n",
    "\n",
    "- A technique for training generative models.\n",
    "- Improves stability and quality.\n",
    "- Used in GANs and AI art generation.\n",
    "- **Limitation:** Requires extensive computational power and time.\n",
    "\n",
    "<img src=\"./images/stable.jpeg\" width = \"700\" align=\"center\"/>\n",
    "\n",
    "\n",
    "#### DreamStudio\n",
    "\n",
    "**DreamStudio** - *AI-Enhanced Creative Tools*\n",
    "\n",
    "- Empowers artists with AI-generated content.\n",
    "- Seamlessly integrates AI into the creative process.\n",
    "- Enables new forms of artistic expression.\n",
    "- **Limitation:** May raise concerns about AI's role in art creation.\n",
    "\n",
    "<img src=\"./images/dreamstudio.jpeg\" width = \"700\" align=\"center\"/>\n",
    "\n",
    "# Comparison Table\n",
    "\n",
    "| Innovation     | Description                                | Application                   | Limitation                           | Link                                       |\n",
    "|----------------|--------------------------------------------|--------------------------------|--------------------------------------|--------------------------------------------|\n",
    "| DALL-E         | Generates images from text                | Art, Design, Visual Creativity  | Limited to predefined concepts      | [Link](https://www.openai.com/research/dall-e/) |\n",
    "| Midjourney     | Enhances exploration in robotics           | Space Missions, Autonomous Exploration | Data quality, computational resources | [Link](https://www.midjourney.com/home/?callbackUrl=%2Fapp%2F) |\n",
    "| Stable Diffusion | Training technique for generative models  | Generative Art, GANs          | High computational requirements     | [Link](https://stablediffusionweb.com/) |\n",
    "| DreamStudio    | AI-enhanced creative tools                | Visual Arts, Design, Creativity | Ethical/artistic concerns            | [Link](https://beta.dreamstudio.ai/generate) |\n"
   ]
  },
  {
   "cell_type": "markdown",
   "metadata": {
    "id": "XntoUR83E5gR"
   },
   "source": [
    "<img src=\"./images/border.jpg\" height=\"10\" width=\"1500\" align=\"center\"/>"
   ]
  },
  {
   "cell_type": "markdown",
   "metadata": {
    "id": "dxGXISuPE5gS"
   },
   "source": [
    "\n",
    "## **Generative AI Recap**\n",
    "- **Definition**: AI models designed to **produce** new content.\n",
    "- **Scope**: Beyond text! Think images, videos, music, designs.\n",
    "- **Objective**: Generate content nearly indistinguishable from what humans can produce.\n",
    "\n",
    "#### Key Players in Generative AI\n",
    "1. **Generative Adversarial Networks (GANs)**\n",
    "2. **Variational Autoencoders (VAEs)**\n",
    "\n",
    "\n",
    "## **GANs**\n",
    "- **Concept**: Duel between two networks.\n",
    "    - **Generator**: Crafts fake data.\n",
    "    - **Discriminator**: Sifts real from fake.\n",
    "- **Training Dynamics**:\n",
    "    - Generator crafts better fakes.\n",
    "    - Discriminator refines its discernment.\n",
    "- **Applications**:\n",
    "    - Art creation (e.g., DeepArt)\n",
    "    - Image super-resolution (e.g., SRGAN)\n",
    "    - Generating faces (e.g., NVIDIA's FaceGAN)\n",
    "\n",
    "## **VAEs**\n",
    "- **Philosophy**: Compress data, then rebuild it.\n",
    "- **Key Mechanism**: Introduces randomness during compression.\n",
    "- **Benefits**:\n",
    "    - Structured latent space for generation.\n",
    "    - More consistent generation than GANs.\n",
    "- **Applications**:\n",
    "    - Image denoising\n",
    "    - Content interpolation (e.g., morphing one image into another)\n",
    "    - Generating art with unique styles\n",
    "\n",
    "<img src=\"./images/border.jpg\" height=\"10\" width=\"1500\" align=\"center\"/>\n",
    "\n",
    "## **GANs vs VAEs: Quick Comparison**\n",
    "- **Training Stability**:\n",
    "    - GANs can be trickier to train due to the dueling nature.\n",
    "    - VAEs generally offer stable training but might not achieve the same level of detail as GANs.\n",
    "- **Generated Data Quality**:\n",
    "    - GANs often produce sharper images.\n",
    "    - VAEs might produce smoother or blurrier images.\n",
    "- **Applications**:\n",
    "    - GANs dominate in tasks requiring high-resolution outputs.\n",
    "    - VAEs shine where a structured latent space or consistent output is vital."
   ]
  },
  {
   "cell_type": "markdown",
   "metadata": {
    "id": "P-jjj-ksE5gS"
   },
   "source": [
    "## **GANs**\n",
    "\n",
    "- Traditional Machine Learning\n",
    "  - Examines a complex input, like an **image**.\n",
    "  - Produces a simple output, like a **label** (\"cat\").\n",
    "\n",
    "- Generative Models\n",
    "  - Takes a small piece of input, perhaps a few random numbers.\n",
    "  - Produces a complex output, like an image of a **realistic-looking face**.\n",
    "\n",
    "- Generative Adversarial Network (GAN)\n",
    "  - An effective type of **generative model**.\n",
    "  - Introduced only a few years ago.\n",
    "\n",
    "- Why Use GANs?\n",
    "  1. **Intellectual Challenge**: Crafting systems that can generate realistic data.\n",
    "  2. **Practical Applications**: From creating art to enhancing blurry images.\n",
    "\n",
    "<img src=\"https://github.com/wsko/Generative_AI/blob/main/Day-1/images/border.jpg?raw=1\" height=\"10\" width=\"1500\" align=\"center\"/>\n",
    "\n",
    "## **How does a GAN work?**\n",
    "\n",
    "- GANs turn the seemingly impossible goal into reality.\n",
    "- They utilize two key tricks.\n",
    "\n",
    "- Using Randomness as an Ingredient\n",
    "\n",
    "    1. **Variety**: Avoids producing the same output each time.\n",
    "    2. **Mathematical Framework**: Translates image generation into probabilities.\n",
    "    3. **Probability Distribution on Images**: Determines which images are likely to be faces.\n",
    "\n",
    "- Neural Networks and Image Generation\n",
    "  - Modeling a function on a high-dimensional space.\n",
    "  - Neural networks excel at this kind of problem.\n",
    "\n",
    "- The Big Insight: Contest!\n",
    "\n",
    "    - The **\"adversarial\"** part of GAN.\n",
    "    - Two competing networks:\n",
    "    1. **Generator**: Creates random synthetic outputs.\n",
    "    2. **Discriminator**: Distinguishes real outputs from synthetic ones.\n",
    "    \n",
    "- The Adversarial Duel\n",
    "  - The two networks face off.\n",
    "  - They improve together, aiming for a generator that creates realistic outputs."
   ]
  },
  {
   "cell_type": "markdown",
   "metadata": {
    "id": "sa4u3zjRE5gT"
   },
   "source": [
    "<img src=\"./images/GANLab.png\" width=\"500\" align=\"center\"/>\n",
    "\n",
    "- https://poloclub.github.io/ganlab/\n",
    "  - GANs are complex systems.\n",
    "  - This visualization simplifies GAN mechanics for clarity.\n",
    "\n",
    "\n",
    "- Simplified GAN Mechanics\n",
    "\n",
    "  - Instead of realistic images, the focus is on a **distribution of points in 2D**.\n",
    "  - Easier to understand the mechanics in plain old (x,y) space.\n",
    "\n",
    "- Intruction\n",
    "  - Choose a probability distribution for the GAN to learn.\n",
    "  - Visualized as a **set of data samples**.\n",
    "\n"
   ]
  },
  {
   "cell_type": "markdown",
   "metadata": {
    "id": "BgN6L3mgE5gU"
   },
   "source": [
    "\n",
    "# Using Variational Autoencoder (VAE) to Generate Images\n",
    "\n",
    "\n",
    "- What is an Autoencoder?\n",
    "  - Transforms input to a **lower dimensional space** (encoding step).\n",
    "  - Reconstructs input from the lower-dimensional representation (decoding step).\n",
    "\n",
    "--  Visual Representation\n",
    "\n",
    "<img src=\"./images/VAE1.png?raw=1\" width=\"500\" align=\"center\"/>\n",
    "\n",
    "\n",
    "- To generate new images using a VAE, input random vectors to the decoder.\n",
    "\n",
    "<img src=\"./images/VAE2.png?raw=1\" width=\"500\" align=\"center\"/>\n",
    "\n",
    "\n",
    "- VAE vs Regular Autoencoders\n",
    "\n",
    "  1. Imposes a **probability distribution** on the latent space.\n",
    "  2. Learns the distribution so the outputs match the observed data.\n",
    "  3. Latent outputs are randomly sampled from the distribution learned by the encoder."
   ]
  },
  {
   "cell_type": "markdown",
   "metadata": {
    "id": "NZ0gqFvVE5gU"
   },
   "source": [
    "<img src=\"./images/border.jpg\" height=\"10\" width=\"1500\" align=\"center\"/>"
   ]
  },
  {
   "cell_type": "markdown",
   "metadata": {
    "id": "Qy950lIFFUyT"
   },
   "source": [
    "# **[Autoencoders](https://arxiv.org/abs/2201.03898)**"
   ]
  },
  {
   "cell_type": "markdown",
   "metadata": {
    "id": "kMe3sm6yFUyU"
   },
   "source": [
    "- One of the most popular type of neural network for **processing structured grid data** is CNN (Convolutional Neural Network).\n",
    "  - Most commonly used for **image processing**.\n",
    "  \n",
    "- Key Components of CNN\n",
    "\n",
    "  1. **Convolutional Layer**: Extracts features using filters.\n",
    "  2. **Pooling Layer**: Reduces spatial dimensions while retaining important information.\n",
    "  3. **Fully Connected Layer**: Regular neural network layer for final classification.\n",
    "\n",
    "\n",
    "\n",
    "<img src=\"./images/CNN.jpeg\" width=\"500\" align=\"center\"/>\n",
    "\n",
    "- Problem with CNN Training\n",
    "\n",
    "  - One key challenge: Need **a lot of labeled data** for training.\n",
    "  - Image classification requires manual categorization into classes.\n",
    "\n",
    "\n",
    "- Self-Supervised Learning\n",
    "\n",
    "  - Using raw (unlabeled) data for training CNN feature extractors.\n",
    "  - Known as **self-supervised learning**.\n",
    "  - Training images are used as both **input and output**.\n",
    "\n",
    "\n",
    "- Autoencoders\n",
    "  1. **Encoder Network**: Converts the input image into a latent space.\n",
    "  2. **Decoder Network**: Aims to reconstruct the original image.\n",
    "  \n",
    "- Why Autoencoders?\n",
    "\n",
    "  - They aim to capture as much information from the original image as possible.\n",
    "  - This allows for accurate reconstruction.\n",
    "  - The network seeks the best embedding of input images to capture their essence.\n",
    "\n",
    "\n",
    "## **Autoencoder Diagram**\n",
    "\n",
    "<img src=\"./images/autoencoder_schema.jpg\" width=\"500\" align=\"center\"/>\n",
    "\n",
    "> Image sourced from [Keras blog](https://blog.keras.io/building-autoencoders-in-keras.html)\n"
   ]
  },
  {
   "cell_type": "markdown",
   "metadata": {
    "id": "dj6mfimCFUyV"
   },
   "source": [
    "## **Example**\n",
    "\n",
    "- **Objective**:\n",
    "  - Understand autoencoders using a basic example.\n",
    "  - Compress and reconstruct 2D synthetic data points.\n",
    "\n",
    "1. **Data**:\n",
    "    - Four synthetic 2D points: `[1.0, 2.0], [2.0, 3.0], ...`\n",
    "2. **Autoencoder**:\n",
    "    - **Encoder**: Transforms 2D points to 1D.\n",
    "    - **Decoder**: Reconstructs 1D points back to 2D."
   ]
  },
  {
   "cell_type": "code",
   "execution_count": 1,
   "metadata": {
    "id": "vZvwOOmBFUyV"
   },
   "outputs": [],
   "source": [
    "import torch\n",
    "import torch.nn as nn\n",
    "import torch.optim as optim\n",
    "import matplotlib.pyplot as plt\n",
    "\n",
    "\n",
    "# Simple synthetic dataset: 2D points\n",
    "data = torch.tensor([[1.0, 2.0], [2.0, 3.0], [3.0, 4.0], [4.0, 5.0]])\n",
    "\n"
   ]
  },
  {
   "cell_type": "code",
   "execution_count": 2,
   "metadata": {
    "id": "EXtU6qq3FUyW"
   },
   "outputs": [],
   "source": [
    "# Define the autoencoder model\n",
    "class Autoencoder(nn.Module):\n",
    "    def __init__(self):\n",
    "        super(Autoencoder, self).__init__()\n",
    "        # Define the encoder part of the autoencoder with a linear layer.\n",
    "        # This linear layer will reduce the input dimension from 2 to 1.\n",
    "        # In other words, it's learning a compressed representation of the input data.\n",
    "        # The input dimension is 2, and the output dimension is 1, which means it's\n",
    "        # projecting a 2D input space onto a 1D space.\n",
    "        self.encoder = nn.Linear(2, 1)\n",
    "        # Define the decoder part of the autoencoder with a linear layer.\n",
    "        # This linear layer will expand the compressed representation (1D) back to the original input dimension (2D).\n",
    "        # In other words, it's responsible for reconstructing the original input from the compressed representation.\n",
    "        # The input dimension is 1, and the output dimension is 2, which means it's mapping the 1D representation\n",
    "        # back to the original 2D space.\n",
    "        self.decoder = nn.Linear(1, 2)\n",
    "\n",
    "    # Define the forward pass of the autoencoder.\n",
    "    # This method takes an input 'x' and passes it through both the encoder and decoder parts.\n",
    "    # 1. 'x' is first passed through the encoder, which reduces the dimensionality of the input.\n",
    "    # 2. The result of the encoder is then passed through the decoder, which aims to reconstruct\n",
    "    #    the original input from the compressed representation.\n",
    "    # 3. The final output 'x' represents the reconstructed data.\n",
    "    # Essentially, this method encodes the input and then decodes it to obtain the reconstruction.\n",
    "    def forward(self, x):\n",
    "        # Pass the input through the encoder to obtain the compressed representation\n",
    "        x = self.encoder(x)\n",
    "\n",
    "        # Pass the compressed representation through the decoder to reconstruct the input\n",
    "        x = self.decoder(x)\n",
    "\n",
    "        # Return the reconstructed data\n",
    "        return x\n"
   ]
  },
  {
   "cell_type": "code",
   "execution_count": 3,
   "metadata": {
    "id": "SgiOAqSiFUyX"
   },
   "outputs": [],
   "source": [
    "# Initialize model, loss function, and optimizer\n",
    "model = Autoencoder()\n",
    "criterion = nn.MSELoss()  # Mean Squared Error Loss: Measures the difference between the original and reconstructed data\n",
    "# Define the optimizer for training the autoencoder.\n",
    "# The optimizer is Adam, a popular optimization algorithm that adjusts the model's parameters\n",
    "# during training to minimize the loss.\n",
    "#   A learning rate of 0.01 means that the optimizer will make relatively small updates to the parameters\n",
    "#   in each training iteration.\n",
    "optimizer = optim.Adam(model.parameters(), lr=0.01)"
   ]
  },
  {
   "cell_type": "code",
   "execution_count": 4,
   "metadata": {
    "id": "6ZfOEvpCFUyX"
   },
   "outputs": [],
   "source": [
    "# --- TRAINING ---\n",
    "\n",
    "# Training loop\n",
    "num_epochs = 1000\n",
    "losses = []  # To store loss values for visualization\n",
    "for epoch in range(num_epochs):\n",
    "    # Zero the gradients\n",
    "    optimizer.zero_grad()\n",
    "\n",
    "    # Forward pass: Pass the data through the model to get the reconstructed output\n",
    "    outputs = model(data)\n",
    "\n",
    "    # Compute loss: Difference between original data and reconstructed data\n",
    "    loss = criterion(outputs, data)\n",
    "\n",
    "    # Backward pass: Adjust model parameters to minimize the loss\n",
    "    loss.backward()\n",
    "    optimizer.step()\n",
    "\n",
    "    # Store the loss value for this epoch\n",
    "    losses.append(loss.item())"
   ]
  },
  {
   "cell_type": "code",
   "execution_count": 5,
   "metadata": {
    "colab": {
     "base_uri": "https://localhost:8080/",
     "height": 618
    },
    "id": "aacZTfDSFUyY",
    "outputId": "fddf0423-477f-452f-bf6c-df68c6ac486b"
   },
   "outputs": [
    {
     "data": {
      "image/png": "[encoded data removed]",
      "text/plain": [
       "<Figure size 1200x400 with 2 Axes>"
      ]
     },
     "metadata": {},
     "output_type": "display_data"
    },
    {
     "name": "stdout",
     "output_type": "stream",
     "text": [
      "Original Data: tensor([[1., 2.],\n",
      "        [2., 3.],\n",
      "        [3., 4.],\n",
      "        [4., 5.]])\n",
      "Encoded Data: tensor([[-1.8273],\n",
      "        [-3.1318],\n",
      "        [-4.4362],\n",
      "        [-5.7406]])\n",
      "Decoded Data: tensor([[0.9835, 2.0259],\n",
      "        [1.9923, 3.0120],\n",
      "        [3.0011, 3.9981],\n",
      "        [4.0099, 4.9843]])\n"
     ]
    }
   ],
   "source": [
    "# Plot the loss over epochs: This will show how the model improves over time\n",
    "plt.figure(figsize=(12, 4))\n",
    "plt.subplot(1, 2, 1)\n",
    "plt.plot(losses)\n",
    "plt.xlabel('Epoch')\n",
    "plt.ylabel('Loss')\n",
    "plt.title('Training Loss')\n",
    "\n",
    "# Visualize the original and reconstructed data points\n",
    "plt.subplot(1, 2, 2)\n",
    "plt.scatter(data[:, 0], data[:, 1], marker='o', label='Original Data')\n",
    "plt.scatter(outputs.detach()[:, 0], outputs.detach()[:, 1], marker='x', label='Reconstructed Data')\n",
    "plt.legend()\n",
    "plt.title('Original vs. Reconstructed Data')\n",
    "plt.show()\n",
    "\n",
    "# Display the original data, encoded data, and the reconstructed data\n",
    "print(\"Original Data:\", data)\n",
    "print(\"Encoded Data:\", model.encoder(data).detach())  # Using detach() to get data from tensor\n",
    "print(\"Decoded Data:\", outputs.detach())"
   ]
  },
  {
   "cell_type": "markdown",
   "metadata": {
    "id": "_hF7uSiXFUyZ"
   },
   "source": [
    "<img src=\"./images/border.jpg\" height=\"10\" width=\"1500\" align=\"center\"/>"
   ]
  },
  {
   "cell_type": "markdown",
   "metadata": {
    "id": "EN4SSgB6FUyZ"
   },
   "source": [
    "## **Excercise:**\n",
    "\n",
    "- Expand the latent space to 2 or 3 dimensions instead of 1.\n",
    "  - is it more accurate?\n",
    "  - Does it make sense to increase the dimensions?\n",
    "\n",
    "\n",
    " <!-- self.encoder = nn.Linear(2, 2)\n",
    "        \n",
    "        # Decoder: 2D -> 2D. This will reconstruct the original input from the encoded form.\n",
    "        self.decoder = nn.Linear(2, 2) -->"
   ]
  },
  {
   "cell_type": "markdown",
   "metadata": {
    "id": "zdE5hgIYFUya"
   },
   "source": [
    "<img src=\"./images/border.jpg\" height=\"10\" width=\"1500\" align=\"center\"/>"
   ]
  },
  {
   "cell_type": "markdown",
   "metadata": {
    "id": "RShJSiNlFUya"
   },
   "source": [
    "## **Building an Autoencoder using PyTorch for MNIST**\n",
    "\n",
    "\n",
    "### MNIST Dataset Overview\n",
    "\n",
    "- **Type:** Handwritten Digits\n",
    "- **Images:** 70,000\n",
    "  - **Training:** 60,000\n",
    "  - **Testing:** 10,000\n",
    "- **Size:** 28 x 28 pixels\n",
    "- **Grayscale:** 0 (Black) to 255 (White)\n",
    "- **Use:** Benchmark for classification algorithms"
   ]
  },
  {
   "cell_type": "markdown",
   "metadata": {
    "id": "Gkf31mAcFUya"
   },
   "source": [
    "1. Import Necessary Libraries\n"
   ]
  },
  {
   "cell_type": "code",
   "execution_count": 6,
   "metadata": {
    "id": "X0fX26EHFUya"
   },
   "outputs": [],
   "source": [
    "import torch\n",
    "import torch.nn as nn\n",
    "import torch.optim as optim\n",
    "from tqdm import tqdm\n",
    "import numpy as np\n",
    "import matplotlib.pyplot as plt\n",
    "from torchvision import datasets, transforms"
   ]
  },
  {
   "cell_type": "code",
   "execution_count": 7,
   "metadata": {
    "colab": {
     "base_uri": "https://localhost:8080/",
     "height": 1000
    },
    "id": "C3iEsD2mFUyb",
    "outputId": "08bacdbd-b679-47a1-bc1f-2d9dc5253f55"
   },
   "outputs": [
    {
     "name": "stdout",
     "output_type": "stream",
     "text": [
      "Number of training samples: 60000\n",
      "Image shape: torch.Size([1, 28, 28])\n"
     ]
    },
    {
     "data": {
      "image/png": "[encoded data removed]",
      "text/plain": [
       "<Figure size 640x480 with 1 Axes>"
      ]
     },
     "metadata": {},
     "output_type": "display_data"
    },
    {
     "data": {
      "image/png": "[encoded data removed]",
      "text/plain": [
       "<Figure size 1200x200 with 10 Axes>"
      ]
     },
     "metadata": {},
     "output_type": "display_data"
    },
    {
     "data": {
      "image/png": "[encoded data removed]",
      "text/plain": [
       "<Figure size 640x480 with 1 Axes>"
      ]
     },
     "metadata": {},
     "output_type": "display_data"
    },
    {
     "name": "stdout",
     "output_type": "stream",
     "text": [
      "Mean Pixel Value: 33.318421449829934\n",
      "Standard Deviation of Pixel Value: 78.56748998339798\n"
     ]
    }
   ],
   "source": [
    "# Load the MNIST dataset\n",
    "transform = transforms.Compose([transforms.ToTensor()])\n",
    "train_dataset = datasets.MNIST('./data', train=True, download=True, transform=transform)\n",
    "\n",
    "# 1. Dataset Size and Structure\n",
    "print(f\"Number of training samples: {len(train_dataset)}\")\n",
    "print(f\"Image shape: {train_dataset[0][0].shape}\")\n",
    "\n",
    "# 2. Class Distribution\n",
    "class_counts = np.bincount(train_dataset.targets)\n",
    "plt.bar(range(10), class_counts)\n",
    "plt.xlabel(\"Digit Class\")\n",
    "plt.ylabel(\"Count\")\n",
    "plt.title(\"Class Distribution in MNIST\")\n",
    "plt.xticks(range(10))\n",
    "plt.show()\n",
    "\n",
    "# 3. Sample Images\n",
    "sample_images = [train_dataset[i][0] for i in range(10)]\n",
    "fig, axes = plt.subplots(1, 10, figsize=(12, 2))\n",
    "for i, ax in enumerate(axes):\n",
    "    ax.imshow(sample_images[i][0], cmap='gray')\n",
    "    ax.axis('off')\n",
    "plt.suptitle(\"Sample Images from MNIST Dataset\")\n",
    "plt.show()\n",
    "\n",
    "# 4. Pixel Value Distribution\n",
    "pixel_values = train_dataset.data.numpy().flatten()\n",
    "plt.hist(pixel_values, bins=256, range=(0, 256), density=True)\n",
    "plt.xlabel(\"Pixel Value\")\n",
    "plt.ylabel(\"Frequency\")\n",
    "plt.title(\"Pixel Value Distribution\")\n",
    "plt.show()\n",
    "\n",
    "# 6. Image Statistics\n",
    "mean_pixel_value = np.mean(pixel_values)\n",
    "std_pixel_value = np.std(pixel_values)\n",
    "print(f\"Mean Pixel Value: {mean_pixel_value}\")\n",
    "print(f\"Standard Deviation of Pixel Value: {std_pixel_value}\")\n",
    "\n",
    "plt.show()\n"
   ]
  },
  {
   "cell_type": "markdown",
   "metadata": {
    "id": "ji6IGe5YFUyb"
   },
   "source": [
    "2. Data Loading and Preprocessing\n"
   ]
  },
  {
   "cell_type": "code",
   "execution_count": 8,
   "metadata": {
    "id": "dNNSBQJuFUyb"
   },
   "outputs": [],
   "source": [
    "transform = transforms.Compose([\n",
    "    transforms.ToTensor(),\n",
    "])\n",
    "\n",
    "train_dataset = datasets.MNIST(root='./data', train=True, transform=transform, download=True)\n",
    "train_loader = torch.utils.data.DataLoader(train_dataset, batch_size=128, shuffle=True)"
   ]
  },
  {
   "cell_type": "markdown",
   "metadata": {
    "id": "JZ3GutjcFUyb"
   },
   "source": [
    "3. Define the Autoencoder Architecture\n"
   ]
  },
  {
   "cell_type": "code",
   "execution_count": 9,
   "metadata": {
    "id": "lxZl11plFUyb"
   },
   "outputs": [],
   "source": [
    "class Autoencoder(nn.Module):\n",
    "    def __init__(self, encoding_dim):\n",
    "        super(Autoencoder, self).__init__()\n",
    "        # It consists of a sequence of two layers:\n",
    "        # 1. Linear Layer: This layer performs a linear transformation on the input, reducing it to 'encoding_dim' dimensions.\n",
    "        #    - Input size: 28*28 (flatten MNIST image)\n",
    "        #    - Output size: 'encoding_dim'\n",
    "        # 2. ReLU Activation: The Rectified Linear Unit (ReLU) activation function introduces non-linearity\n",
    "        #    by replacing negative values with zeros.\n",
    "        #    - It helps the model learn complex patterns in the data.\n",
    "        #    - 'nn.ReLU(True)' means that 'in-place' ReLU is used, which modifies the input tensor directly.\n",
    "        self.encoder = nn.Sequential(\n",
    "            nn.Linear(28 * 28, encoding_dim),  # Input: 28*28, Output: encoding_dim\n",
    "            nn.ReLU(True)  # Apply ReLU activation\n",
    "        )\n",
    "\n",
    "        self.decoder = nn.Sequential(\n",
    "            nn.Linear(encoding_dim, 28 * 28),\n",
    "            nn.Sigmoid()  # To bring the values between 0 and 1\n",
    "        )\n",
    "\n",
    "    def forward(self, x):\n",
    "        x = self.encoder(x)\n",
    "        x = self.decoder(x)\n",
    "        return x\n"
   ]
  },
  {
   "cell_type": "markdown",
   "metadata": {
    "id": "ZNBmhNuqFUyc"
   },
   "source": [
    "**3.1. Encoder Definition**\n",
    "\n",
    "- The encoder compresses the input into a latent space.\n",
    "- nn.Sequential is a container that sequences the layers in order.\n",
    "- nn.Linear(28 * 28, encoding_dim) creates a fully connected layer. The input size is 784 (28x28, size of MNIST images), and the output is the encoding dimension.\n",
    "- nn.ReLU(True) is the activation function. ReLU stands for Rectified Linear Unit.\n",
    "\n",
    "**3.2. Decoder Definition**\n",
    "\n",
    "- The decoder reconstructs the original input from the encoded form.\n",
    "- nn.Linear(encoding_dim, 28 * 28) creates a fully connected layer. This layer takes the encoded representation and tries to expand it back to the original size.\n",
    "- nn.Sigmoid() is the activation function. It ensures the output values are between 0 and 1, making it suitable for image reconstruction."
   ]
  },
  {
   "cell_type": "markdown",
   "metadata": {
    "id": "JuR3VMBYFUyc"
   },
   "source": [
    "4. Model, Loss, and Optimizer Initialization\n"
   ]
  },
  {
   "cell_type": "code",
   "execution_count": 10,
   "metadata": {
    "id": "0tWHEm3nFUyc"
   },
   "outputs": [],
   "source": [
    "model = Autoencoder(encoding_dim=64)\n",
    "criterion = nn.MSELoss()\n",
    "optimizer = optim.Adam(model.parameters(), lr=0.001)"
   ]
  },
  {
   "cell_type": "markdown",
   "metadata": {
    "id": "aFtevxw6FUyd"
   },
   "source": [
    "5. Training the Autoencoder"
   ]
  },
  {
   "cell_type": "code",
   "execution_count": 11,
   "metadata": {
    "colab": {
     "base_uri": "https://localhost:8080/"
    },
    "id": "Zn8UzMhuFUyd",
    "outputId": "e8bfb3c9-dff8-4dfb-eae9-c8b45b4da28f"
   },
   "outputs": [
    {
     "name": "stderr",
     "output_type": "stream",
     "text": [
      "Epochs:  10%|█         | 1/10 [00:12<01:55, 12.81s/it]"
     ]
    },
    {
     "name": "stdout",
     "output_type": "stream",
     "text": [
      "Epoch [1/10], Loss: 0.0275\n"
     ]
    },
    {
     "name": "stderr",
     "output_type": "stream",
     "text": [
      "\r",
      "Epochs:  20%|██        | 2/10 [00:22<01:28, 11.02s/it]"
     ]
    },
    {
     "name": "stdout",
     "output_type": "stream",
     "text": [
      "Epoch [2/10], Loss: 0.0179\n"
     ]
    },
    {
     "name": "stderr",
     "output_type": "stream",
     "text": [
      "\r",
      "Epochs:  30%|███       | 3/10 [00:32<01:12, 10.30s/it]"
     ]
    },
    {
     "name": "stdout",
     "output_type": "stream",
     "text": [
      "Epoch [3/10], Loss: 0.0123\n"
     ]
    },
    {
     "name": "stderr",
     "output_type": "stream",
     "text": [
      "\r",
      "Epochs:  40%|████      | 4/10 [00:42<01:01, 10.25s/it]"
     ]
    },
    {
     "name": "stdout",
     "output_type": "stream",
     "text": [
      "Epoch [4/10], Loss: 0.0087\n"
     ]
    },
    {
     "name": "stderr",
     "output_type": "stream",
     "text": [
      "\r",
      "Epochs:  50%|█████     | 5/10 [00:52<00:50, 10.17s/it]"
     ]
    },
    {
     "name": "stdout",
     "output_type": "stream",
     "text": [
      "Epoch [5/10], Loss: 0.0083\n"
     ]
    },
    {
     "name": "stderr",
     "output_type": "stream",
     "text": [
      "\r",
      "Epochs:  60%|██████    | 6/10 [01:02<00:40, 10.09s/it]"
     ]
    },
    {
     "name": "stdout",
     "output_type": "stream",
     "text": [
      "Epoch [6/10], Loss: 0.0069\n"
     ]
    },
    {
     "name": "stderr",
     "output_type": "stream",
     "text": [
      "\r",
      "Epochs:  70%|███████   | 7/10 [01:13<00:31, 10.58s/it]"
     ]
    },
    {
     "name": "stdout",
     "output_type": "stream",
     "text": [
      "Epoch [7/10], Loss: 0.0073\n"
     ]
    },
    {
     "name": "stderr",
     "output_type": "stream",
     "text": [
      "\r",
      "Epochs:  80%|████████  | 8/10 [01:23<00:20, 10.43s/it]"
     ]
    },
    {
     "name": "stdout",
     "output_type": "stream",
     "text": [
      "Epoch [8/10], Loss: 0.0067\n"
     ]
    },
    {
     "name": "stderr",
     "output_type": "stream",
     "text": [
      "\r",
      "Epochs:  90%|█████████ | 9/10 [01:32<00:10, 10.02s/it]"
     ]
    },
    {
     "name": "stdout",
     "output_type": "stream",
     "text": [
      "Epoch [9/10], Loss: 0.0069\n"
     ]
    },
    {
     "name": "stderr",
     "output_type": "stream",
     "text": [
      "Epochs: 100%|██████████| 10/10 [01:42<00:00, 10.29s/it]"
     ]
    },
    {
     "name": "stdout",
     "output_type": "stream",
     "text": [
      "Epoch [10/10], Loss: 0.0068\n"
     ]
    },
    {
     "name": "stderr",
     "output_type": "stream",
     "text": [
      "\n"
     ]
    }
   ],
   "source": [
    "num_epochs = 10\n",
    "\n",
    "# Outer loop for epochs with tqdm\n",
    "for epoch in tqdm(range(num_epochs), desc=\"Epochs\"):\n",
    "    for data in train_loader:\n",
    "        img, _ = data\n",
    "        img = img.view(img.size(0), -1)  # Flatten the images\n",
    "        output = model(img)\n",
    "        loss = criterion(output, img)\n",
    "\n",
    "        optimizer.zero_grad()\n",
    "        loss.backward()\n",
    "        optimizer.step()\n",
    "\n",
    "    print(f\"Epoch [{epoch + 1}/{num_epochs}], Loss: {loss.item():.4f}\")"
   ]
  },
  {
   "cell_type": "markdown",
   "metadata": {
    "id": "Q8wku8CgFUyd"
   },
   "source": [
    "<img src=\"https://github.com/wsko/Generative_AI/blob/main/Day-2/images/border.jpg?raw=1\" height=\"10\" width=\"1500\" align=\"center\"/>"
   ]
  },
  {
   "cell_type": "markdown",
   "metadata": {
    "id": "ufo_I3aqFUyd"
   },
   "source": [
    "## **How good is our autoencoder?**"
   ]
  },
  {
   "cell_type": "markdown",
   "metadata": {
    "id": "6e49HS8LFUye"
   },
   "source": [
    "6. Load and Preprocess the Test Data"
   ]
  },
  {
   "cell_type": "code",
   "execution_count": 12,
   "metadata": {
    "id": "GRpwSIk2FUye"
   },
   "outputs": [],
   "source": [
    "test_dataset = datasets.MNIST(root='./data', train=False, transform=transform, download=True)\n",
    "test_loader = torch.utils.data.DataLoader(test_dataset, batch_size=128, shuffle=False)"
   ]
  },
  {
   "cell_type": "markdown",
   "metadata": {
    "id": "SRsKdnWbFUye"
   },
   "source": [
    "7. Evaluate the Model"
   ]
  },
  {
   "cell_type": "code",
   "execution_count": 13,
   "metadata": {
    "colab": {
     "base_uri": "https://localhost:8080/"
    },
    "id": "O73JjTmtFUye",
    "outputId": "48abce8a-ff0d-4053-880f-43dfe1b36008"
   },
   "outputs": [
    {
     "name": "stdout",
     "output_type": "stream",
     "text": [
      "Average Reconstruction Loss on Test Set: 0.0063\n"
     ]
    }
   ],
   "source": [
    "model.eval()\n",
    "total_loss = 0\n",
    "with torch.no_grad():\n",
    "    for data in test_loader:\n",
    "        img, _ = data\n",
    "        img = img.view(img.size(0), -1)\n",
    "        output = model(img)\n",
    "        loss = criterion(output, img)\n",
    "        total_loss += loss.item()\n",
    "\n",
    "avg_loss = total_loss / len(test_loader)\n",
    "print(f\"Average Reconstruction Loss on Test Set: {avg_loss:.4f}\")"
   ]
  },
  {
   "cell_type": "markdown",
   "metadata": {
    "id": "JNmkhZkNFUye"
   },
   "source": [
    "<img src=\"https://github.com/wsko/Generative_AI/blob/main/Day-2/images/border.jpg?raw=1\" height=\"10\" width=\"1500\" align=\"center\"/>"
   ]
  },
  {
   "cell_type": "markdown",
   "metadata": {
    "id": "nbsxcsnJFUyf"
   },
   "source": [
    "8. Visualization of Original vs Reconstructed Images"
   ]
  },
  {
   "cell_type": "code",
   "execution_count": 14,
   "metadata": {
    "colab": {
     "base_uri": "https://localhost:8080/",
     "height": 323
    },
    "id": "dndPGMaLFUyf",
    "outputId": "168ef2ed-acc1-4b51-d7f9-c9367d20c2f7"
   },
   "outputs": [
    {
     "data": {
      "image/png": "[encoded data removed]",
      "text/plain": [
       "<Figure size 2000x500 with 20 Axes>"
      ]
     },
     "metadata": {},
     "output_type": "display_data"
    }
   ],
   "source": [
    "import matplotlib.pyplot as plt\n",
    "\n",
    "# Fetch a batch of images from the test set\n",
    "dataiter = iter(test_loader)\n",
    "images, _ = next(dataiter)\n",
    "\n",
    "# Pass images through the autoencoder\n",
    "with torch.no_grad():\n",
    "    images_flatten = images.view(images.size(0), -1)\n",
    "    outputs = model(images_flatten)\n",
    "    outputs = outputs.view(outputs.size(0), 1, 28, 28)\n",
    "\n",
    "# Display original and reconstructed images side by side\n",
    "fig, axes = plt.subplots(nrows=2, ncols=10, figsize=(20, 5))\n",
    "for i in range(10):\n",
    "    axes[0][i].imshow(images[i][0].cpu().numpy(), cmap='gray')\n",
    "    axes[1][i].imshow(outputs[i][0].cpu().numpy(), cmap='gray')\n",
    "    axes[0][i].axis('off')\n",
    "    axes[1][i].axis('off')\n",
    "\n",
    "plt.show()\n"
   ]
  },
  {
   "cell_type": "markdown",
   "metadata": {
    "id": "URum_2dgFUyf"
   },
   "source": [
    "<img src=\"https://github.com/wsko/Generative_AI/blob/main/Day-2/images/border.jpg?raw=1\" height=\"10\" width=\"1500\" align=\"center\"/>"
   ]
  },
  {
   "cell_type": "markdown",
   "metadata": {
    "id": "btqaPKdYFUyf"
   },
   "source": [
    "## Question\n",
    "\n",
    "Assume that you built a perfect autoencoder, what is the primary motivation?\n",
    "\n",
    "<!-- encoded_representation = autoencoder.encoder(input_data) -->"
   ]
  },
  {
   "cell_type": "markdown",
   "metadata": {
    "id": "WUKCBtGqFUyf"
   },
   "source": [
    "<img src=\"./images/border.jpg\" height=\"10\" width=\"1500\" align=\"center\"/>"
   ]
  },
  {
   "cell_type": "markdown",
   "metadata": {
    "id": "bSAiy6J_FUyg"
   },
   "source": [
    "# Define the Advanced Autoencoder with Convolutional Layers"
   ]
  },
  {
   "cell_type": "code",
   "execution_count": 15,
   "metadata": {
    "id": "sFwdQuJuFUyg"
   },
   "outputs": [],
   "source": [
    "class Encoder(nn.Module):\n",
    "    def __init__(self):\n",
    "        super(Encoder, self).__init__()\n",
    "        self.conv1 = nn.Conv2d(1, 16, kernel_size=3, stride=1, padding=1)\n",
    "        self.conv2 = nn.Conv2d(16, 32, kernel_size=3, stride=1, padding=1)\n",
    "        self.pool = nn.MaxPool2d(kernel_size=2, stride=2, return_indices=True)\n",
    "\n",
    "    def forward(self, x):\n",
    "        x = F.relu(self.conv1(x))\n",
    "        x, indices1 = self.pool(x)\n",
    "        x = F.relu(self.conv2(x))\n",
    "        x, indices2 = self.pool(x)\n",
    "        return x, (indices1, indices2)\n"
   ]
  },
  {
   "cell_type": "code",
   "execution_count": 16,
   "metadata": {
    "id": "yHvt6nBUFUyh"
   },
   "outputs": [],
   "source": [
    "class Decoder(nn.Module):\n",
    "    def __init__(self):\n",
    "        super(Decoder, self).__init__()\n",
    "        self.unpool = nn.MaxUnpool2d(kernel_size=2, stride=2)\n",
    "        self.deconv1 = nn.ConvTranspose2d(32, 16, kernel_size=3, stride=1, padding=1)\n",
    "        self.deconv2 = nn.ConvTranspose2d(16, 1, kernel_size=3, stride=1, padding=1)\n",
    "\n",
    "    def forward(self, x, indices):\n",
    "        indices1, indices2 = indices\n",
    "        x = self.unpool(x, indices2)\n",
    "        x = F.relu(self.deconv1(x))\n",
    "        x = self.unpool(x, indices1)\n",
    "        x = torch.sigmoid(self.deconv2(x))\n",
    "        return x\n"
   ]
  },
  {
   "cell_type": "code",
   "execution_count": 17,
   "metadata": {
    "id": "oysh_3ExFUyh"
   },
   "outputs": [],
   "source": [
    "class ConvAutoencoder(nn.Module):\n",
    "    def __init__(self):\n",
    "        super(ConvAutoencoder, self).__init__()\n",
    "        self.encoder = Encoder()\n",
    "        self.decoder = Decoder()\n",
    "\n",
    "    def forward(self, x):\n",
    "        x, indices = self.encoder(x)\n",
    "        x = self.decoder(x, indices)\n",
    "        return x\n"
   ]
  },
  {
   "cell_type": "markdown",
   "metadata": {
    "id": "Qae6bJ11FUyh"
   },
   "source": [
    " 1. Import Necessary Libraries"
   ]
  },
  {
   "cell_type": "code",
   "execution_count": 18,
   "metadata": {
    "id": "X4fppNwhFUyh"
   },
   "outputs": [],
   "source": [
    "import torch\n",
    "import torch.nn as nn\n",
    "import torch.nn.functional as F\n",
    "import torch.optim as optim\n",
    "from torchvision import datasets, transforms\n",
    "import matplotlib.pyplot as plt"
   ]
  },
  {
   "cell_type": "markdown",
   "metadata": {
    "id": "aTYu0YDDFUyh"
   },
   "source": [
    "2. Set Hyperparameters & Data Loading\n"
   ]
  },
  {
   "cell_type": "code",
   "execution_count": 19,
   "metadata": {
    "id": "pd2BpH-6FUyi"
   },
   "outputs": [],
   "source": [
    "BATCH_SIZE = 64\n",
    "EPOCHS = 5\n",
    "LR = 0.001\n",
    "\n",
    "transform = transforms.Compose([\n",
    "    transforms.ToTensor(),\n",
    "])\n",
    "\n",
    "train_dataset = datasets.MNIST('./data', train=True, download=True, transform=transform)\n",
    "train_loader = torch.utils.data.DataLoader(train_dataset, batch_size=BATCH_SIZE, shuffle=True)\n",
    "\n",
    "test_dataset = datasets.MNIST('./data', train=False, transform=transform)\n",
    "test_loader = torch.utils.data.DataLoader(test_dataset, batch_size=BATCH_SIZE, shuffle=False)\n",
    "\n",
    "device = torch.device(\"cuda\" if torch.cuda.is_available() else \"cpu\")\n"
   ]
  },
  {
   "cell_type": "markdown",
   "metadata": {
    "id": "fZjuqpDjFUyi"
   },
   "source": [
    "3. Define the Autoencoder\n"
   ]
  },
  {
   "cell_type": "code",
   "execution_count": 20,
   "metadata": {
    "id": "RP6NBxDgFUyi"
   },
   "outputs": [],
   "source": [
    "model = ConvAutoencoder().to(device)\n"
   ]
  },
  {
   "cell_type": "markdown",
   "metadata": {
    "id": "wws0zHExFUyi"
   },
   "source": [
    "4. Define Loss and Optimizer\n"
   ]
  },
  {
   "cell_type": "code",
   "execution_count": 21,
   "metadata": {
    "id": "0PtOmeSoFUyi"
   },
   "outputs": [],
   "source": [
    "criterion = nn.MSELoss()\n",
    "optimizer = optim.Adam(model.parameters(), lr=LR)\n"
   ]
  },
  {
   "cell_type": "markdown",
   "metadata": {
    "id": "qUl_dZW5FUyj"
   },
   "source": [
    "5. Train the Autoencoder\n"
   ]
  },
  {
   "cell_type": "code",
   "execution_count": 22,
   "metadata": {
    "colab": {
     "base_uri": "https://localhost:8080/"
    },
    "id": "FWMvcbIiFUyj",
    "outputId": "6e4d3717-60d0-4dbd-81b5-ddc02581c744"
   },
   "outputs": [
    {
     "name": "stdout",
     "output_type": "stream",
     "text": [
      "Epoch: 1/5, Train Loss: 0.0002\n",
      "Epoch: 2/5, Train Loss: 0.0000\n",
      "Epoch: 3/5, Train Loss: 0.0000\n",
      "Epoch: 4/5, Train Loss: 0.0000\n",
      "Epoch: 5/5, Train Loss: 0.0000\n"
     ]
    }
   ],
   "source": [
    "for epoch in range(EPOCHS):\n",
    "    model.train()\n",
    "    train_loss = 0\n",
    "\n",
    "    for batch_idx, (data, _) in enumerate(train_loader):\n",
    "        data = data.to(device)\n",
    "        optimizer.zero_grad()\n",
    "\n",
    "        outputs = model(data)\n",
    "        loss = criterion(outputs, data)\n",
    "        loss.backward()\n",
    "        optimizer.step()\n",
    "\n",
    "        train_loss += loss.item()\n",
    "\n",
    "    train_loss /= len(train_loader.dataset)\n",
    "    print(f\"Epoch: {epoch+1}/{EPOCHS}, Train Loss: {train_loss:.4f}\")\n"
   ]
  },
  {
   "cell_type": "markdown",
   "metadata": {
    "id": "0Tm4PR9rFUyj"
   },
   "source": [
    "6. Test and Visualize Results\n"
   ]
  },
  {
   "cell_type": "code",
   "execution_count": 23,
   "metadata": {
    "colab": {
     "base_uri": "https://localhost:8080/",
     "height": 323
    },
    "id": "sA4beKoiFUyk",
    "outputId": "5ec49072-edee-4e95-8037-300901a37d3f"
   },
   "outputs": [
    {
     "data": {
      "image/png": "[encoded data removed]",
      "text/plain": [
       "<Figure size 2000x500 with 20 Axes>"
      ]
     },
     "metadata": {},
     "output_type": "display_data"
    }
   ],
   "source": [
    "model.eval()\n",
    "with torch.no_grad():\n",
    "    dataiter = iter(test_loader)\n",
    "    images, _ = next(dataiter)\n",
    "    images = images.to(device)\n",
    "    outputs = model(images)\n",
    "\n",
    "    fig, axes = plt.subplots(nrows=2, ncols=10, figsize=(20, 5))\n",
    "    for i in range(10):\n",
    "        axes[0][i].imshow(images[i][0].cpu().numpy(), cmap='gray')\n",
    "        axes[1][i].imshow(outputs[i][0].cpu().numpy(), cmap='gray')\n",
    "        axes[0][i].axis('off')\n",
    "        axes[1][i].axis('off')\n",
    "\n",
    "    plt.show()\n"
   ]
  },
  {
   "cell_type": "markdown",
   "metadata": {
    "id": "ZPYfLQN4FUyk"
   },
   "source": [
    "<img src=\"./images/border.jpg\" height=\"10\" width=\"1500\" align=\"center\"/>"
   ]
  },
  {
   "cell_type": "markdown",
   "metadata": {
    "id": "gsVMOLvrFUyk"
   },
   "source": [
    "## **Denoising**\n",
    "\n",
    "Autoencoders are powerful neural network architectures commonly used for dimensionality reduction, anomaly detection, and more. One of their exciting applications is in **denoising images**.\n",
    "\n",
    "### How Does it Work?\n",
    "\n",
    "1. **Starting Point**: Use original, noise-free images.\n",
    "2. **Add Artificial Noise**: Before feeding them to the autoencoder, introduce some random noise to these images.\n",
    "3. **Training Objective**: Train the autoencoder using the noisy images as input, aiming to reconstruct the original noise-free images as its output."
   ]
  },
  {
   "cell_type": "code",
   "execution_count": 24,
   "metadata": {
    "id": "AmuhwsBpFUyl"
   },
   "outputs": [],
   "source": [
    "import torch\n",
    "import torch.nn as nn\n",
    "import torch.optim as optim\n",
    "from torchvision import datasets, transforms\n",
    "import matplotlib.pyplot as plt\n",
    "import numpy as np\n",
    "\n",
    "# Data loading\n",
    "transform = transforms.Compose([transforms.ToTensor()])\n",
    "train_dataset = datasets.MNIST(root='./data', train=True, transform=transform, download=True)\n",
    "train_loader = torch.utils.data.DataLoader(train_dataset, batch_size=32, shuffle=True)\n",
    "\n"
   ]
  },
  {
   "cell_type": "code",
   "execution_count": 25,
   "metadata": {
    "id": "5t4nYUEvFUyl"
   },
   "outputs": [],
   "source": [
    "# Add noise function\n",
    "def add_noise(img, noise_factor=0.5):\n",
    "    noise = torch.randn_like(img) * noise_factor\n",
    "    noisy_img = img + noise\n",
    "    return torch.clamp(noisy_img, 0., 1.)"
   ]
  },
  {
   "cell_type": "code",
   "execution_count": null,
   "metadata": {
    "colab": {
     "base_uri": "https://localhost:8080/"
    },
    "id": "pwVUco3KFUyl",
    "outputId": "a49d7f77-9037-4aa7-ceba-d2fd97788246"
   },
   "outputs": [
    {
     "name": "stdout",
     "output_type": "stream",
     "text": [
      "Epoch [1/5], Loss: 0.1065\n",
      "Epoch [2/5], Loss: 0.1186\n",
      "Epoch [3/5], Loss: 0.1224\n"
     ]
    }
   ],
   "source": [
    "# Training\n",
    "device = torch.device(\"cuda\" if torch.cuda.is_available() else \"cpu\")\n",
    "model = ConvAutoencoder().to(device)\n",
    "criterion = nn.MSELoss()\n",
    "optimizer = optim.Adam(model.parameters(), lr=0.001)\n",
    "\n",
    "num_epochs = 5\n",
    "for epoch in range(num_epochs):\n",
    "    for data in train_loader:\n",
    "        img, _ = data\n",
    "        noisy_img = add_noise(img)\n",
    "        noisy_img = noisy_img.to(device)\n",
    "        optimizer.zero_grad()\n",
    "        outputs = model(noisy_img)\n",
    "        loss = criterion(outputs, img.to(device))\n",
    "        loss.backward()\n",
    "        optimizer.step()\n",
    "\n",
    "    print(f'Epoch [{epoch+1}/{num_epochs}], Loss: {loss.item():.4f}')"
   ]
  },
  {
   "cell_type": "code",
   "execution_count": null,
   "metadata": {
    "id": "YOtCB9T4FUym"
   },
   "outputs": [],
   "source": [
    "# Visualization\n",
    "model.eval()\n",
    "with torch.no_grad():\n",
    "    # Get a batch of data\n",
    "    for data in train_loader:\n",
    "        images, _ = data\n",
    "        noisy_images = add_noise(images)\n",
    "\n",
    "        outputs = model(noisy_images.to(device))\n",
    "        outputs = outputs.cpu()\n",
    "\n",
    "        # Plot noisy images\n",
    "        for i in range(5):\n",
    "            plt.subplot(3, 5, i + 1)\n",
    "            plt.imshow(noisy_images[i][0], cmap='gray')\n",
    "            plt.title(\"Noisy\")\n",
    "            plt.axis('off')\n",
    "\n",
    "            # Plot denoised images\n",
    "            plt.subplot(3, 5, i + 6)\n",
    "            plt.imshow(outputs[i][0], cmap='gray')\n",
    "            plt.title(\"Denoised\")\n",
    "            plt.axis('off')\n",
    "\n",
    "            # Plot original images\n",
    "            plt.subplot(3, 5, i + 11)\n",
    "            plt.imshow(images[i][0], cmap='gray')\n",
    "            plt.title(\"Original\")\n",
    "            plt.axis('off')\n",
    "\n",
    "    plt.tight_layout()\n",
    "    plt.show()\n"
   ]
  },
  {
   "cell_type": "markdown",
   "metadata": {
    "id": "j1R3ZaHs2uL4"
   },
   "source": [
    "- You should expect something like this:\n",
    "\n",
    "\n",
    "<img src=\"./images/autoencoder_denoise.png\" width=\"600\" align=\"center\"/>"
   ]
  },
  {
   "cell_type": "markdown",
   "metadata": {
    "id": "5OuYAfauFUym"
   },
   "source": [
    "<img src=\"./images/border.jpg\" height=\"10\" width=\"1500\" align=\"center\"/>"
   ]
  },
  {
   "cell_type": "markdown",
   "metadata": {
    "id": "2kx-m3PBFUyn"
   },
   "source": [
    "# Variational Auto-Encoders (VAE)\n",
    "[Link to Paper](https://arxiv.org/abs/1906.02691)\n",
    "\n",
    "\n",
    "## Traditional Autoencoders\n",
    "\n",
    "- Reduce the dimension of the input data.\n",
    "- Learn essential features of input images.\n",
    "- **Problem**:\n",
    "  - Can reconstruct the input.\n",
    "    - But, doesn't always work as a generative model.\n",
    "  - Decoding a random input doesn't guarantee a logical image\n",
    "\n",
    "For instance, with the MNIST dataset:\n",
    "- Close latent vectors might not relate to the same digits.\n",
    "- Understanding which digit corresponds to different latent vectors is challenging.\n",
    "\n",
    "\n",
    "## The Encoder in VAE\n",
    "\n",
    "- Traditional autoencoder: One latent point for one input.\n",
    "- VAE's encoder: Produces a **probability distribution** in the latent space.\n",
    "- Outputs gaussians with parameters.\n",
    "\n",
    "\n",
    "<img src=\"./images/VAE2.svg\" width=\"500\" align=\"center\"/>\n",
    "\n",
    "\n",
    "# Goal of a Variational Autoencoder\n",
    "\n",
    "- VAE is a **generative model**.\n",
    "- Generates fake samples resembling training data.\n",
    "- For MNIST: Synthesize images of handwritten digits.\n",
    "- Provides a \"latent space\" for sampling.\n",
    "- Decoding any point gives a reasonable image of a digit.\n",
    "\n",
    "\n",
    "<img src=\"./images/border.jpg\" height=\"10\" width=\"1500\" align=\"center\"/>\n",
    "\n",
    "## Enter the Variational Auto-Encoder (VAE)\n",
    "\n",
    "- VAEs are designed to understand the latent space better.\n",
    "- They predict the *statistical distribution* of latent parameters: the **latent distribution**.\n",
    "- This makes VAEs suitable for training *generative* models.\n",
    "\n",
    "\n",
    "## VAE Workflow\n",
    "\n",
    "1. Encoder receives an image.\n",
    "2. Produces a probability distribution in latent space.\n",
    "3. Sample a point from this distribution.\n",
    "4. Decoder uses this point to craft an artificial image.\n",
    "\n",
    "\n",
    "\n",
    "1. From the input, predict `z_mean` and `z_log`.\n",
    "2. Instead of standard deviation, we predict its logarithm.\n",
    "3. Sample a vector (`sample` or `z_val` in code) from the distribution $N(\\mathrm{z\\_mean},e^{\\mathrm{z\\_log\\_sigma}})$.\n",
    "4. Decoder then uses the `sample` vector to try and recreate the original image.\n",
    "\n",
    "\n",
    "\n",
    "\n",
    "## Visual Representation of VAE\n",
    "\n",
    "\n",
    "<img src=\"./images/vae.png\" width=\"500\" align=\"center\"/>\n",
    "> Image Source: [Blog Post by Isaak Dykeman](https://ijdykeman.github.io/ml/2016/12/21/cvae.html)\n",
    "\n"
   ]
  },
  {
   "cell_type": "markdown",
   "metadata": {
    "id": "Plmw3otn0MNk"
   },
   "source": [
    "### The Problem\n",
    "When training a VAE, we want to learn two things:\n",
    "1. A way to compress data into a smaller, simpler representation (called the \"latent space\").\n",
    "2. A way to decode this simple representation back into data (like images).\n",
    "\n",
    "In the latent space, we use probability distributions to describe the simpler representations. We need to sample from these distributions to train our model effectively. However, directly sampling from these distributions during training makes it hard to calculate the changes needed to improve the model (gradients).\n",
    "\n",
    "### The Reparameterization Trick\n",
    "The reparameterization trick is a clever way to solve this problem. Here's how it works:\n",
    "\n",
    "1. **Original Approach**: If we just sample directly from our distribution (like a normal distribution), we get random numbers which make it hard to train the model properly.\n",
    "   \n",
    "2. **Reparameterization Trick**: Instead of sampling directly, we split the process into two parts:\n",
    "   - We first generate a random variable from a simple distribution that we know how to handle (like a standard normal distribution, which has a mean of 0 and a standard deviation of 1).\n",
    "   - Then, we adjust this random variable using parameters (mean and standard deviation) learned by the model.\n",
    "\n",
    "This can be written as:\n",
    "$$\n",
    "z = \\mu + \\sigma \\times \\epsilon\n",
    "$$\n",
    "\n",
    "\n",
    "Where:\n",
    "- $ \\mu $ is the mean (learned by the model).\n",
    "- $ \\sigma $ is the standard deviation (learned by the model).\n",
    "- $ \\epsilon $ is a random variable sampled from a standard normal distribution.\n",
    "\n",
    "### Why This Works\n",
    "By doing this, we can still generate the random samples needed to train our model, but in a way that allows us to calculate the gradients correctly. This trick makes it possible to use standard backpropagation to train the VAE effectively.\n",
    "\n",
    "### Summary\n",
    "The reparameterization trick allows a variational autoencoder to generate random samples in a way that doesn't mess up the training process. It does this by splitting the sampling into a part we can handle easily and a part that adjusts the samples based on the model's learned parameters. This trick makes the VAE both powerful and trainable."
   ]
  },
  {
   "cell_type": "markdown",
   "metadata": {
    "id": "1xc2kl2tFUyn"
   },
   "source": [
    "<img src=\"https://github.com/wsko/Generative_AI/blob/main/Day-2/images/border.jpg?raw=1\" height=\"10\" width=\"1500\" align=\"center\"/>"
   ]
  },
  {
   "cell_type": "markdown",
   "metadata": {
    "id": "TvW9VqNjFUyn"
   },
   "source": [
    "# VAE Architecture\n",
    "Define the Encoder, Reparameterization trick, and Decoder.\n"
   ]
  },
  {
   "cell_type": "code",
   "execution_count": null,
   "metadata": {
    "id": "MYWyrtUrFUyn"
   },
   "outputs": [],
   "source": [
    "class VAEEncoder(nn.Module):\n",
    "    def __init__(self, device):\n",
    "        super().__init__()\n",
    "        self.intermediate_dim = 400\n",
    "        self.latent_dim = 2\n",
    "        self.linear = nn.Linear(784, self.intermediate_dim)\n",
    "        self.z_mean = nn.Linear(self.intermediate_dim, self.latent_dim)\n",
    "        self.z_log = nn.Linear(self.intermediate_dim, self.latent_dim)\n",
    "        self.relu = nn.ReLU()\n",
    "        self.device = device\n",
    "\n",
    "    def forward(self, input):\n",
    "        bs = input.shape[0]\n",
    "\n",
    "        hidden = self.relu(self.linear(input))\n",
    "        z_mean = self.z_mean(hidden)\n",
    "        z_log = self.z_log(hidden)\n",
    "\n",
    "        eps = torch.FloatTensor(np.random.normal(size=(bs, self.latent_dim))).to(device)\n",
    "        z_val = z_mean + torch.exp(z_log) * eps\n",
    "        return z_mean, z_log, z_val"
   ]
  },
  {
   "cell_type": "code",
   "execution_count": null,
   "metadata": {
    "id": "uNU2BII0FUyo"
   },
   "outputs": [],
   "source": [
    "class VAEDecoder(nn.Module):\n",
    "    def __init__(self):\n",
    "        super().__init__()\n",
    "        self.intermediate_dim = 400\n",
    "        self.latent_dim = 2\n",
    "        self.linear = nn.Linear(self.latent_dim, self.intermediate_dim)\n",
    "        self.output = nn.Linear(self.intermediate_dim, 784)\n",
    "        self.relu = nn.ReLU()\n",
    "        self.sigmoid = nn.Sigmoid()\n",
    "\n",
    "    def forward(self, input):\n",
    "        hidden = self.relu(self.linear(input))\n",
    "        decoded = self.sigmoid(self.output(hidden))\n",
    "        return decoded"
   ]
  },
  {
   "cell_type": "code",
   "execution_count": null,
   "metadata": {
    "id": "Sd2-iRm6FUyo"
   },
   "outputs": [],
   "source": [
    "class VAEAutoEncoder(nn.Module):\n",
    "    def __init__(self, device):\n",
    "        super().__init__()\n",
    "        self.encoder = VAEEncoder(device)\n",
    "        self.decoder = VAEDecoder()\n",
    "        self.z_vals = None\n",
    "\n",
    "    def forward(self, input):\n",
    "        bs, c, h, w = input.shape[0], input.shape[1], input.shape[2], input.shape[3]\n",
    "        input = input.view(bs, -1)\n",
    "        encoded = self.encoder(input)\n",
    "        self.z_vals = encoded\n",
    "        decoded = self.decoder(encoded[2])\n",
    "        return decoded\n",
    "\n",
    "    def get_zvals(self):\n",
    "        return self.z_vals"
   ]
  },
  {
   "cell_type": "markdown",
   "metadata": {
    "id": "o02J9VnVFUyo"
   },
   "source": [
    "# VAE Loss and Optimization\n",
    "Combines reconstruction loss and KL divergence.\n"
   ]
  },
  {
   "cell_type": "markdown",
   "metadata": {
    "id": "fq1X8sqdFUyp"
   },
   "source": [
    "Variational auto-encoders use complex loss function that consists of two parts:\n",
    "* **Reconstruction loss** is the loss function that shows how close reconstructed image is to the target (can be MSE). It is the same loss function as in normal autoencoders.\n",
    "* **KL loss**, which ensures that latent variable distributions stays close to normal distribution. It is based on the notion of [Kullback-Leibler divergence](https://www.countbayesie.com/blog/2017/5/9/kullback-leibler-divergence-explained) - a metric to estimate how similar two statistical distributions are."
   ]
  },
  {
   "cell_type": "code",
   "execution_count": null,
   "metadata": {
    "id": "kinHbgcnFUyp"
   },
   "outputs": [],
   "source": [
    "def vae_loss(preds, targets, z_vals):\n",
    "    mse = nn.MSELoss()\n",
    "    reconstruction_loss = mse(preds, targets.view(targets.shape[0], -1)) * 784.0\n",
    "    temp = 1.0 + z_vals[1] - torch.square(z_vals[0]) - torch.exp(z_vals[1])\n",
    "    kl_loss = -0.5 * torch.sum(temp, axis=-1)\n",
    "    return torch.mean(reconstruction_loss + kl_loss)"
   ]
  },
  {
   "cell_type": "markdown",
   "metadata": {
    "id": "2pDFjv78FUyp"
   },
   "source": [
    "<img src=\"https://github.com/wsko/Generative_AI/blob/main/Day-2/images/border.jpg?raw=1\" height=\"10\" width=\"1500\" align=\"center\"/>"
   ]
  },
  {
   "cell_type": "markdown",
   "metadata": {
    "id": "oDhLW0ZWFUyp"
   },
   "source": [
    "# **LAB:**  Train a VAE to generate new hand-written digits\n",
    "- Train the above VAE to make it generate hand-written digits\n",
    "- Define the model, number of epoques (start with 5), optmizer (RMSprop) and learning rate\n",
    "- Train the autoencoder\n",
    "- Visualize generated images\n",
    "- Are you happy with the result? If not, what parameter would you modify?\n",
    "  - hint: latend_dim can be higher than 2\n",
    "- Look up the solution below if in doubt\n"
   ]
  },
  {
   "cell_type": "code",
   "execution_count": null,
   "metadata": {
    "id": "VGMWx7sT-iP3"
   },
   "outputs": [],
   "source": []
  },
  {
   "cell_type": "code",
   "execution_count": null,
   "metadata": {
    "id": "HR9Gdpec-iYS"
   },
   "outputs": [],
   "source": []
  },
  {
   "cell_type": "code",
   "execution_count": null,
   "metadata": {
    "id": "A6SxHEHG-ifq"
   },
   "outputs": [],
   "source": []
  },
  {
   "cell_type": "markdown",
   "metadata": {
    "id": "8R52Lfsd-izY"
   },
   "source": [
    "### Lab Solution"
   ]
  },
  {
   "cell_type": "code",
   "execution_count": null,
   "metadata": {
    "id": "7_wNrjR-FUyq"
   },
   "outputs": [],
   "source": [
    "device = torch.device(\"cuda\" if torch.cuda.is_available() else \"cpu\")\n",
    "model = VAEAutoEncoder(device).to(device)\n",
    "optimizer = optim.RMSprop(model.parameters(), lr=LR)"
   ]
  },
  {
   "cell_type": "code",
   "execution_count": null,
   "metadata": {
    "id": "gcyi7sWuFUyq"
   },
   "outputs": [],
   "source": [
    "def train_vae(model, optimizer, epochs, device):\n",
    "\n",
    "    tqdm_iter = tqdm(range(epochs))\n",
    "\n",
    "    for epoch in tqdm_iter:\n",
    "        model.train()\n",
    "        train_loss = 0.0\n",
    "        test_loss = 0.0\n",
    "\n",
    "        for batch in train_loader:\n",
    "            imgs, labels = batch\n",
    "            imgs = imgs.to(device)\n",
    "            labels = labels.to(device)\n",
    "\n",
    "            preds = model(imgs)\n",
    "            z_vals = model.get_zvals()\n",
    "            loss = vae_loss(preds, imgs, z_vals)\n",
    "\n",
    "            optimizer.zero_grad()\n",
    "            loss.backward()\n",
    "            optimizer.step()\n",
    "\n",
    "            train_loss += loss.item()\n",
    "\n",
    "        model.eval()\n",
    "        with torch.no_grad():\n",
    "            for batch in test_loader:\n",
    "                imgs, labels = batch\n",
    "                imgs = imgs.to(device)\n",
    "                labels = labels.to(device)\n",
    "\n",
    "                preds = model(imgs)\n",
    "                z_vals = model.get_zvals()\n",
    "                loss = vae_loss(preds, imgs, z_vals)\n",
    "\n",
    "                test_loss += loss.item()\n",
    "\n",
    "        train_loss /= len(train_loader)\n",
    "        test_loss /= len(test_loader)\n",
    "\n",
    "        tqdm_dct = {'train loss:': train_loss, 'test loss:': test_loss}\n",
    "        tqdm_iter.set_postfix(tqdm_dct, refresh=True)\n",
    "        tqdm_iter.refresh()"
   ]
  },
  {
   "cell_type": "code",
   "execution_count": null,
   "metadata": {
    "id": "g1ftItTnFUyq"
   },
   "outputs": [],
   "source": [
    "train_vae(model, optimizer, 5, device)"
   ]
  },
  {
   "cell_type": "markdown",
   "metadata": {
    "id": "nwwgxxTeFUyr"
   },
   "source": [
    "# Visualizing the Results\n",
    "Display reconstructed images and generated images from latent space.\n"
   ]
  },
  {
   "cell_type": "code",
   "execution_count": null,
   "metadata": {
    "id": "BiA-mKv4FUyr"
   },
   "outputs": [],
   "source": [
    "def plot_Sample(n, data):\n",
    "    fig, ax = plt.subplots(1, n)\n",
    "    for i, z in enumerate(data):\n",
    "        if i == n:\n",
    "            break\n",
    "        preprocess = z[0].reshape(1, 28, 28) if z[0].shape[1] == 28 else z[0].reshape(1, 14, 14) if z[0].shape[1] == 14 else z[0]\n",
    "\n",
    "\n",
    "        ax[i].imshow(preprocess[0])\n",
    "    plt.show()\n",
    "\n",
    "\n",
    "model.eval()\n",
    "predictions = []\n",
    "plots = 5\n",
    "for i, data in enumerate(test_dataset):\n",
    "    if i == plots:\n",
    "        break\n",
    "    predictions.append(model(data[0].to(device).unsqueeze(0)).view(1, 28, 28).detach().cpu())\n",
    "plot_Sample(plots, test_dataset)\n",
    "plot_Sample(plots, predictions)"
   ]
  },
  {
   "cell_type": "markdown",
   "metadata": {
    "id": "4VA9tUaaFUys"
   },
   "source": [
    "# Generate a new Image!"
   ]
  },
  {
   "cell_type": "code",
   "execution_count": null,
   "metadata": {
    "id": "jZ8NStcn8Ic7"
   },
   "outputs": [],
   "source": [
    "import torch\n",
    "import matplotlib.pyplot as plt\n",
    "\n",
    "def generate_sample(vae, device):\n",
    "    # Assume the latent dimension of your VAE is `latent_dim`\n",
    "    latent_dim = 2  # Replace this if your VAE uses a different latent dimension\n",
    "\n",
    "    # Sample a point from the standard normal distribution\n",
    "    z = torch.randn(1, latent_dim).to(device)\n",
    "\n",
    "    # Decode the sampled point to get a new data sample\n",
    "    with torch.no_grad():\n",
    "        generated_sample = vae.decoder(z)\n",
    "\n",
    "    # Ensure the output is in the shape of (1, 28*28), so reshape it\n",
    "    generated_sample = generated_sample.view(28, 28).cpu().numpy()\n",
    "\n",
    "    return generated_sample\n",
    "\n",
    "# Example usage\n",
    "vae_model = model\n",
    "device = torch.device(\"cuda\" if torch.cuda.is_available() else \"cpu\")\n",
    "vae_model.to(device)\n",
    "\n",
    "# Generate a new sample\n",
    "new_sample = generate_sample(vae_model, device)\n",
    "\n",
    "# Visualize the new sample\n",
    "plt.imshow(new_sample, cmap='gray')\n",
    "plt.axis('off')  # Hide axis\n",
    "plt.show()\n"
   ]
  },
  {
   "cell_type": "markdown",
   "metadata": {
    "id": "caEXOI1_FUys"
   },
   "source": [
    "<img src=\"https://github.com/wsko/Generative_AI/blob/main/Day-2/images/border.jpg?raw=1\" height=\"10\" width=\"1500\" align=\"center\"/>"
   ]
  },
  {
   "cell_type": "markdown",
   "metadata": {
    "id": "JYVdnkr8FUyt"
   },
   "source": [
    "## **Hands on: Latent Space Arithmetic with VAEs**"
   ]
  },
  {
   "cell_type": "markdown",
   "metadata": {
    "id": "6whJqURhFUyt"
   },
   "source": [
    "\n",
    "**Objective:** To explore the semantic representations captured in the latent space of a trained VAE by performing arithmetic operations on the latent representations of digits.\n",
    "\n",
    "\n"
   ]
  },
  {
   "cell_type": "markdown",
   "metadata": {
    "id": "OVvxHwNmFUyt"
   },
   "source": [
    "- Encode Several Instances of Specific Digits:\n",
    "  - Encode multiple instances of two chosen digits, for example '9' and '1'.\n",
    "  - Extract their latent space representations (z-values).\n",
    "  - Subtract the representation of '1' from that of '9'.\n",
    "  - Decode the Result\n",
    "  - How can the result be interpreted in terms of the semantics of the numbers '9' and '1'?\n",
    "\n",
    "<!-- digit_9_z_vals = []\n",
    "digit_1_z_vals = []\n",
    "\n",
    "for imgs, lbls in train_loader:\n",
    "    imgs = imgs.to(device)\n",
    "    _ = vae_model(imgs)\n",
    "    z_values = vae_model.get_zvals()[2].detach().cpu().numpy()\n",
    "\n",
    "    digit_9_z_vals.extend(z_values[lbls == 9])\n",
    "    digit_1_z_vals.extend(z_values[lbls == 1])\n",
    "\n",
    "\n",
    "avg_9 = np.mean(digit_9_z_vals, axis=0)\n",
    "avg_1 = np.mean(digit_1_z_vals, axis=0)\n",
    "\n",
    "resultant_z = avg_9 - avg_1\n",
    "\n",
    "\n",
    "resultant_z_tensor = torch.FloatTensor(resultant_z).to(device).unsqueeze(0)\n",
    "decoded_img = vae_model.decoder(resultant_z_tensor).detach().cpu().numpy().reshape(28, 28)\n",
    "\n",
    "plt.imshow(decoded_img, cmap='gray')\n",
    "plt.title(\"Decoded Image from Latent Space Arithmetic\")\n",
    "plt.show() -->\n",
    "\n"
   ]
  },
  {
   "cell_type": "markdown",
   "metadata": {
    "id": "NDIWYYOAFtPU"
   },
   "source": [
    "<img src=\"https://github.com/wsko/Generative_AI/blob/main/Day-2/images/border.jpg?raw=1\" height=\"10\" width=\"1500\" align=\"center\"/>"
   ]
  },
  {
   "cell_type": "markdown",
   "metadata": {
    "id": "LFmyMORUFtPV"
   },
   "source": [
    "# **Generative Adversarial Networks**\n",
    "\n",
    "- **Image classification**: Assigning a label to an image based on its content.\n",
    "- Convolutional Neural Networks (CNNs) have brought groundbreaking changes in this field.\n",
    "- CNNs are specialized neural networks for processing grid-like data (e.g., images).\n",
    "\n",
    "- Extending CNNs to Generate Images\n",
    "  - A fascinating feature of CNNs:\n",
    "    - Their adaptability\n",
    "  - While they excel in classification, they can also be repurposed to generate images\n",
    "  - Think of it as \"reverse engineering\"\n",
    "    - Given the learned features, how might an image look?\n"
   ]
  },
  {
   "cell_type": "markdown",
   "metadata": {
    "id": "lllZk0lDFtPW"
   },
   "source": [
    "## **GANs**\n",
    "\n",
    "- GANs: The New Era of Image Generation\n",
    "  - A novel architecture involving two networks: A generator and a discriminator.\n",
    "  - These networks train together, continuously improving each other.\n",
    "  - The goal?\n",
    "    - Have the generator create images so good that the discriminator can't tell them apart from real ones.\n",
    "\n",
    "- GANs in Action: A Real-world Analogy\n",
    "  - Picture a bank (the discriminator) trying to spot fake money from a counterfeiter (the generator).\n",
    "  - Initially, the counterfeiter's fakes are obvious.\n",
    "    - But let the money forger have a spy in the bank that reports back how the bank is telling fakes apart from real money.\n",
    "  - A continuous cycle of adaptation and counter-adaptation ensues.\n"
   ]
  },
  {
   "cell_type": "markdown",
   "metadata": {
    "id": "me66y__iFtPX"
   },
   "source": [
    "## **GAN Components**\n",
    "\n",
    "- The Discriminator and Generator in Detail\n",
    "  - **Discriminator**: A CNN trained to assign a probability that an image is real.\n",
    "  - **Generator**: A specialized CNN using transpose convolutions (or deconvolutions). It starts with random noise (around 100 parameters) and crafts an image from it.\n",
    "\n",
    "\n",
    "<img src=\"./images/GAN6.png\" width=\"500\" align=\"center\"/>\n"
   ]
  },
  {
   "cell_type": "markdown",
   "metadata": {
    "id": "pBBRDbRFFtPX"
   },
   "source": [
    "- How Does the Discriminator \"Guide\" the Generator?\n",
    "  - The *discriminator*, being a convolutional neural network, is differentiable\n",
    "  - By backpropagating, we can identify the gradients of the input image\n",
    "  - These gradients inform the *generator* which parts of the image to tweak\n",
    "\n",
    "- Utilizing the Feedback\n",
    "  - With the gradient information, we can adjust the weights of the generative network.\n",
    "  - This ensures that subsequent images produced by the generator are more \"authentic\" in appearance.\n",
    "\n",
    "- A Continuous Tug-of-War\n",
    "  - The discriminator seeks disparities between fake and real images.\n",
    "  - The generator aims to blur these lines of differentiation.\n",
    "  - Over time, this competition refines the generator to a point where its output becomes indistinguishable from real images.\n",
    "\n",
    "- Real-world Implementation\n",
    "  - Implementing GANs requires a deep learning framework, e.g., PyTorch.\n",
    "  - The true test: Training the network on diverse image datasets like CIFAR-10 or 64x64 Imagenet samples.\n",
    "  "
   ]
  },
  {
   "cell_type": "markdown",
   "metadata": {
    "id": "d2h2a92QFtPZ"
   },
   "source": [
    "## **CIFAR Dataset Overview**\n",
    "\n",
    "- **Description**: A collection of small images in 10 distinct classes.\n",
    "- **Image Size**: 32x32 pixels (color images).\n",
    "- **Number of Images**: 60,000\n",
    "    - 50,000 training images\n",
    "    - 10,000 testing images\n",
    "- **Classes**: Airplane, Automobile, Bird, Cat, Deer, Dog, Frog, Horse, Ship, Truck."
   ]
  },
  {
   "cell_type": "markdown",
   "metadata": {
    "id": "K09aDQNDFtPZ"
   },
   "source": [
    "\n",
    "Generated CIFAR images on iteration 300, 900, and 5700.\n",
    "\n",
    "<img src=\"./images/GAN2.png\" align=\"center\"/>"
   ]
  },
  {
   "cell_type": "markdown",
   "metadata": {
    "id": "U55iWBOvFtPa"
   },
   "source": [
    "<img src=\"https://github.com/wsko/Generative_AI/blob/main/Day-2/images/border.jpg?raw=1\" height=\"10\" width=\"1500\" align=\"center\"/>"
   ]
  },
  {
   "cell_type": "markdown",
   "metadata": {
    "id": "Oq-2ubJmFtPa"
   },
   "source": [
    "Real images on the left, generated at iteration 182,000 on the right\n",
    "\n",
    "<img src=\"./images/GAN3.png\" align=\"center\"/>"
   ]
  },
  {
   "cell_type": "markdown",
   "metadata": {
    "id": "IdvjzQG0FtPa"
   },
   "source": [
    "What happens if we scale it up?\n",
    "- CIFAR is only 32x32, so let's try Imagenet.\n",
    "- I downloaded a 150,000 image set from the Imagenet 2012 Challenge, and rescaled them all to 64x64.\n",
    "\n",
    "- Generated Imagenet images on iteration 300, 800, and 5800.\n",
    "\n",
    "<img src=\"./images/GAN4.jpeg\" width=\"500\" align=\"center\"/>\n",
    "\n",
    "\n",
    "- Real images on the left, generated at iteration 17,800 on the right\n",
    "\n",
    "<img src=\"./images/GAN5.jpeg\" width=\"500\" align=\"center\"/>\n"
   ]
  },
  {
   "cell_type": "markdown",
   "metadata": {
    "id": "Zdik3FvyFtPb"
   },
   "source": [
    "## **Genereative Adversarial Networks**\n",
    "\n",
    "\n",
    "<img src=\"./images/gan_architecture.png\" width=\"70%\"/>"
   ]
  },
  {
   "cell_type": "markdown",
   "metadata": {
    "id": "vLprbUalFtPb"
   },
   "source": [
    "<img src=\"./images/border.jpg\" height=\"10\" width=\"1500\" align=\"center\"/>"
   ]
  },
  {
   "cell_type": "code",
   "execution_count": null,
   "metadata": {
    "id": "OzaIMHIVFtPb"
   },
   "outputs": [],
   "source": [
    "import torch\n",
    "import torchvision\n",
    "import matplotlib.pyplot as plt\n",
    "from torchvision import transforms\n",
    "from torch import nn\n",
    "from torch import optim\n",
    "from tqdm import tqdm\n",
    "import numpy as np\n",
    "import torch.nn.functional as F\n",
    "torch.manual_seed(42)\n",
    "np.random.seed(42)"
   ]
  },
  {
   "cell_type": "code",
   "execution_count": null,
   "metadata": {
    "id": "z5m358MmFtPc"
   },
   "outputs": [],
   "source": [
    "device = 'cuda:0' if torch.cuda.is_available() else 'cpu'\n",
    "train_size = 0.8\n",
    "\n",
    "# Learning rate for the optimizer (affects how fast the model learns)\n",
    "lr = 2e-4\n",
    "\n",
    "# Weight decay for regularization in the optimizer (prevents overfitting by penalizing large weights)\n",
    "weight_decay = 8e-9\n",
    "\n",
    "# Beta1 parameter for the Adam optimizer (momentum term for the moving average of the gradient)\n",
    "beta1 = 0.5\n",
    "\n",
    "# Beta2 parameter for the Adam optimizer (momentum term for the moving average of the squared gradient)\n",
    "beta2 = 0.999\n",
    "\n",
    "batch_size = 256\n",
    "\n",
    "epochs = 10\n",
    "\n",
    "# Specifies how frequently to plot or visualize metrics/results (e.g., after every 10 training steps)\n",
    "plot_every = 5\n"
   ]
  },
  {
   "cell_type": "markdown",
   "metadata": {
    "id": "y_rSgB0pFtPd"
   },
   "source": [
    "## **Generator**\n",
    "\n",
    "- Its primary role is to produce or *\"generate\"* data.\n",
    "\n",
    "- **Latent Vector:** The Starting Point\n",
    "  - Generators begin with a random vector.\n",
    "  - This is similar to the latent vector used in autoencoders\n",
    "  - Acts as the seed or source from which data will be generated.\n",
    "\n",
    "- **How Does the Generator Produce Images?**\n",
    "  - Transforms the initial random vector.\n",
    "  - Uses a series of neural network layers to shape and refine this vector.\n",
    "  - The output is our target image.\n",
    "\n",
    "- **Parallels with Autoencoders**\n",
    "  - The generator's process mirrors the generative side of an autoencoder.\n",
    "  - Both start with a compressed representation (latent vector) and expand it.\n",
    "  - However, while autoencoders reconstruct from known data, generators create new data.\n",
    "\n",
    "- **Building a Generator**\n",
    "  - Many architectures can be employed.\n",
    "    - Linear neural networks are one such choice.\n",
    "  - The choice of architecture can be influenced by the dataset in use.\n",
    "\n",
    "\n",
    "In our example, we will use linear neural networks and MNIST dataset.\n"
   ]
  },
  {
   "cell_type": "code",
   "execution_count": null,
   "metadata": {
    "id": "Bhf2dk_OFtPd"
   },
   "outputs": [],
   "source": [
    "import torch.nn as nn\n",
    "\n",
    "class Generator(nn.Module):\n",
    "    def __init__(self):\n",
    "        super().__init__()\n",
    "\n",
    "        # Linear layer mapping from a 100-dimensional latent space to 256 dimensions.\n",
    "        # This will learn the first hidden layer of the generator.\n",
    "        self.linear1 = nn.Linear(100, 256)\n",
    "\n",
    "        # Batch normalization layer to stabilize and speed up training.\n",
    "        # It is applied to the 256-dimensional output from the previous layer.\n",
    "        # \"momentum\" parameter is typically set between 0.1 and 0.3 to control\n",
    "        # the amount of exponential decay applied to the running mean and variance.\n",
    "        self.bn1 = nn.BatchNorm1d(256, momentum=0.2)\n",
    "\n",
    "        # Another linear layer that upscales the feature to 512 dimensions.\n",
    "        self.linear2 = nn.Linear(256, 512)\n",
    "        # Batch normalization for the 512-dimensional vector.\n",
    "        self.bn2 = nn.BatchNorm1d(512, momentum=0.2)\n",
    "\n",
    "        # Linear layer which transforms 512 features to 1024 features.\n",
    "        self.linear3 = nn.Linear(512, 1024)\n",
    "        # Batch normalization for the 1024-dimensional vector.\n",
    "        self.bn3 = nn.BatchNorm1d(1024, momentum=0.2)\n",
    "\n",
    "        # Final linear layer which maps 1024 features to 784.\n",
    "        # Considering we are possibly dealing with 28x28 images (as 28x28 == 784),\n",
    "        # this layer will output something that can be reshaped into a 28x28 image.\n",
    "        self.linear4 = nn.Linear(1024, 784)\n",
    "\n",
    "        # Tanh activation function for the output layer.\n",
    "        # Tanh is commonly used in the output layer of a GAN generator\n",
    "        # as it maps outputs to be within the range [-1, 1].\n",
    "        self.tanh = nn.Tanh()\n",
    "\n",
    "        # LeakyReLU activation function for hidden layers with a small negative slope of 0.2.\n",
    "        # This slight negative slope allows gradients to flow even when the unit is not active,\n",
    "        # avoiding dead neurons and aiding the training process.\n",
    "        self.leaky_relu = nn.LeakyReLU(0.2)\n",
    "\n",
    "    def forward(self, input):\n",
    "        # Forward pass through the first linear layer, followed by batch normalization,\n",
    "        # and then through the LeakyReLU activation function.\n",
    "        hidden1 = self.leaky_relu(self.bn1(self.linear1(input)))\n",
    "\n",
    "        # Similarly for the second layer, the input (hidden1) passes through\n",
    "        # a linear layer, batch normalization, and LeakyReLU.\n",
    "        hidden2 = self.leaky_relu(self.bn2(self.linear2(hidden1)))\n",
    "\n",
    "        # And the third hidden layer follows the same pattern.\n",
    "        hidden3 = self.leaky_relu(self.bn3(self.linear3(hidden2)))\n",
    "\n",
    "        # The output layer maps the activations via a linear transformation,\n",
    "        # followed by a tanh activation function to squash values between -1 and 1.\n",
    "        # After that, the output is reshaped (view()) to form a batch of images.\n",
    "        # Here, [input.shape[0], 1, 28, 28] indicates [batch_size, channels, height, width].\n",
    "        generated = self.tanh(self.linear4(hidden3)).view(input.shape[0], 1, 28, 28)\n",
    "\n",
    "        # The reshaped tensor, which should now resemble images, is returned.\n",
    "        return generated\n"
   ]
  },
  {
   "cell_type": "markdown",
   "metadata": {
    "id": "0yKvpo6BFtPl"
   },
   "source": [
    "## **Enhancing Generators: A Few Tricks**\n",
    "\n",
    "Generative models often require a few tricks up their sleeves to improve stability and performance.\n",
    "\n",
    "#### 1. LeakyReLU Activation\n",
    "\n",
    "- Traditional ReLU: `f(x) = max(0, x)`\n",
    "- **LeakyReLU**: A twist on the traditional ReLU.\n",
    "  - Not strictly 0 for negative `x`.\n",
    "  - Instead, it has a small positive gradient/slope.\n",
    "  - Helps the network learn even for negative values of `x`.\n",
    "\n",
    "#### 2. BatchNorm1D\n",
    "\n",
    "- **BatchNorm1D**: A form of normalization applied to 1D inputs.\n",
    "  - Helps in stabilizing training.\n",
    "  - Can accelerate convergence.\n",
    "  - Reduces the sensitivity to initialization.\n",
    "\n",
    "#### 3. Tanh Activation for the Final Layer\n",
    "\n",
    "- The **Tanh** activation function outputs values between [-1,1].\n",
    "- Preferred for certain types of generative tasks.\n",
    "- Ensures the generated data remains within a specific range."
   ]
  },
  {
   "cell_type": "markdown",
   "metadata": {
    "id": "_GTKLjUXFtPm"
   },
   "source": [
    "## **Discriminator**\n",
    "\n",
    "Discriminator is a classical image classification network. In our first example, we will also use linear classifier."
   ]
  },
  {
   "cell_type": "code",
   "execution_count": null,
   "metadata": {
    "id": "5yWcftVcFtPm"
   },
   "outputs": [],
   "source": [
    "import torch.nn as nn\n",
    "\n",
    "class Discriminator(nn.Module):\n",
    "    def __init__(self):\n",
    "        super().__init__()\n",
    "\n",
    "        # Define the first linear layer with 784 input nodes (for a flattened 28x28 image)\n",
    "        # and 512 output nodes.\n",
    "        self.linear1 = nn.Linear(784, 512)\n",
    "\n",
    "        # Define the second linear layer that takes the 512 inputs from the previous layer\n",
    "        # and reduces the dimension to 256.\n",
    "        self.linear2 = nn.Linear(512, 256)\n",
    "\n",
    "        # The final linear layer reduces the dimensions from 256 to a single node.\n",
    "        # This single output node will output the probability of the input being real.\n",
    "        self.linear3 = nn.Linear(256, 1)\n",
    "\n",
    "        # LeakyReLU activation function with a negative slope of 0.2.\n",
    "        # This will allow for a small, non-zero output for negative input values\n",
    "        # and help to avoid dead neurons during training.\n",
    "        self.leaky_relu = nn.LeakyReLU(0.2)\n",
    "\n",
    "        # Sigmoid activation function to squash the final output between 0 and 1,\n",
    "        # allowing for binary classification (real vs. generated).\n",
    "        self.sigmoid = nn.Sigmoid()\n",
    "\n",
    "    def forward(self, input):\n",
    "        # Reshape the input image tensor into a flat tensor.\n",
    "        # input.shape[0] refers to batch size, and -1 allows the function to\n",
    "        # automatically calculate the size of the second dimension, ensuring the number\n",
    "        # of elements in the tensor remains constant.\n",
    "        input = input.view(input.shape[0], -1)\n",
    "\n",
    "        # Forward pass through the first linear layer and then through the LeakyReLU.\n",
    "        hidden1 = self.leaky_relu(self.linear1(input))\n",
    "\n",
    "        # The output from the first layer (hidden1) goes through the second linear layer\n",
    "        # and then through the LeakyReLU activation function.\n",
    "        hidden2 = self.leaky_relu(self.linear2(hidden1))\n",
    "\n",
    "        # The output (hidden2) goes through the final linear layer and then\n",
    "        # the sigmoid activation function, providing a probability of the input being\n",
    "        # a real image.\n",
    "        classified = self.sigmoid(self.linear3(hidden2))\n",
    "\n",
    "        # Return the final classification (probability of the input being real).\n",
    "        return classified\n"
   ]
  },
  {
   "cell_type": "markdown",
   "metadata": {
    "id": "My2gTV3bFtPn"
   },
   "source": [
    "## **Loading dataset**\n",
    "\n",
    "We will use MNIST dataset."
   ]
  },
  {
   "cell_type": "code",
   "execution_count": null,
   "metadata": {
    "id": "wAiD053dFtPn"
   },
   "outputs": [],
   "source": [
    "def mnist(train_part, transform=None):\n",
    "    # Download the MNIST dataset and apply the specified transformation (if any).\n",
    "    dataset = torchvision.datasets.MNIST('.', download=True, transform=transform)\n",
    "\n",
    "    # Calculate the number of samples to use for training based on the specified train_part.\n",
    "    train_part = int(train_part * len(dataset))\n",
    "\n",
    "    # Randomly split the dataset into a training dataset and a test dataset.\n",
    "    train_dataset, test_dataset = torch.utils.data.random_split(dataset, [train_part, len(dataset) - train_part])\n",
    "\n",
    "    # Return the training and test datasets.\n",
    "    return train_dataset, test_dataset"
   ]
  },
  {
   "cell_type": "code",
   "execution_count": null,
   "metadata": {
    "id": "O0Da64v4FtPo"
   },
   "outputs": [],
   "source": [
    "transform = transforms.Compose([\n",
    "                                transforms.ToTensor(),\n",
    "                                transforms.Normalize(mean=0.5, std=0.5)\n",
    "])"
   ]
  },
  {
   "cell_type": "code",
   "execution_count": null,
   "metadata": {
    "id": "bjK4gjHZFtPo"
   },
   "outputs": [],
   "source": [
    "train_dataset, test_dataset = mnist(train_size, transform)"
   ]
  },
  {
   "cell_type": "code",
   "execution_count": null,
   "metadata": {
    "id": "Q3TQPGnTFtPo"
   },
   "outputs": [],
   "source": [
    "train_dataloader = torch.utils.data.DataLoader(train_dataset, drop_last=True, batch_size=batch_size, shuffle=True)\n",
    "dataloaders = (train_dataloader, )\n",
    "\n",
    "\n",
    "# Create a DataLoader for the test dataset\n",
    "test_loader = torch.utils.data.DataLoader(test_dataset, batch_size=batch_size, shuffle=False)\n"
   ]
  },
  {
   "cell_type": "markdown",
   "metadata": {
    "id": "dGWY3WqJFtPp"
   },
   "source": [
    "## **Network training**\n",
    "\n",
    "On each step of the training, we have **two** phases:\n",
    "\n",
    "**Generator training**\n",
    "  - We generate some random vectors **noise** (training happens in minibatches, so we use 100 vectors at a time)\n",
    "  - Generate **true labels** (vector with shape (bs, 1) with 1.0 values)\n",
    "  - Calculate generator loss between output from **frozen** discriminator with noise as input and true labels.\n",
    "\n",
    "**Discriminator training**\n",
    "  - We calculate discriminator loss from **two** parts,\n",
    "    - **first** part is loss between output from discriminator with noise as input\n",
    "      - **fake labels** (vector with shape (bs, 1) with 0.0 values),\n",
    "    - **second** part is loss between output from discriminator with real images as input and true labels (vector with shape (bs, 1) with 1.0 values).\n",
    "    - **Result loss** is (first_part_loss + second_part_loss) / 2."
   ]
  },
  {
   "cell_type": "code",
   "execution_count": null,
   "metadata": {
    "id": "llxgt4H6FtPp"
   },
   "outputs": [],
   "source": [
    "def plotn(n, generator, device):\n",
    "    generator.eval()\n",
    "    noise = torch.FloatTensor(np.random.normal(0, 1, (n, 100))).to(device)\n",
    "    imgs = generator(noise).detach().cpu()\n",
    "    fig, ax = plt.subplots(1, n)\n",
    "    for i, im in enumerate(imgs):\n",
    "        ax[i].imshow(im[0])\n",
    "    plt.show()"
   ]
  },
  {
   "cell_type": "code",
   "execution_count": null,
   "metadata": {
    "id": "T6ZZlFnlFtPq"
   },
   "outputs": [],
   "source": [
    "def train_gan(dataloaders, models, optimizers, loss_fn, epochs, plot_every, device):\n",
    "    tqdm_iter = tqdm(range(epochs))\n",
    "    train_dataloader = dataloaders[0]\n",
    "\n",
    "    gen, disc = models[0], models[1]\n",
    "    optim_gen, optim_disc = optimizers[0], optimizers[1]\n",
    "\n",
    "    for epoch in tqdm_iter:\n",
    "        gen.train()\n",
    "        disc.train()\n",
    "\n",
    "        train_gen_loss = 0.0\n",
    "        train_disc_loss = 0.0\n",
    "\n",
    "        test_gen_loss = 0.0\n",
    "        test_disc_loss = 0.0\n",
    "\n",
    "        for batch in train_dataloader:\n",
    "            imgs, _ = batch\n",
    "            imgs = imgs.to(device)\n",
    "\n",
    "            disc.eval()\n",
    "            gen.zero_grad()\n",
    "\n",
    "            noise = torch.FloatTensor(np.random.normal(0.0, 1.0, (imgs.shape[0], 100))).to(device)\n",
    "            real_labels = torch.ones((imgs.shape[0], 1)).to(device)\n",
    "            fake_labels = torch.zeros((imgs.shape[0], 1)).to(device)\n",
    "\n",
    "            generated = gen(noise)\n",
    "            disc_preds = disc(generated)\n",
    "\n",
    "            g_loss = loss_fn(disc_preds, real_labels)\n",
    "            g_loss.backward()\n",
    "            optim_gen.step()\n",
    "\n",
    "            disc.train()\n",
    "            disc.zero_grad()\n",
    "\n",
    "            disc_real = disc(imgs)\n",
    "            disc_real_loss = loss_fn(disc_real, real_labels)\n",
    "\n",
    "            disc_fake = disc(generated.detach())\n",
    "            disc_fake_loss = loss_fn(disc_fake, fake_labels)\n",
    "\n",
    "            d_loss = (disc_real_loss + disc_fake_loss) / 2.0\n",
    "            d_loss.backward()\n",
    "            optim_disc.step()\n",
    "\n",
    "            train_gen_loss += g_loss.item()\n",
    "            train_disc_loss += d_loss.item()\n",
    "\n",
    "        train_gen_loss /= len(train_dataloader)\n",
    "        train_disc_loss /= len(train_dataloader)\n",
    "\n",
    "        if epoch % plot_every == 0 or epoch == epochs - 1:\n",
    "            plotn(5, gen, device)\n",
    "\n",
    "        tqdm_dct = {'generator loss:': train_gen_loss, 'discriminator loss:': train_disc_loss}\n",
    "        tqdm_iter.set_postfix(tqdm_dct, refresh=True)\n",
    "        tqdm_iter.refresh()"
   ]
  },
  {
   "cell_type": "code",
   "execution_count": null,
   "metadata": {
    "id": "WPpsZiuBFtPq"
   },
   "outputs": [],
   "source": [
    "generator = Generator().to(device)\n",
    "discriminator = Discriminator().to(device)\n",
    "optimizer_generator = optim.Adam(generator.parameters(), lr=lr, weight_decay=weight_decay, betas=(beta1, beta2))\n",
    "optimizer_discriminator = optim.Adam(discriminator.parameters(), lr=lr, weight_decay=weight_decay, betas=(beta1, beta2))\n",
    "loss_fn = nn.BCELoss()\n",
    "\n",
    "models = (generator, discriminator)\n",
    "optimizers = (optimizer_generator, optimizer_discriminator)"
   ]
  },
  {
   "cell_type": "code",
   "execution_count": null,
   "metadata": {
    "id": "in51VuJEFtPr"
   },
   "outputs": [],
   "source": [
    "train_gan(dataloaders, models, optimizers, loss_fn, epochs, plot_every, device)"
   ]
  },
  {
   "cell_type": "code",
   "execution_count": null,
   "metadata": {
    "id": "i6hJPhiCFtPs"
   },
   "outputs": [],
   "source": [
    "print(models)"
   ]
  },
  {
   "cell_type": "markdown",
   "metadata": {
    "id": "EO7TLYMwFtPs"
   },
   "source": [
    "<img src=\"./images/border.jpg\" height=\"10\" width=\"1500\" align=\"center\"/>"
   ]
  },
  {
   "cell_type": "markdown",
   "metadata": {
    "id": "jt0Az_NJFtPs"
   },
   "source": [
    "## **Hands on: Parameter Tuning**\n",
    "\n",
    "- Experiment with different parameters including:\n",
    "  - Learning rates for the generator and discriminator.\n",
    "  - Different loss functions.\n",
    "  - Different optimizer (e.g., SGD, Adam)."
   ]
  },
  {
   "cell_type": "code",
   "execution_count": null,
   "metadata": {
    "id": "_vqvJSAiFtPs"
   },
   "outputs": [],
   "source": [
    "# Hyperparameter sets to try\n",
    "learning_rates = [1e-2, 1e-3, 1e-4]\n",
    "optimizers = [torch.optim.SGD, torch.optim.Adam]\n",
    "loss_fns = [nn.BCELoss(), nn.MSELoss()]\n",
    "\n",
    "import torch\n",
    "import torch.optim as optim\n",
    "from torch.utils.data import DataLoader\n",
    "\n"
   ]
  },
  {
   "cell_type": "code",
   "execution_count": null,
   "metadata": {
    "id": "FKnZOu2AahoH"
   },
   "outputs": [],
   "source": [
    "# Training Loop\n",
    "for lr in learning_rates:\n",
    "    for opt in optimizers:\n",
    "        for loss_fn in loss_fns:\n",
    "            train_dataloader = DataLoader(train_dataset, drop_last=True, batch_size=batch_size, shuffle=True)\n",
    "            dataloaders = (train_dataloader, )\n",
    "\n",
    "            # Create a DataLoader for the test dataset\n",
    "            test_loader = DataLoader(test_dataset, batch_size=batch_size, shuffle=False)\n",
    "\n",
    "            print(f'Testing with lr={lr}, optimizer={opt.__name__}, loss_fn={loss_fn}')\n",
    "            generator = Generator().to(device)\n",
    "            discriminator = Discriminator().to(device)\n",
    "\n",
    "            # Instantiate the optimizers\n",
    "            optimizer_generator = opt(generator.parameters(), lr=lr)\n",
    "            optimizer_discriminator = opt(discriminator.parameters(), lr=lr)\n",
    "\n",
    "            models = (generator, discriminator)\n",
    "            optimizers = (optimizer_generator, optimizer_discriminator)\n",
    "            train_gan(dataloaders, models, optimizers, loss_fn, epochs, plot_every, device)\n"
   ]
  },
  {
   "cell_type": "markdown",
   "metadata": {
    "id": "-IpxqD0NFtPt"
   },
   "source": [
    "<img src=\"./images/border.jpg\" height=\"10\" width=\"1500\" align=\"center\"/>"
   ]
  },
  {
   "cell_type": "markdown",
   "metadata": {
    "id": "9ZWahzsEFtPt"
   },
   "source": [
    "## DCGAN\n",
    "\n",
    "**Deep Convolutional GAN** is pretty obvious idea of using convolutional layers for generator and discriminator. The main difference here is using **Conv2DTranspose** layer in the generator.\n",
    "\n",
    "\n",
    "\n",
    "**Deep Convolutional GAN (DCGAN)** uses **transposed convolutional layers** to upscale the feature maps.\n",
    "\n",
    "### What is Conv2DTranspose?\n",
    "\n",
    "- A layer that performs the opposite of a convolution.\n",
    "- Often called **\"deconvolution\"** (but note: it's not the mathematical inverse of convolution).\n",
    "- Expands spatial dimensions: ⬜⬜ => 🔳🔳🔳🔳\n",
    "\n",
    "### Why use it in DCGAN?\n",
    "\n",
    "- **Generator** of DCGAN starts with a small spatial size (e.g., 1x1 or 4x4) and expands to the desired output size (e.g., 64x64).\n",
    "- Transposed convolutions allow for **upsampling** feature maps while learning spatial distributions."
   ]
  },
  {
   "cell_type": "markdown",
   "metadata": {
    "id": "5rzZPw3WFtPu"
   },
   "source": [
    "<img src=\"./images/dcgan_generator.png\" width=\"60%\"/>\n",
    "\n",
    "> Image from [this tutorial](https://pytorch.org/tutorials/beginner/dcgan_faces_tutorial.html)"
   ]
  },
  {
   "cell_type": "code",
   "execution_count": null,
   "metadata": {
    "id": "fQPdLyWCFtPu"
   },
   "outputs": [],
   "source": [
    "class DCGenerator(nn.Module):\n",
    "    def __init__(self):\n",
    "        super().__init__()\n",
    "        self.conv1 = nn.ConvTranspose2d(100, 256, kernel_size=(3, 3), stride=(2, 2), bias=False)\n",
    "        self.bn1 = nn.BatchNorm2d(256)\n",
    "        self.conv2 = nn.ConvTranspose2d(256, 128, kernel_size=(3, 3), stride=(2, 2), bias=False)\n",
    "        self.bn2 = nn.BatchNorm2d(128)\n",
    "        self.conv3 = nn.ConvTranspose2d(128, 64, kernel_size=(3, 3), stride=(2, 2), bias=False)\n",
    "        self.bn3 = nn.BatchNorm2d(64)\n",
    "        self.conv4 = nn.ConvTranspose2d(64, 1, kernel_size=(3, 3), stride=(2, 2), padding=(2, 2), output_padding=(1, 1), bias=False)\n",
    "        self.tanh = nn.Tanh()\n",
    "        self.relu = nn.ReLU()\n",
    "\n",
    "    def forward(self, input):\n",
    "        hidden1 = self.relu(self.bn1(self.conv1(input)))\n",
    "        hidden2 = self.relu(self.bn2(self.conv2(hidden1)))\n",
    "        hidden3 = self.relu(self.bn3(self.conv3(hidden2)))\n",
    "        generated = self.tanh(self.conv4(hidden3)).view(input.shape[0], 1, 28, 28)\n",
    "        return generated"
   ]
  },
  {
   "cell_type": "code",
   "execution_count": null,
   "metadata": {
    "id": "vb00X9jYFtPv"
   },
   "outputs": [],
   "source": [
    "class DCDiscriminator(nn.Module):\n",
    "    def __init__(self):\n",
    "        super().__init__()\n",
    "        self.conv1 = nn.Conv2d(1, 64, kernel_size=(4, 4), stride=(2, 2), padding=(1, 1), bias=False)\n",
    "        self.conv2 = nn.Conv2d(64, 128, kernel_size=(4, 4), stride=(2, 2), padding=(1, 1), bias=False)\n",
    "        self.bn2 = nn.BatchNorm2d(128)\n",
    "        self.conv3 = nn.Conv2d(128, 256, kernel_size=(4, 4), stride=(2, 2), padding=(1, 1), bias=False)\n",
    "        self.bn3 = nn.BatchNorm2d(256)\n",
    "        self.conv4 = nn.Conv2d(256, 1, kernel_size=(4, 4), stride=(2, 2), padding=(1, 1), bias=False)\n",
    "        self.leaky_relu = nn.LeakyReLU(0.2)\n",
    "        self.sigmoid = nn.Sigmoid()\n",
    "\n",
    "    def forward(self, input):\n",
    "        hidden1 = self.leaky_relu(self.conv1(input))\n",
    "        hidden2 = self.leaky_relu(self.bn2(self.conv2(hidden1)))\n",
    "        hidden3 = self.leaky_relu(self.bn3(self.conv3(hidden2)))\n",
    "        classified = self.sigmoid(self.conv4(hidden3)).view(input.shape[0], -1)\n",
    "        return classified"
   ]
  },
  {
   "cell_type": "markdown",
   "metadata": {
    "id": "5crWFUayFtPw"
   },
   "source": [
    "Weights initialization from [DCGAN](https://arxiv.org/pdf/1511.06434.pdf) paper."
   ]
  },
  {
   "cell_type": "code",
   "execution_count": null,
   "metadata": {
    "id": "-yB1iuvAFtPw"
   },
   "outputs": [],
   "source": [
    "def weights_init(model):\n",
    "    classname = model.__class__.__name__\n",
    "    if classname.find('Conv') != -1:\n",
    "        nn.init.normal_(model.weight.data, 0.0, 0.02)\n",
    "    elif classname.find('BatchNorm') != -1:\n",
    "        nn.init.normal_(model.weight.data, 1.0, 0.02)\n",
    "        nn.init.constant_(model.bias.data, 0)"
   ]
  },
  {
   "cell_type": "code",
   "execution_count": null,
   "metadata": {
    "id": "16L7NOL2FtPx"
   },
   "outputs": [],
   "source": [
    "transform = transforms.Compose([\n",
    "                                transforms.ToTensor(),\n",
    "])"
   ]
  },
  {
   "cell_type": "code",
   "execution_count": null,
   "metadata": {
    "id": "EEecCwGOFtPx"
   },
   "outputs": [],
   "source": [
    "train_dataset, test_dataset = mnist(0.2*train_size, transform)\n",
    "train_dataloader = torch.utils.data.DataLoader(train_dataset, drop_last=True, batch_size=batch_size, shuffle=True)\n",
    "dataloaders = (train_dataloader, )"
   ]
  },
  {
   "cell_type": "code",
   "execution_count": null,
   "metadata": {
    "id": "SRe1MvBNFtPx"
   },
   "outputs": [],
   "source": [
    "generator = DCGenerator().to(device)\n",
    "generator.apply(weights_init)\n",
    "discriminator = DCDiscriminator().to(device)\n",
    "discriminator.apply(weights_init)\n",
    "optimizer_generator = optim.Adam(generator.parameters(), lr=lr, weight_decay=weight_decay, betas=(beta1, beta2))\n",
    "optimizer_discriminator = optim.Adam(discriminator.parameters(), lr=lr, weight_decay=weight_decay, betas=(beta1, beta2))\n",
    "loss_fn = nn.BCELoss()\n",
    "\n",
    "models = (generator, discriminator)\n",
    "optimizers = (optimizer_generator, optimizer_discriminator)"
   ]
  },
  {
   "cell_type": "code",
   "execution_count": null,
   "metadata": {
    "id": "NLKwM_K7FtPy"
   },
   "outputs": [],
   "source": [
    "def dcplotn(n, generator, device):\n",
    "    generator.eval()\n",
    "    noise = torch.FloatTensor(np.random.normal(0, 1, (n, 100, 1, 1))).to(device)\n",
    "    imgs = generator(noise).detach().cpu()\n",
    "    fig, ax = plt.subplots(1, n)\n",
    "    for i, im in enumerate(imgs):\n",
    "        ax[i].imshow(im[0])\n",
    "    plt.show()"
   ]
  },
  {
   "cell_type": "code",
   "execution_count": null,
   "metadata": {
    "id": "PNa_rJhbFtPy"
   },
   "outputs": [],
   "source": [
    "def train_dcgan(dataloaders, models, optimizers, loss_fn, epochs, plot_every, device):\n",
    "    tqdm_iter = tqdm(range(epochs))\n",
    "    train_dataloader = dataloaders[0]\n",
    "\n",
    "    gen, disc = models[0], models[1]\n",
    "    optim_gen, optim_disc = optimizers[0], optimizers[1]\n",
    "\n",
    "    gen.train()\n",
    "    disc.train()\n",
    "\n",
    "    for epoch in tqdm_iter:\n",
    "        train_gen_loss = 0.0\n",
    "        train_disc_loss = 0.0\n",
    "\n",
    "        test_gen_loss = 0.0\n",
    "        test_disc_loss = 0.0\n",
    "\n",
    "        for batch in train_dataloader:\n",
    "            imgs, _ = batch\n",
    "            imgs = imgs.to(device)\n",
    "            imgs = 2.0 * imgs - 1.0\n",
    "\n",
    "            gen.zero_grad()\n",
    "\n",
    "            noise = torch.FloatTensor(np.random.normal(0.0, 1.0, (imgs.shape[0], 100, 1, 1))).to(device)\n",
    "            real_labels = torch.ones((imgs.shape[0], 1)).to(device)\n",
    "            fake_labels = torch.zeros((imgs.shape[0], 1)).to(device)\n",
    "\n",
    "            generated = gen(noise)\n",
    "            disc_preds = disc(generated)\n",
    "\n",
    "            g_loss = loss_fn(disc_preds, real_labels)\n",
    "            g_loss.backward()\n",
    "            optim_gen.step()\n",
    "\n",
    "            disc.zero_grad()\n",
    "\n",
    "            disc_real = disc(imgs)\n",
    "            disc_real_loss = loss_fn(disc_real, real_labels)\n",
    "\n",
    "            disc_fake = disc(generated.detach())\n",
    "            disc_fake_loss = loss_fn(disc_fake, fake_labels)\n",
    "\n",
    "            d_loss = (disc_real_loss + disc_fake_loss) / 2.0\n",
    "            d_loss.backward()\n",
    "            optim_disc.step()\n",
    "\n",
    "            train_gen_loss += g_loss.item()\n",
    "            train_disc_loss += d_loss.item()\n",
    "\n",
    "        train_gen_loss /= len(train_dataloader)\n",
    "        train_disc_loss /= len(train_dataloader)\n",
    "\n",
    "        if epoch % plot_every == 0 or epoch == epochs - 1:\n",
    "            dcplotn(5, gen, device)\n",
    "\n",
    "        tqdm_dct = {'generator loss:': train_gen_loss, 'discriminator loss:': train_disc_loss}\n",
    "        tqdm_iter.set_postfix(tqdm_dct, refresh=True)\n",
    "        tqdm_iter.refresh()"
   ]
  },
  {
   "cell_type": "code",
   "execution_count": null,
   "metadata": {
    "id": "N5y8sw9bFtPy"
   },
   "outputs": [],
   "source": [
    "train_dcgan(dataloaders, models, optimizers, loss_fn, epochs // 2, plot_every // 2, device)"
   ]
  },
  {
   "cell_type": "code",
   "execution_count": null,
   "metadata": {
    "id": "2JQ2wOLQFtPz"
   },
   "outputs": [],
   "source": [
    "generator.eval()\n",
    "dcplotn(5, generator, device)"
   ]
  }
 ],
 "metadata": {
  "colab": {
   "provenance": []
  },
  "kernelspec": {
   "display_name": "Python 3 (ipykernel)",
   "language": "python",
   "name": "python3"
  },
  "language_info": {
   "codemirror_mode": {
    "name": "ipython",
    "version": 3
   },
   "file_extension": ".py",
   "mimetype": "text/x-python",
   "name": "python",
   "nbconvert_exporter": "python",
   "pygments_lexer": "ipython3",
   "version": "3.7.9"
  },
  "vscode": {
   "interpreter": {
    "hash": "b0fa6594d8f4cbf19f97940f81e996739fb7646882a419484c72d19e05852a7e"
   }
  }
 },
 "nbformat": 4,
 "nbformat_minor": 1
}
